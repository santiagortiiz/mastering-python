{
 "cells": [
  {
   "cell_type": "code",
   "execution_count": 1,
   "metadata": {},
   "outputs": [],
   "source": [
    "from pathlib import Path"
   ]
  },
  {
   "cell_type": "markdown",
   "metadata": {},
   "source": [
    "### Define the working path"
   ]
  },
  {
   "cell_type": "code",
   "execution_count": 2,
   "metadata": {},
   "outputs": [],
   "source": [
    "path = Path('D:/Laboral/Iota Impact/Projects/Kendra files/metadata')"
   ]
  },
  {
   "cell_type": "markdown",
   "metadata": {},
   "source": [
    "### Navigating"
   ]
  },
  {
   "cell_type": "code",
   "execution_count": 3,
   "metadata": {},
   "outputs": [
    {
     "data": {
      "text/plain": [
       "WindowsPath('D:/Laboral/Iota Impact/Projects/Kendra files/metadata/partners')"
      ]
     },
     "execution_count": 3,
     "metadata": {},
     "output_type": "execute_result"
    }
   ],
   "source": [
    "partners_directory = path / 'partners'\n",
    "partners_directory"
   ]
  },
  {
   "cell_type": "markdown",
   "metadata": {},
   "source": [
    "### List directories in the path"
   ]
  },
  {
   "cell_type": "code",
   "execution_count": 4,
   "metadata": {},
   "outputs": [
    {
     "data": {
      "text/plain": [
       "[WindowsPath('D:/Laboral/Iota Impact/Projects/Kendra files/metadata/dashboards'),\n",
       " WindowsPath('D:/Laboral/Iota Impact/Projects/Kendra files/metadata/partners'),\n",
       " WindowsPath('D:/Laboral/Iota Impact/Projects/Kendra files/metadata/reports'),\n",
       " WindowsPath('D:/Laboral/Iota Impact/Projects/Kendra files/metadata/template.metadata.json')]"
      ]
     },
     "execution_count": 4,
     "metadata": {},
     "output_type": "execute_result"
    }
   ],
   "source": [
    "[x for x in path.iterdir()]"
   ]
  },
  {
   "cell_type": "markdown",
   "metadata": {},
   "source": [
    "### Filtering"
   ]
  },
  {
   "cell_type": "code",
   "execution_count": 5,
   "metadata": {},
   "outputs": [
    {
     "data": {
      "text/plain": [
       "[WindowsPath('D:/Laboral/Iota Impact/Projects/Kendra files/metadata/partners/p1.txt.metadata.json'),\n",
       " WindowsPath('D:/Laboral/Iota Impact/Projects/Kendra files/metadata/partners/p2.txt.metadata.json'),\n",
       " WindowsPath('D:/Laboral/Iota Impact/Projects/Kendra files/metadata/partners/p3.txt.metadata.json'),\n",
       " WindowsPath('D:/Laboral/Iota Impact/Projects/Kendra files/metadata/partners/p4.txt.metadata.json')]"
      ]
     },
     "execution_count": 5,
     "metadata": {},
     "output_type": "execute_result"
    }
   ],
   "source": [
    "json_files = list(path.glob('partners/*.json'))\n",
    "json_files"
   ]
  },
  {
   "cell_type": "markdown",
   "metadata": {},
   "source": [
    "### Useful Methods over items"
   ]
  },
  {
   "cell_type": "code",
   "execution_count": 6,
   "metadata": {},
   "outputs": [
    {
     "data": {
      "text/plain": [
       "WindowsPath('D:/Laboral/Iota Impact/Projects/Kendra files/metadata/partners/p1.txt.metadata.json')"
      ]
     },
     "execution_count": 6,
     "metadata": {},
     "output_type": "execute_result"
    }
   ],
   "source": [
    "sample_file = json_files[0]\n",
    "sample_file"
   ]
  },
  {
   "cell_type": "code",
   "execution_count": 7,
   "metadata": {},
   "outputs": [
    {
     "name": "stdout",
     "output_type": "stream",
     "text": [
      "D:\\Laboral\\Iota Impact\\Projects\\Kendra files\\metadata\\partners\\p1.txt.metadata.json\n"
     ]
    }
   ],
   "source": [
    "print(sample_file)"
   ]
  },
  {
   "cell_type": "code",
   "execution_count": 8,
   "metadata": {},
   "outputs": [
    {
     "data": {
      "text/plain": [
       "'p1.txt.metadata'"
      ]
     },
     "execution_count": 8,
     "metadata": {},
     "output_type": "execute_result"
    }
   ],
   "source": [
    "# final path component without suffix\n",
    "sample_file.stem"
   ]
  },
  {
   "cell_type": "code",
   "execution_count": 9,
   "metadata": {},
   "outputs": [
    {
     "data": {
      "text/plain": [
       "'.json'"
      ]
     },
     "execution_count": 9,
     "metadata": {},
     "output_type": "execute_result"
    }
   ],
   "source": [
    "sample_file.suffix"
   ]
  },
  {
   "cell_type": "code",
   "execution_count": 10,
   "metadata": {},
   "outputs": [
    {
     "data": {
      "text/plain": [
       "'p1.txt.metadata.json'"
      ]
     },
     "execution_count": 10,
     "metadata": {},
     "output_type": "execute_result"
    }
   ],
   "source": [
    "sample_file.stem + sample_file.suffix"
   ]
  },
  {
   "cell_type": "code",
   "execution_count": 19,
   "metadata": {},
   "outputs": [
    {
     "data": {
      "text/plain": [
       "'p1.txt.metadata.json'"
      ]
     },
     "execution_count": 19,
     "metadata": {},
     "output_type": "execute_result"
    }
   ],
   "source": [
    "sample_file.name"
   ]
  },
  {
   "cell_type": "markdown",
   "metadata": {},
   "source": [
    "## Reading JSON file"
   ]
  },
  {
   "cell_type": "code",
   "execution_count": 79,
   "metadata": {},
   "outputs": [],
   "source": [
    "import json"
   ]
  },
  {
   "cell_type": "code",
   "execution_count": 104,
   "metadata": {},
   "outputs": [
    {
     "name": "stdout",
     "output_type": "stream",
     "text": [
      "{\n",
      "  \"Attributes\": {\n",
      "    \"_category\": \"partner\",\n",
      "    \"industry\": \"food and beverage\",\n",
      "    \"sub_industries\": [\n",
      "      \"dairy product manufacturing\",\n",
      "      \"meat and meat product merchant wholesalers\"\n",
      "    ],\n",
      "    \"naics_codes\": [\n",
      "      \"3115\",\n",
      "      \"42447\"\n",
      "    ]\n",
      "  },\n",
      "  \"Title\": \"Food and Beverages\",\n",
      "  \"ContentType\": \"PDF\"\n",
      "}\n"
     ]
    }
   ],
   "source": [
    "data = {}\n",
    "with sample_file.open() as json_file:\n",
    "     data = json.load(json_file)\n",
    "print(json.dumps(data, indent=2))"
   ]
  }
 ],
 "metadata": {
  "kernelspec": {
   "display_name": "Python 3 (ipykernel)",
   "language": "python",
   "name": "python3"
  },
  "language_info": {
   "codemirror_mode": {
    "name": "ipython",
    "version": 3
   },
   "file_extension": ".py",
   "mimetype": "text/x-python",
   "name": "python",
   "nbconvert_exporter": "python",
   "pygments_lexer": "ipython3",
   "version": "3.9.7"
  }
 },
 "nbformat": 4,
 "nbformat_minor": 4
}
