{
 "cells": [
  {
   "cell_type": "markdown",
   "id": "547b9483",
   "metadata": {},
   "source": [
    "# 1. Sample data"
   ]
  },
  {
   "cell_type": "code",
   "execution_count": 1,
   "id": "63a75b5f",
   "metadata": {},
   "outputs": [],
   "source": [
    "items_1 = 'aaabbbcccdeeeffgggh'\n",
    "items_2 = 'abcbac'\n",
    "items_3 = 'cccbabad'"
   ]
  },
  {
   "cell_type": "markdown",
   "id": "3f8a80e1",
   "metadata": {},
   "source": [
    "# 2. Count each item of the string"
   ]
  },
  {
   "cell_type": "markdown",
   "id": "b306febb",
   "metadata": {},
   "source": [
    "### Without libraries"
   ]
  },
  {
   "cell_type": "code",
   "execution_count": 2,
   "id": "27641810",
   "metadata": {},
   "outputs": [],
   "source": [
    "def first_non_repeated_character(items):\n",
    "    d = {}\n",
    "    \n",
    "    for i in items:\n",
    "        if not i in d:\n",
    "            d[i] = 1            \n",
    "        else:\n",
    "            d[i] += 1\n",
    "        \n",
    "    return d"
   ]
  },
  {
   "cell_type": "code",
   "execution_count": 3,
   "id": "b63d7f32",
   "metadata": {},
   "outputs": [
    {
     "data": {
      "text/plain": [
       "{'a': 3, 'b': 3, 'c': 3, 'd': 1, 'e': 3, 'f': 2, 'g': 3, 'h': 1}"
      ]
     },
     "execution_count": 3,
     "metadata": {},
     "output_type": "execute_result"
    }
   ],
   "source": [
    "first_non_repeated_character(items_1)"
   ]
  },
  {
   "cell_type": "markdown",
   "id": "fbad3d19",
   "metadata": {},
   "source": [
    "### Using the library: collections"
   ]
  },
  {
   "cell_type": "code",
   "execution_count": 4,
   "id": "7a8765f7",
   "metadata": {},
   "outputs": [],
   "source": [
    "from collections import Counter"
   ]
  },
  {
   "cell_type": "code",
   "execution_count": 5,
   "id": "d3b706ea",
   "metadata": {},
   "outputs": [
    {
     "data": {
      "text/plain": [
       "Counter({'a': 3, 'b': 3, 'c': 3, 'd': 1, 'e': 3, 'f': 2, 'g': 3, 'h': 1})"
      ]
     },
     "execution_count": 5,
     "metadata": {},
     "output_type": "execute_result"
    }
   ],
   "source": [
    "counter = Counter(items_1)\n",
    "counter"
   ]
  },
  {
   "cell_type": "markdown",
   "id": "eb219d41",
   "metadata": {},
   "source": [
    "# 3. Search the first non repeated character"
   ]
  },
  {
   "cell_type": "code",
   "execution_count": 6,
   "id": "8c0fa8b9",
   "metadata": {},
   "outputs": [
    {
     "data": {
      "text/plain": [
       "['d', 'h']"
      ]
     },
     "execution_count": 6,
     "metadata": {},
     "output_type": "execute_result"
    }
   ],
   "source": [
    "# Build a list with the keys that have the minimal values in the dictionary\n",
    "min_value = min(counter.values())\n",
    "keys_with_min_value = [key for key, value in counter.items() if value==min_value]\n",
    "keys_with_min_value"
   ]
  },
  {
   "cell_type": "code",
   "execution_count": 7,
   "id": "e32c4eb0",
   "metadata": {},
   "outputs": [
    {
     "data": {
      "text/plain": [
       "'d'"
      ]
     },
     "execution_count": 7,
     "metadata": {},
     "output_type": "execute_result"
    }
   ],
   "source": [
    "character = None\n",
    "\n",
    "for i in items_1:\n",
    "    if i in keys_with_min_value:\n",
    "        character = i\n",
    "        break\n",
    "\n",
    "character"
   ]
  }
 ],
 "metadata": {
  "kernelspec": {
   "display_name": "Python 3 (ipykernel)",
   "language": "python",
   "name": "python3"
  },
  "language_info": {
   "codemirror_mode": {
    "name": "ipython",
    "version": 3
   },
   "file_extension": ".py",
   "mimetype": "text/x-python",
   "name": "python",
   "nbconvert_exporter": "python",
   "pygments_lexer": "ipython3",
   "version": "3.9.7"
  }
 },
 "nbformat": 4,
 "nbformat_minor": 5
}
