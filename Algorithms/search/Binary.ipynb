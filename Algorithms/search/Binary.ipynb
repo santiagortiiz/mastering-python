{
 "cells": [
  {
   "cell_type": "markdown",
   "id": "ddd0705d",
   "metadata": {},
   "source": [
    "# Binary Search"
   ]
  },
  {
   "cell_type": "code",
   "execution_count": 1,
   "id": "c8bff740",
   "metadata": {},
   "outputs": [],
   "source": [
    "def binary_search(items, target, start, end):\n",
    "    \n",
    "    print(items[start:end])\n",
    "    \n",
    "    if start > end:\n",
    "        return False\n",
    "    \n",
    "    mid_index = (start + end) // 2\n",
    "    \n",
    "    if items[mid_index] == target:\n",
    "        return True\n",
    "    \n",
    "    elif items[mid_index] < target:\n",
    "        return binary_search(items, target, mid_index + 1, end)\n",
    "        \n",
    "    elif items[mid_index] > target:\n",
    "        return binary_search(items, target, start, mid_index - 1)"
   ]
  },
  {
   "cell_type": "code",
   "execution_count": 2,
   "id": "cc392bb1",
   "metadata": {},
   "outputs": [],
   "source": [
    "from random import randint"
   ]
  },
  {
   "cell_type": "code",
   "execution_count": 3,
   "id": "41a97806",
   "metadata": {},
   "outputs": [
    {
     "name": "stdout",
     "output_type": "stream",
     "text": [
      "[20, 28, 31, 31, 35, 40, 42, 42, 54, 54, 57, 59, 63, 64, 67, 73, 85, 87, 87, 95]\n"
     ]
    }
   ],
   "source": [
    "size = 20\n",
    "items = [randint(0, 100) for i in range(size)]\n",
    "items = sorted(items)\n",
    "print(items)"
   ]
  },
  {
   "cell_type": "code",
   "execution_count": 4,
   "id": "3d5858f6",
   "metadata": {},
   "outputs": [
    {
     "name": "stdout",
     "output_type": "stream",
     "text": [
      "Target: 35\n"
     ]
    }
   ],
   "source": [
    "target = items[randint(0, size)]\n",
    "print(f'Target: {target}')"
   ]
  },
  {
   "cell_type": "code",
   "execution_count": 5,
   "id": "ee3f1566",
   "metadata": {},
   "outputs": [
    {
     "name": "stdout",
     "output_type": "stream",
     "text": [
      "[20, 28, 31, 31, 35, 40, 42, 42, 54, 54, 57, 59, 63, 64, 67, 73, 85, 87, 87, 95]\n",
      "[20, 28, 31, 31, 35, 40, 42, 42, 54]\n"
     ]
    },
    {
     "data": {
      "text/plain": [
       "True"
      ]
     },
     "execution_count": 5,
     "metadata": {},
     "output_type": "execute_result"
    }
   ],
   "source": [
    "start = 0\n",
    "end = len(items)\n",
    "binary_search(items, target, start, end)"
   ]
  },
  {
   "cell_type": "code",
   "execution_count": null,
   "id": "d7392703",
   "metadata": {},
   "outputs": [],
   "source": []
  }
 ],
 "metadata": {
  "kernelspec": {
   "display_name": "Python 3 (ipykernel)",
   "language": "python",
   "name": "python3"
  },
  "language_info": {
   "codemirror_mode": {
    "name": "ipython",
    "version": 3
   },
   "file_extension": ".py",
   "mimetype": "text/x-python",
   "name": "python",
   "nbconvert_exporter": "python",
   "pygments_lexer": "ipython3",
   "version": "3.9.7"
  }
 },
 "nbformat": 4,
 "nbformat_minor": 5
}
