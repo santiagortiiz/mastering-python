{
 "cells": [
  {
   "cell_type": "markdown",
   "id": "a77b1924",
   "metadata": {},
   "source": [
    "# Linear Search"
   ]
  },
  {
   "cell_type": "code",
   "execution_count": 3,
   "id": "9e009fe2",
   "metadata": {},
   "outputs": [],
   "source": [
    "# O(n)\n",
    "def linear_search(items, target):\n",
    "    match = False # O(1)\n",
    "    \n",
    "    for i in items: # O(n)\n",
    "        if i == target:\n",
    "            match = True\n",
    "            break\n",
    "    \n",
    "    return match"
   ]
  },
  {
   "cell_type": "code",
   "execution_count": 5,
   "id": "c37b9e2c",
   "metadata": {},
   "outputs": [
    {
     "data": {
      "text/plain": [
       "True"
      ]
     },
     "execution_count": 5,
     "metadata": {},
     "output_type": "execute_result"
    }
   ],
   "source": [
    "items = [1,2,3]\n",
    "linear_search(items, 1)"
   ]
  },
  {
   "cell_type": "code",
   "execution_count": null,
   "id": "c9b05a43",
   "metadata": {},
   "outputs": [],
   "source": []
  }
 ],
 "metadata": {
  "kernelspec": {
   "display_name": "Python 3 (ipykernel)",
   "language": "python",
   "name": "python3"
  },
  "language_info": {
   "codemirror_mode": {
    "name": "ipython",
    "version": 3
   },
   "file_extension": ".py",
   "mimetype": "text/x-python",
   "name": "python",
   "nbconvert_exporter": "python",
   "pygments_lexer": "ipython3",
   "version": "3.9.7"
  }
 },
 "nbformat": 4,
 "nbformat_minor": 5
}
