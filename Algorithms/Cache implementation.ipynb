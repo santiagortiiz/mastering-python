{
 "cells": [
  {
   "cell_type": "code",
   "execution_count": 1,
   "metadata": {},
   "outputs": [],
   "source": [
    "import time\n",
    "seconds = 3\n",
    "\n",
    "# Callers can only provide two parameters and optionally pass _cache\n",
    "# by keyword (could also be a global var).\n",
    "def expensive(arg1, arg2, *, _cache={}):\n",
    "    # Store the tuple \"(arg1, arg2)\" as a key in the cache\n",
    "    if (arg1, arg2) in _cache:\n",
    "        return _cache[(arg1, arg2)]\n",
    "\n",
    "    # Run expensive operation\n",
    "    time.sleep(seconds)\n",
    "    result = arg1 + arg2\n",
    "\n",
    "    # Store result in the cache\n",
    "    _cache[(arg1, arg2)] = result\n",
    "    return result"
   ]
  },
  {
   "cell_type": "code",
   "execution_count": 2,
   "metadata": {},
   "outputs": [
    {
     "name": "stdout",
     "output_type": "stream",
     "text": [
      "without cache take: 3s\n"
     ]
    },
    {
     "data": {
      "text/plain": [
       "3"
      ]
     },
     "execution_count": 2,
     "metadata": {},
     "output_type": "execute_result"
    }
   ],
   "source": [
    "print(f\"without cache takes: {seconds}s\")\n",
    "expensive(1, 2)"
   ]
  },
  {
   "cell_type": "code",
   "execution_count": 3,
   "metadata": {},
   "outputs": [
    {
     "name": "stdout",
     "output_type": "stream",
     "text": [
      "with cache is inmediately\n"
     ]
    },
    {
     "data": {
      "text/plain": [
       "3"
      ]
     },
     "execution_count": 3,
     "metadata": {},
     "output_type": "execute_result"
    }
   ],
   "source": [
    "print(\"with cache is inmediately\")\n",
    "expensive(1, 2)"
   ]
  }
 ],
 "metadata": {
  "kernelspec": {
   "display_name": ".venv",
   "language": "python",
   "name": "python3"
  },
  "language_info": {
   "codemirror_mode": {
    "name": "ipython",
    "version": 3
   },
   "file_extension": ".py",
   "mimetype": "text/x-python",
   "name": "python",
   "nbconvert_exporter": "python",
   "pygments_lexer": "ipython3",
   "version": "3.12.0"
  }
 },
 "nbformat": 4,
 "nbformat_minor": 2
}
