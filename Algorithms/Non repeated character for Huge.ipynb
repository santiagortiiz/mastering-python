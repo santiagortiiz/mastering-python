{
 "cells": [
  {
   "cell_type": "markdown",
   "id": "da36e603",
   "metadata": {},
   "source": [
    "# You are given a string and you have to find the first nonrepeated character. For example, the first nonrepeated character in 'elephant' is 'l' and the first nonrepeated character in 'teeter' is 'r'."
   ]
  },
  {
   "cell_type": "code",
   "execution_count": 2,
   "id": "a6de6c2c",
   "metadata": {},
   "outputs": [],
   "source": [
    "from collections import Counter"
   ]
  },
  {
   "cell_type": "code",
   "execution_count": 20,
   "id": "b19721e6",
   "metadata": {},
   "outputs": [
    {
     "name": "stdout",
     "output_type": "stream",
     "text": [
      "e\n",
      "l\n",
      "e\n",
      "p\n",
      "h\n",
      "a\n",
      "n\n",
      "t\n"
     ]
    },
    {
     "data": {
      "text/plain": [
       "{'e': 2, 'l': 1, 'p': 1, 'h': 1, 'a': 1, 'n': 1, 't': 1}"
      ]
     },
     "execution_count": 20,
     "metadata": {},
     "output_type": "execute_result"
    }
   ],
   "source": [
    "string = 'elephant'\n",
    "\n",
    "d = {}\n",
    "for i in string: # n\n",
    "    print(i)\n",
    "    if i in d:\n",
    "        d[i] += 1\n",
    "    else:\n",
    "        d[i] = 1\n",
    "d"
   ]
  },
  {
   "cell_type": "code",
   "execution_count": 14,
   "id": "99f6445c",
   "metadata": {},
   "outputs": [],
   "source": [
    "def non_repeated_char(string): # O(2n) = O(n)\n",
    "    counter = Counter(string)\n",
    "    \n",
    "    for i in string: # n\n",
    "        if counter[i] == 1:\n",
    "            return i\n",
    "        "
   ]
  },
  {
   "cell_type": "code",
   "execution_count": 16,
   "id": "6de102b3",
   "metadata": {},
   "outputs": [
    {
     "data": {
      "text/plain": [
       "'l'"
      ]
     },
     "execution_count": 16,
     "metadata": {},
     "output_type": "execute_result"
    }
   ],
   "source": [
    "string = 'elephant'\n",
    "non_repeated_char(string)"
   ]
  },
  {
   "cell_type": "code",
   "execution_count": 17,
   "id": "b8edb16e",
   "metadata": {},
   "outputs": [
    {
     "data": {
      "text/plain": [
       "'r'"
      ]
     },
     "execution_count": 17,
     "metadata": {},
     "output_type": "execute_result"
    }
   ],
   "source": [
    "string = 'teeter'\n",
    "non_repeated_char(string)"
   ]
  },
  {
   "cell_type": "code",
   "execution_count": null,
   "id": "7d0f021f",
   "metadata": {},
   "outputs": [],
   "source": []
  }
 ],
 "metadata": {
  "kernelspec": {
   "display_name": "Python 3 (ipykernel)",
   "language": "python",
   "name": "python3"
  },
  "language_info": {
   "codemirror_mode": {
    "name": "ipython",
    "version": 3
   },
   "file_extension": ".py",
   "mimetype": "text/x-python",
   "name": "python",
   "nbconvert_exporter": "python",
   "pygments_lexer": "ipython3",
   "version": "3.9.7"
  }
 },
 "nbformat": 4,
 "nbformat_minor": 5
}
