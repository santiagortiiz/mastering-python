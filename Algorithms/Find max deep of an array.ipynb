{
 "cells": [
  {
   "cell_type": "code",
   "execution_count": 1,
   "id": "e3f27547",
   "metadata": {},
   "outputs": [],
   "source": [
    "l = [1, [2,3, [4,5]], [1,2]]"
   ]
  },
  {
   "cell_type": "code",
   "execution_count": 2,
   "id": "346de627",
   "metadata": {},
   "outputs": [],
   "source": [
    "def count_nested(l, levels=None):\n",
    "    \n",
    "    if not levels:\n",
    "        levels = 1\n",
    "    \n",
    "    for i in l:\n",
    "        \n",
    "        if type(i)==list:\n",
    "            levels += 1\n",
    "            return count_nested(i, levels)\n",
    "        \n",
    "    return levels\n",
    "        "
   ]
  },
  {
   "cell_type": "code",
   "execution_count": 11,
   "id": "f28fbb80",
   "metadata": {},
   "outputs": [],
   "source": [
    "def dimension(arr):\n",
    "    \n",
    "    dimensions = {}\n",
    "    \n",
    "    if not arr:\n",
    "        return 'invalid'\n",
    "    \n",
    "    for i, item in enumerate(arr):\n",
    "        print(i, item)\n",
    "        if type(item) == list:\n",
    "            dimensions[i] = count_nested(item)\n",
    "     \n",
    "    return max(dimensions.values()) + 1"
   ]
  },
  {
   "cell_type": "code",
   "execution_count": 12,
   "id": "c5f01b4b",
   "metadata": {},
   "outputs": [
    {
     "name": "stdout",
     "output_type": "stream",
     "text": [
      "0 1\n",
      "1 [2, 3, [4, 5]]\n",
      "2 [1, 2]\n"
     ]
    },
    {
     "data": {
      "text/plain": [
       "3"
      ]
     },
     "execution_count": 12,
     "metadata": {},
     "output_type": "execute_result"
    }
   ],
   "source": [
    "dimension(l)"
   ]
  },
  {
   "cell_type": "code",
   "execution_count": 13,
   "id": "9c43dfd9",
   "metadata": {},
   "outputs": [
    {
     "name": "stdout",
     "output_type": "stream",
     "text": [
      "0 1\n",
      "1 [3, [4, 5, [6]]]\n",
      "2 [6, 7, [8, 9, 10, 12]]\n",
      "4\n"
     ]
    }
   ],
   "source": [
    "print(dimension([1, [3, [4, 5, [6]]], [6, 7, [8, 9, 10, 12]]]))"
   ]
  },
  {
   "cell_type": "code",
   "execution_count": 14,
   "id": "9d6f661b",
   "metadata": {},
   "outputs": [
    {
     "data": {
      "text/plain": [
       "'invalid'"
      ]
     },
     "execution_count": 14,
     "metadata": {},
     "output_type": "execute_result"
    }
   ],
   "source": [
    "dimension(None)"
   ]
  },
  {
   "cell_type": "code",
   "execution_count": null,
   "id": "7524cbff",
   "metadata": {},
   "outputs": [],
   "source": []
  }
 ],
 "metadata": {
  "kernelspec": {
   "display_name": "Python 3 (ipykernel)",
   "language": "python",
   "name": "python3"
  },
  "language_info": {
   "codemirror_mode": {
    "name": "ipython",
    "version": 3
   },
   "file_extension": ".py",
   "mimetype": "text/x-python",
   "name": "python",
   "nbconvert_exporter": "python",
   "pygments_lexer": "ipython3",
   "version": "3.9.7"
  }
 },
 "nbformat": 4,
 "nbformat_minor": 5
}
