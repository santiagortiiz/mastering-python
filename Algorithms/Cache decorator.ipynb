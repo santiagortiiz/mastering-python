{
 "cells": [
  {
   "cell_type": "code",
   "execution_count": 3,
   "id": "a2cc9aa9",
   "metadata": {},
   "outputs": [
    {
     "ename": "IndentationError",
     "evalue": "expected an indented block (Temp/ipykernel_11988/2611110369.py, line 10)",
     "output_type": "error",
     "traceback": [
      "\u001b[1;36m  File \u001b[1;32m\"C:\\Users\\SANTIA~1\\AppData\\Local\\Temp/ipykernel_11988/2611110369.py\"\u001b[1;36m, line \u001b[1;32m10\u001b[0m\n\u001b[1;33m    \u001b[0m\n\u001b[1;37m    ^\u001b[0m\n\u001b[1;31mIndentationError\u001b[0m\u001b[1;31m:\u001b[0m expected an indented block\n"
     ]
    }
   ],
   "source": [
    "import time\n",
    "\n",
    "def caching(func):\n",
    "    \n",
    "    cache = {}\n",
    "    time_to_live = 10\n",
    "    \n",
    "    def wrapper(key, value):\n",
    "        \n",
    "        value_time = cache.get(key, None)\n",
    "        \n",
    "        # Store the value if not exists\n",
    "        if not value_time:\n",
    "            expiration_time = time.time() + time_to_live\n",
    "            cache[key] = (value, expiration_time)\n",
    "            return key\n",
    "        \n",
    "        # Retrieve the value if it has not expired\n",
    "        value, exp_time = value_time\n",
    "        if time.time() < exp_time:\n",
    "            return value\n",
    "        else:\n",
    "            cache.pop(key)\n",
    "            return 'Key not found'\n",
    "        \n",
    "    return wrapper"
   ]
  },
  {
   "cell_type": "code",
   "execution_count": null,
   "id": "50fbc19c",
   "metadata": {},
   "outputs": [],
   "source": [
    "def multiplier(a, b):\n",
    "    "
   ]
  },
  {
   "cell_type": "code",
   "execution_count": 8,
   "id": "2a10a4ab",
   "metadata": {},
   "outputs": [
    {
     "data": {
      "text/plain": [
       "(1, None)"
      ]
     },
     "execution_count": 8,
     "metadata": {},
     "output_type": "execute_result"
    }
   ],
   "source": [
    "tup = (1, None)\n",
    "values, exp = tup\n",
    "values, exp"
   ]
  },
  {
   "cell_type": "code",
   "execution_count": null,
   "id": "1833ac38",
   "metadata": {},
   "outputs": [],
   "source": []
  }
 ],
 "metadata": {
  "kernelspec": {
   "display_name": "Python 3 (ipykernel)",
   "language": "python",
   "name": "python3"
  },
  "language_info": {
   "codemirror_mode": {
    "name": "ipython",
    "version": 3
   },
   "file_extension": ".py",
   "mimetype": "text/x-python",
   "name": "python",
   "nbconvert_exporter": "python",
   "pygments_lexer": "ipython3",
   "version": "3.9.7"
  }
 },
 "nbformat": 4,
 "nbformat_minor": 5
}
