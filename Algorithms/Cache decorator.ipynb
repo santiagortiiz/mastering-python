{
 "cells": [
  {
   "cell_type": "markdown",
   "id": "d15ad496",
   "metadata": {},
   "source": [
    "# Chronometer"
   ]
  },
  {
   "cell_type": "code",
   "execution_count": 1,
   "id": "b79811be",
   "metadata": {},
   "outputs": [],
   "source": [
    "import timeit\n",
    "def chronometer(func):\n",
    "    def wrapper(*args, **kwargs):\n",
    "        start = timeit.default_timer()\n",
    "        result = func(*args, **kwargs)\n",
    "        stop = timeit.default_timer()\n",
    "        elapsed = stop - start\n",
    "        print(f'Elapse time: {elapsed}')\n",
    "        return result\n",
    "    return wrapper"
   ]
  },
  {
   "cell_type": "markdown",
   "id": "ba967500",
   "metadata": {},
   "source": [
    "# Cache decorator"
   ]
  },
  {
   "cell_type": "code",
   "execution_count": 2,
   "id": "702c20f6",
   "metadata": {},
   "outputs": [],
   "source": [
    "import time"
   ]
  },
  {
   "cell_type": "code",
   "execution_count": 3,
   "id": "a2cc9aa9",
   "metadata": {},
   "outputs": [],
   "source": [
    "def cache(time_to_live: int):\n",
    "    \n",
    "    def _cache(func):\n",
    "        cache = {}\n",
    "\n",
    "        def save_in_cache(key, value):\n",
    "            '''\n",
    "            Adds a new value to the cache with an expiration time\n",
    "            '''\n",
    "            expiration_time = time.time() + time_to_live\n",
    "            cache[key] = (value, expiration_time)\n",
    "            return value\n",
    "\n",
    "        def wrapper(key):\n",
    "            print('cache:', cache)\n",
    "            # Looks for the key in the cache\n",
    "            value_exp_tuple = cache.get(key, None)\n",
    "\n",
    "            if not value_exp_tuple:\n",
    "                # Get the value from the primary source and store it in the cache\n",
    "                value = func(key)\n",
    "                return save_in_cache(key, value)\n",
    "\n",
    "            # Retrieve the value if it has not expired yet\n",
    "            # Otherwise, get it from the primary source\n",
    "            value, exp_time = value_exp_tuple\n",
    "            if time.time() < exp_time:\n",
    "                return value\n",
    "            else:\n",
    "                value = func(key)\n",
    "                return save_in_cache(key, value)\n",
    "\n",
    "        return wrapper\n",
    "    return _cache"
   ]
  },
  {
   "cell_type": "code",
   "execution_count": 4,
   "id": "7d69dff1",
   "metadata": {},
   "outputs": [],
   "source": [
    "db = {}\n",
    "seq = 0"
   ]
  },
  {
   "cell_type": "code",
   "execution_count": 5,
   "id": "4fa26754",
   "metadata": {},
   "outputs": [],
   "source": [
    "def insert(value):\n",
    "    global seq\n",
    "    seq += 1\n",
    "    db[seq] = value\n",
    "    return seq"
   ]
  },
  {
   "cell_type": "code",
   "execution_count": 6,
   "id": "f3622015",
   "metadata": {},
   "outputs": [
    {
     "data": {
      "text/plain": [
       "{1: 'a', 2: 'b', 3: 'c'}"
      ]
     },
     "execution_count": 6,
     "metadata": {},
     "output_type": "execute_result"
    }
   ],
   "source": [
    "insert('a')\n",
    "insert('b')\n",
    "insert('c')\n",
    "db"
   ]
  },
  {
   "cell_type": "code",
   "execution_count": 7,
   "id": "50fbc19c",
   "metadata": {},
   "outputs": [],
   "source": [
    "@chronometer\n",
    "@cache(60)\n",
    "def get_by_id(key):\n",
    "    time.sleep(3)\n",
    "    return db[key]"
   ]
  },
  {
   "cell_type": "code",
   "execution_count": 8,
   "id": "2a10a4ab",
   "metadata": {},
   "outputs": [
    {
     "name": "stdout",
     "output_type": "stream",
     "text": [
      "cache: {}\n",
      "Elapse time: 3.0136066\n"
     ]
    },
    {
     "data": {
      "text/plain": [
       "'b'"
      ]
     },
     "execution_count": 8,
     "metadata": {},
     "output_type": "execute_result"
    }
   ],
   "source": [
    "get_by_id(2)"
   ]
  },
  {
   "cell_type": "code",
   "execution_count": 9,
   "id": "1833ac38",
   "metadata": {},
   "outputs": [
    {
     "name": "stdout",
     "output_type": "stream",
     "text": [
      "cache: {2: ('b', 1655404791.6371121)}\n",
      "Elapse time: 0.0002540999999993687\n"
     ]
    },
    {
     "data": {
      "text/plain": [
       "'b'"
      ]
     },
     "execution_count": 9,
     "metadata": {},
     "output_type": "execute_result"
    }
   ],
   "source": [
    "get_by_id(2)"
   ]
  }
 ],
 "metadata": {
  "kernelspec": {
   "display_name": "Python 3 (ipykernel)",
   "language": "python",
   "name": "python3"
  },
  "language_info": {
   "codemirror_mode": {
    "name": "ipython",
    "version": 3
   },
   "file_extension": ".py",
   "mimetype": "text/x-python",
   "name": "python",
   "nbconvert_exporter": "python",
   "pygments_lexer": "ipython3",
   "version": "3.9.12"
  }
 },
 "nbformat": 4,
 "nbformat_minor": 5
}
