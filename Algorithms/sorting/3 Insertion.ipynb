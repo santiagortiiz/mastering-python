{
 "cells": [
  {
   "cell_type": "markdown",
   "id": "4019741d",
   "metadata": {},
   "source": [
    "# Insertion Sort\n",
    "[Curso de POO y Algoritmos con Python](https://platzi.com/clases/1775-poo-python/25266-ordenamiento-por-insercion/)\n",
    "\n",
    "[youtube reference](https://www.youtube.com/watch?v=P05_0zUxJTQ&ab_channel=ManuelGonz%C3%A1lez)"
   ]
  },
  {
   "cell_type": "code",
   "execution_count": 2,
   "id": "1fcb347f",
   "metadata": {},
   "outputs": [],
   "source": [
    "def insertion_sort(items):\n",
    "\n",
    "    for i in range(1, len(items)):\n",
    "        current_value = items[i]\n",
    "        current_position = i\n",
    "\n",
    "        while current_position > 0 and items[current_position - 1] > current_value:\n",
    "            items[current_position] = items[current_position - 1]\n",
    "            current_position -= 1\n",
    "\n",
    "        items[current_position] = current_value"
   ]
  },
  {
   "cell_type": "code",
   "execution_count": 3,
   "id": "0e1f6f1c",
   "metadata": {},
   "outputs": [
    {
     "data": {
      "text/plain": [
       "[10, 13, 17, 25, 32, 67, 90]"
      ]
     },
     "execution_count": 3,
     "metadata": {},
     "output_type": "execute_result"
    }
   ],
   "source": [
    "items = [90, 13, 10, 67, 32, 25, 17]\n",
    "insertion_sort(items)\n",
    "items"
   ]
  },
  {
   "cell_type": "code",
   "execution_count": null,
   "id": "68f48daa",
   "metadata": {},
   "outputs": [],
   "source": []
  }
 ],
 "metadata": {
  "kernelspec": {
   "display_name": "Python 3 (ipykernel)",
   "language": "python",
   "name": "python3"
  },
  "language_info": {
   "codemirror_mode": {
    "name": "ipython",
    "version": 3
   },
   "file_extension": ".py",
   "mimetype": "text/x-python",
   "name": "python",
   "nbconvert_exporter": "python",
   "pygments_lexer": "ipython3",
   "version": "3.9.7"
  }
 },
 "nbformat": 4,
 "nbformat_minor": 5
}
