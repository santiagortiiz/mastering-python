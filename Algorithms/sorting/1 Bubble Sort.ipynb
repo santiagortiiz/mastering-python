{
 "cells": [
  {
   "cell_type": "markdown",
   "id": "c114ffbd",
   "metadata": {},
   "source": [
    "# Bubble Sort\n",
    "[Curso de Introducción a los Algoritmos de Ordenamiento](https://platzi.com/clases/1832-ordenamiento/26688-diseno-y-analisis-de-bubble-sort/)"
   ]
  },
  {
   "cell_type": "code",
   "execution_count": 15,
   "id": "4ef762dd",
   "metadata": {},
   "outputs": [],
   "source": [
    "def bubble_sort(items):\n",
    "    # O(n) * O(n - i - 1 ) = O(n) * O(n) = O(n^2)\n",
    "    \n",
    "    print(items)\n",
    "    \n",
    "    n = len(items)\n",
    "    \n",
    "    for i in range(n): # O(n)\n",
    "        \n",
    "        for j in range(0, n-i-1): # O(n - i - 1)\n",
    "            # print(j)\n",
    "            if items[j] > items[j + 1]:\n",
    "                items[j], items[j + 1] = items[j + 1], items[j]\n",
    "                \n",
    "        print(items)"
   ]
  },
  {
   "cell_type": "code",
   "execution_count": 17,
   "id": "85e0dd19",
   "metadata": {},
   "outputs": [
    {
     "name": "stdout",
     "output_type": "stream",
     "text": [
      "[329, 46, 765, 24, 12, 0, 3]\n",
      "[46, 329, 24, 12, 0, 3, 765]\n",
      "[46, 24, 12, 0, 3, 329, 765]\n",
      "[24, 12, 0, 3, 46, 329, 765]\n",
      "[12, 0, 3, 24, 46, 329, 765]\n",
      "[0, 3, 12, 24, 46, 329, 765]\n",
      "[0, 3, 12, 24, 46, 329, 765]\n",
      "[0, 3, 12, 24, 46, 329, 765]\n"
     ]
    }
   ],
   "source": [
    "items = [329, 46, 765, 24, 12, 0, 3]\n",
    "bubble_sort(items)"
   ]
  },
  {
   "cell_type": "markdown",
   "id": "80a8fb32",
   "metadata": {},
   "source": [
    "# Optimized"
   ]
  },
  {
   "cell_type": "code",
   "execution_count": 30,
   "id": "d285dfdd",
   "metadata": {},
   "outputs": [],
   "source": [
    "def bubble_sort(our_list):\n",
    "    \n",
    "    print(our_list)\n",
    "    has_swapped = True\n",
    "\n",
    "    num_of_iterations = 0\n",
    "\n",
    "    while(has_swapped):\n",
    "        has_swapped = False\n",
    "        for i in range(len(our_list) - num_of_iterations - 1):\n",
    "            if our_list[i] > our_list[i+1]:\n",
    "                # Swap\n",
    "                our_list[i], our_list[i+1] = our_list[i+1], our_list[i]\n",
    "                has_swapped = True\n",
    "        num_of_iterations += 1\n",
    "        print(our_list)"
   ]
  },
  {
   "cell_type": "code",
   "execution_count": 31,
   "id": "2951be04",
   "metadata": {},
   "outputs": [
    {
     "name": "stdout",
     "output_type": "stream",
     "text": [
      "[329, 46, 765, 24, 12, 0, 3]\n",
      "[46, 329, 24, 12, 0, 3, 765]\n",
      "[46, 24, 12, 0, 3, 329, 765]\n",
      "[24, 12, 0, 3, 46, 329, 765]\n",
      "[12, 0, 3, 24, 46, 329, 765]\n",
      "[0, 3, 12, 24, 46, 329, 765]\n",
      "[0, 3, 12, 24, 46, 329, 765]\n"
     ]
    }
   ],
   "source": [
    "items = [329, 46, 765, 24, 12, 0, 3]\n",
    "bubble_sort(items)"
   ]
  },
  {
   "cell_type": "code",
   "execution_count": 28,
   "id": "6540c8be",
   "metadata": {},
   "outputs": [
    {
     "data": {
      "text/plain": [
       "[329, 46, 765, 24, 12, 0, 3]"
      ]
     },
     "execution_count": 28,
     "metadata": {},
     "output_type": "execute_result"
    }
   ],
   "source": [
    "items"
   ]
  },
  {
   "cell_type": "code",
   "execution_count": null,
   "id": "78cc1761",
   "metadata": {},
   "outputs": [],
   "source": []
  }
 ],
 "metadata": {
  "kernelspec": {
   "display_name": "Python 3 (ipykernel)",
   "language": "python",
   "name": "python3"
  },
  "language_info": {
   "codemirror_mode": {
    "name": "ipython",
    "version": 3
   },
   "file_extension": ".py",
   "mimetype": "text/x-python",
   "name": "python",
   "nbconvert_exporter": "python",
   "pygments_lexer": "ipython3",
   "version": "3.9.7"
  }
 },
 "nbformat": 4,
 "nbformat_minor": 5
}
