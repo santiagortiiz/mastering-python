{
 "cells": [
  {
   "cell_type": "markdown",
   "id": "43d4c453",
   "metadata": {},
   "source": [
    "# Mixing Sorting\n",
    "\n",
    "[Curso de POO y Algoritmos con Python](https://platzi.com/clases/1775-poo-python/25267-ordenamiento-por-mezcla/)"
   ]
  },
  {
   "cell_type": "code",
   "execution_count": null,
   "id": "ad1ae307",
   "metadata": {},
   "outputs": [],
   "source": [
    "def ordenamiento_por_mezcla(lista):\n",
    "    if len(lista) > 1:\n",
    "        medio = len(lista) // 2\n",
    "        izquierda = lista[:medio]\n",
    "        derecha = lista[medio:]\n",
    "        print(izquierda, '*' * 5, derecha)\n",
    "\n",
    "        # llamada recursiva en cada mitad\n",
    "        ordenamiento_por_mezcla(izquierda)\n",
    "        ordenamiento_por_mezcla(derecha)\n",
    "\n",
    "        # Iteradores para recorrer las dos sublistas\n",
    "        i = 0\n",
    "        j = 0\n",
    "        # Iterador para la lista principal\n",
    "        k = 0\n",
    "\n",
    "        while i < len(izquierda) and j < len(derecha):\n",
    "            if izquierda[i] < derecha[j]:\n",
    "                lista[k] = izquierda[i]\n",
    "                i += 1\n",
    "            else:\n",
    "                lista[k] = derecha[j]\n",
    "                j += 1\n",
    "\n",
    "            k += 1\n",
    "\n",
    "        while i < len(izquierda):\n",
    "            lista[k] = izquierda[i]\n",
    "            i += 1\n",
    "            k +=1\n",
    "\n",
    "        while j < len(derecha):\n",
    "            lista[k] = derecha[j]\n",
    "            j += 1\n",
    "            k += 1\n",
    "        \n",
    "        print(f'izquierda {izquierda}, derecha {derecha}')\n",
    "        print(lista)\n",
    "        print('-' * 50)\n",
    "\n",
    "    return lista"
   ]
  }
 ],
 "metadata": {
  "kernelspec": {
   "display_name": "Python 3 (ipykernel)",
   "language": "python",
   "name": "python3"
  },
  "language_info": {
   "codemirror_mode": {
    "name": "ipython",
    "version": 3
   },
   "file_extension": ".py",
   "mimetype": "text/x-python",
   "name": "python",
   "nbconvert_exporter": "python",
   "pygments_lexer": "ipython3",
   "version": "3.9.7"
  }
 },
 "nbformat": 4,
 "nbformat_minor": 5
}
