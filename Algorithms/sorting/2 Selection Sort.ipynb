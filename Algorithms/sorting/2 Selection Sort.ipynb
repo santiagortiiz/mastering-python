{
 "cells": [
  {
   "cell_type": "markdown",
   "id": "ba43cff9",
   "metadata": {},
   "source": [
    "# Selection Sort\n",
    "[Curso de Introducción a los Algoritmos de Ordenamiento](https://platzi.com/clases/1832-ordenamiento/26691-algoritmo-selection-sort/)"
   ]
  },
  {
   "cell_type": "code",
   "execution_count": 3,
   "id": "42089919",
   "metadata": {},
   "outputs": [],
   "source": [
    "def selection_sort(items):\n",
    "    \n",
    "    # i indicates how many items were sorted\n",
    "    for i in range(len(items)-1):\n",
    "        \n",
    "        # To find the minimum value of the unsorted segment\n",
    "        # We first assume that the first element is the lowest\n",
    "        min_index = i\n",
    "        \n",
    "        # We then use j to loop through the remaining elements\n",
    "        for j in range(i+1, len(items)-1):\n",
    "            \n",
    "            # Update the min_index if the element at j is lower than it\n",
    "            if items[j] < items[min_index]:\n",
    "                min_index = j\n",
    "                \n",
    "        # After finding the lowest item of the unsorted regions, swap with the first unsorted item\n",
    "        items[i], items[min_index] = items[min_index], items[i]"
   ]
  },
  {
   "cell_type": "code",
   "execution_count": 4,
   "id": "b531e152",
   "metadata": {},
   "outputs": [
    {
     "data": {
      "text/plain": [
       "[10, 13, 25, 32, 67, 90, 17]"
      ]
     },
     "execution_count": 4,
     "metadata": {},
     "output_type": "execute_result"
    }
   ],
   "source": [
    "items = [90, 13, 10, 67, 32, 25, 17]\n",
    "selection_sort(items)\n",
    "items"
   ]
  }
 ],
 "metadata": {
  "kernelspec": {
   "display_name": "Python 3 (ipykernel)",
   "language": "python",
   "name": "python3"
  },
  "language_info": {
   "codemirror_mode": {
    "name": "ipython",
    "version": 3
   },
   "file_extension": ".py",
   "mimetype": "text/x-python",
   "name": "python",
   "nbconvert_exporter": "python",
   "pygments_lexer": "ipython3",
   "version": "3.9.7"
  }
 },
 "nbformat": 4,
 "nbformat_minor": 5
}
