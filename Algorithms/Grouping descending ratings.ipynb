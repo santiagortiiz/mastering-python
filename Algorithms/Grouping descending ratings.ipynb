{
 "cells": [
  {
   "cell_type": "markdown",
   "id": "2a796dc9",
   "metadata": {},
   "source": [
    "# Time measurement"
   ]
  },
  {
   "cell_type": "code",
   "execution_count": 1,
   "id": "491b2076",
   "metadata": {},
   "outputs": [],
   "source": [
    "import timeit"
   ]
  },
  {
   "cell_type": "code",
   "execution_count": 16,
   "id": "ae8a4ffc",
   "metadata": {},
   "outputs": [],
   "source": [
    "def chronometer(func):\n",
    "    def wrapper(*args, **kwargs):\n",
    "        start = timeit.default_timer()\n",
    "        result = func(*args, **kwargs)\n",
    "        stop = timeit.default_timer()\n",
    "        elapsed = stop - start\n",
    "        print(f'Time: {elapsed}')\n",
    "        return result\n",
    "    return wrapper"
   ]
  },
  {
   "cell_type": "markdown",
   "id": "8a310e6c",
   "metadata": {},
   "source": [
    "# Grouping consecutive down days"
   ]
  },
  {
   "cell_type": "code",
   "execution_count": 17,
   "id": "7bbe876c",
   "metadata": {},
   "outputs": [],
   "source": [
    "from random import randint"
   ]
  },
  {
   "cell_type": "code",
   "execution_count": 18,
   "id": "71e3c2ef",
   "metadata": {},
   "outputs": [],
   "source": [
    "@chronometer\n",
    "def grouping_consecutive_down_days(ratings):\n",
    "    '''\n",
    "    Ratings: List of integers \n",
    "    Days: Index of the ratings list\n",
    "    Objective: \n",
    "        Count number of groups that can be performed by grouping\n",
    "        consecutive down days in the ratings list\n",
    "    '''\n",
    "    \n",
    "    groups = 0\n",
    "    count = 0\n",
    "\n",
    "    n = len(ratings)\n",
    "    for i in range(n):\n",
    "        \n",
    "        # Skip the first iteration\n",
    "        if i==0:\n",
    "            continue\n",
    "        \n",
    "        prev = ratings[i - 1] \n",
    "        current = ratings[i]\n",
    "        \n",
    "        # DESC\n",
    "        if prev > current:\n",
    "            count += 1\n",
    "        else:\n",
    "            if count > 1:\n",
    "                groups += 2*(count + 1)\n",
    "            elif count == 1:\n",
    "                groups += 3\n",
    "            count = 0\n",
    "            \n",
    "    return groups"
   ]
  },
  {
   "cell_type": "code",
   "execution_count": 28,
   "id": "1eb4815a",
   "metadata": {},
   "outputs": [
    {
     "name": "stdout",
     "output_type": "stream",
     "text": [
      "10000000\n"
     ]
    }
   ],
   "source": [
    "length = 10\n",
    "r = [randint(0,5) for i in range(length)]\n",
    "print(len(r))"
   ]
  },
  {
   "cell_type": "code",
   "execution_count": 29,
   "id": "ebd5ee1c",
   "metadata": {},
   "outputs": [
    {
     "name": "stdout",
     "output_type": "stream",
     "text": [
      "Time: 2.0081779999999867\n"
     ]
    },
    {
     "data": {
      "text/plain": [
       "12383122"
      ]
     },
     "execution_count": 29,
     "metadata": {},
     "output_type": "execute_result"
    }
   ],
   "source": [
    "grouping_consecutive_down_days(r)"
   ]
  }
 ],
 "metadata": {
  "kernelspec": {
   "display_name": "Python 3 (ipykernel)",
   "language": "python",
   "name": "python3"
  },
  "language_info": {
   "codemirror_mode": {
    "name": "ipython",
    "version": 3
   },
   "file_extension": ".py",
   "mimetype": "text/x-python",
   "name": "python",
   "nbconvert_exporter": "python",
   "pygments_lexer": "ipython3",
   "version": "3.9.7"
  }
 },
 "nbformat": 4,
 "nbformat_minor": 5
}
