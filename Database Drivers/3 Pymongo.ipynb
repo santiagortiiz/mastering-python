{
 "cells": [
  {
   "cell_type": "markdown",
   "metadata": {},
   "source": [
    "# PyMongo"
   ]
  },
  {
   "cell_type": "code",
   "execution_count": 1,
   "metadata": {},
   "outputs": [],
   "source": [
    "import os\n",
    "import certifi\n",
    "from pymongo import MongoClient, ASCENDING, DESCENDING\n",
    "from bson.json_util import dumps, ObjectId\n",
    "import json"
   ]
  },
  {
   "cell_type": "code",
   "execution_count": 2,
   "metadata": {},
   "outputs": [],
   "source": [
    "# Utilities\n",
    "from dates_management import add_created_at"
   ]
  },
  {
   "cell_type": "code",
   "execution_count": 3,
   "metadata": {},
   "outputs": [
    {
     "name": "stdout",
     "output_type": "stream",
     "text": [
      "env: MONGO_ATLAS_HOST=iotaimpactcluster.vqlak.mongodb.net\n",
      "env: MONGO_ATLAS_USERNAME=development\n",
      "env: MONGO_ATLAS_PASSWORD=erFdT23Ds8Cdf3mawQPL\n"
     ]
    }
   ],
   "source": [
    "%env MONGO_ATLAS_HOST=\n",
    "%env MONGO_ATLAS_USERNAME=\n",
    "%env MONGO_ATLAS_PASSWORD="
   ]
  },
  {
   "cell_type": "code",
   "execution_count": 4,
   "metadata": {},
   "outputs": [],
   "source": [
    "def get_db_handle(**kwargs):\n",
    "    ''' Database connector\n",
    "    Optional Arguments:\n",
    "        host, username, password, db_name\n",
    "    Return:\n",
    "        client: Mongo Client\n",
    "        db_handle: client[db_name]\n",
    "    '''\n",
    "    \n",
    "    host = kwargs.get('host', os.environ[\"MONGO_ATLAS_HOST\"])\n",
    "    username = kwargs.get('username', os.environ[\"MONGO_ATLAS_USERNAME\"])\n",
    "    password = kwargs.get('password', os.environ[\"MONGO_ATLAS_PASSWORD\"])\n",
    "    db_name = kwargs.get('db_name', 'iotaimpact')\n",
    "    \n",
    "    retry = kwargs.get('retry', 0)\n",
    "    try:\n",
    "        url = f\"mongodb+srv://{username}:{password}@{host}/{db_name}?retryWrites=true&w=majority\"\n",
    "        client = MongoClient(url, tlsCAFile=certifi.where())\n",
    "\n",
    "        db_handle = client[db_name]\n",
    "        return db_handle, client\n",
    "\n",
    "    except Exception as e:\n",
    "        retry += 1\n",
    "        print(f'Something went wrong, attempt {retry} to re-connect to Mongodb')\n",
    "\n",
    "        if retry < 3:\n",
    "            return get_db_handle(retry=retry)\n",
    "        else:\n",
    "            raise Exception(f'Can not connect with Mongodb, contact your DBA.\\nError: {e}')"
   ]
  },
  {
   "cell_type": "code",
   "execution_count": 5,
   "metadata": {},
   "outputs": [],
   "source": [
    "def delete(**kwargs):\n",
    "    ''' Delete one or all documents in a collection\n",
    "    Example:\n",
    "        collection=\"test\"\n",
    "        query_filter = {\"test\": \"mongo\"}\n",
    "        \n",
    "    Required Arguments:\n",
    "        collection: target collection\n",
    "        query_filter: specify a filter if you want to update just one document\n",
    "\n",
    "    Optional Arguments:\n",
    "        database credentials\n",
    "        amount: \"all\" (default: \"one\")\n",
    "    '''\n",
    "\n",
    "    db_name = kwargs.get('db_name', 'iotaimpact')\n",
    "    db, _ = get_db_handle(db_name=db_name)\n",
    "\n",
    "    collection = kwargs.get('collection', None)\n",
    "    query_filter = kwargs.get('query_filter', None)\n",
    "    amount = kwargs.get('amount', 'one')\n",
    "\n",
    "    if amount == 'all':\n",
    "        return str(db[collection].delete_many(query_filter))\n",
    "    \n",
    "    else:\n",
    "        return str(db[collection].delete_one(query_filter))"
   ]
  },
  {
   "cell_type": "code",
   "execution_count": 6,
   "metadata": {},
   "outputs": [],
   "source": [
    "def insert(**kwargs):\n",
    "    ''' General Purpose INSERT\n",
    "    Arguments: \n",
    "        db_name (optional): target database (default: iotaimpact)\n",
    "        collection: target collection\n",
    "        document(s): Object or List of Objects to be stored\n",
    "    Return: \n",
    "        ID(s) of the inserted object(s)\n",
    "    '''\n",
    "    db_name = kwargs.get('db_name', 'iotaimpact')\n",
    "    db, _ = get_db_handle(db_name=db_name)\n",
    "\n",
    "    collection = kwargs.get('collection', 'undefined_collection')\n",
    "    document = kwargs.get('document', None)\n",
    "    documents = kwargs.get('documents', None)\n",
    "    \n",
    "    # insert_one\n",
    "    if document:\n",
    "        add_created_at(document)\n",
    "        return str(db[collection].insert_one(document).inserted_id)\n",
    "    \n",
    "    # insert_many\n",
    "    elif documents:\n",
    "        return str(db[collection].insert_many(documents))"
   ]
  },
  {
   "cell_type": "code",
   "execution_count": 56,
   "metadata": {},
   "outputs": [],
   "source": [
    "def update(**kwargs):\n",
    "    ''' Insert one or more fields into one or all documents in a collection\n",
    "    Example:\n",
    "        collection=\"test\"\n",
    "        document = {\"new_field\": 'new_value'}\n",
    "        query_filter = {\"test\": \"mongo\"}\n",
    "        \n",
    "    Required Arguments:\n",
    "        collection: target collection\n",
    "        document: dictionary with the new fields\n",
    "        query_filter: specify a filter if you want to update just one document\n",
    "\n",
    "    Optional Arguments:\n",
    "        database credentials\n",
    "        amount: \"all\" (default: \"one\")\n",
    "    '''\n",
    "\n",
    "    db_name = kwargs.get('db_name', 'iotaimpact')\n",
    "    db, _ = get_db_handle(db_name=db_name)\n",
    "\n",
    "    query_filter = kwargs.get('query_filter', None)\n",
    "    collection = kwargs.get('collection', None)\n",
    "    document = kwargs.get('document', None)\n",
    "    amount = kwargs.get('amount', 'one')\n",
    "\n",
    "    if collection is None or query_filter is None or document is None:\n",
    "        raise Exception('Specify collection, query_filter and document')\n",
    "        \n",
    "    if amount == 'all':\n",
    "        # Return the count of documents updated (count: integer)\n",
    "        return db[collection].update_many(query_filter, {'$set': document}).modified_count\n",
    "    \n",
    "    else:\n",
    "        # return the updated object (type: dict)\n",
    "        sort = kwargs.get('sort', 'DESC')\n",
    "        sort = DESCENDING if sort=='DESC' else ASCENDING\n",
    "        return db[collection].find_one_and_update(query_filter, {'$set': document}, sort=[(\"_id\", sort)])"
   ]
  },
  {
   "cell_type": "code",
   "execution_count": 8,
   "metadata": {},
   "outputs": [],
   "source": [
    "def find(**kwargs):\n",
    "    ''' General Purpose FIND \n",
    "    Example:\n",
    "        collection='surveys'\n",
    "        query_filter={\"user_token\": \"181.61.59.165:2021-10-26\"}\n",
    "        projection={\"highest_match_report\": 1, \"paid\":1, \"created_at\": 1}\n",
    "        skip=30 (Default: 0)\n",
    "        limit=50\n",
    "        sort='ASC' (Default: 'DESC')\n",
    "        find(collection=collection, query_filter=query_filter, projection=projection, limit=limit)\n",
    "        \n",
    "    Arguments: \n",
    "        - Required\n",
    "        db_name (optional): target database\n",
    "        collection: target collection\n",
    "\n",
    "        - Search types (Choose One)\n",
    "        id: find by ID\n",
    "        query_filter: find with filter\n",
    "\n",
    "        - Options\n",
    "        projection: retrieve specified fields\n",
    "        skip & limit: pagination\n",
    "        sort: sort ASC or DESC by ID\n",
    "\n",
    "    Return: \n",
    "        list of documents found\n",
    "    '''\n",
    "    db_name = kwargs.get('db_name', 'iotaimpact')\n",
    "    db, _ = get_db_handle(db_name=db_name)\n",
    "\n",
    "    collection = kwargs.get('collection', None)\n",
    "    if collection is None:\n",
    "        raise Exception('Specify the collection')\n",
    "\n",
    "    # Find by ID\n",
    "    id = kwargs.get('id', None) \n",
    "    \n",
    "    # Query\n",
    "    query_filter = kwargs.get('query_filter', None)\n",
    "    \n",
    "    # Projection\n",
    "    projection = kwargs.get('projection', None)\n",
    "    \n",
    "    # Sort\n",
    "    sort = kwargs.get('sort', 'DESC')\n",
    "    sort = DESCENDING if sort=='DESC' else ASCENDING\n",
    "    \n",
    "    # Skip and Limit\n",
    "    skip = kwargs.get('skip', 0)\n",
    "    limit = kwargs.get('limit', None)\n",
    "    \n",
    "    search_result = None\n",
    "    \n",
    "    # Find by ID\n",
    "    if id:\n",
    "        search_result = dumps(db[collection].find_one({\"_id\": ObjectId(id)}, projection))\n",
    "\n",
    "    # Find by filter\n",
    "    elif query_filter: \n",
    "        \n",
    "        if limit is not None:\n",
    "            search_result = dumps(db[collection].find(query_filter, projection, skip=int(skip), limit=int(limit), sort=[(\"_id\", sort)]))\n",
    "        else:\n",
    "            search_result = dumps(db[collection].find(query_filter, projection, skip=int(skip), sort=[(\"_id\", sort)]))\n",
    "            \n",
    "    return search_result"
   ]
  },
  {
   "cell_type": "markdown",
   "metadata": {},
   "source": [
    "## Insert"
   ]
  },
  {
   "cell_type": "code",
   "execution_count": 32,
   "metadata": {},
   "outputs": [
    {
     "data": {
      "text/plain": [
       "'6163206917c6725c01e9d664'"
      ]
     },
     "execution_count": 32,
     "metadata": {},
     "output_type": "execute_result"
    }
   ],
   "source": [
    "collection='surveys'\n",
    "document={\n",
    "    \"user_token\": \"186.113.136.245:2021-09-28\",\n",
    "    \"last\": True\n",
    "}\n",
    "insert(collection=collection, document=document)"
   ]
  },
  {
   "cell_type": "markdown",
   "metadata": {},
   "source": [
    "## Sort"
   ]
  },
  {
   "cell_type": "code",
   "execution_count": 156,
   "metadata": {},
   "outputs": [],
   "source": [
    "collection='surveys'\n",
    "query={\"user_token\": \"186.113.136.245:2021-09-28\"}\n",
    "projection={\"_id\":0, \"paid\":1, \"last\": 1, \"created_at\": 1}\n",
    "\n",
    "# Default sort (DESC)\n",
    "desc_result = find(collection=collection, query=query, projection=projection)\n",
    "\n",
    "# ASC sort\n",
    "sort='ASC'\n",
    "asc_result = find(collection=collection, query=query, projection=projection, sort=sort)"
   ]
  },
  {
   "cell_type": "code",
   "execution_count": 157,
   "metadata": {},
   "outputs": [
    {
     "data": {
      "text/plain": [
       "[{'last': True, 'created_at': '10/10/2021 12:18:33'},\n",
       " {'last': True, 'created_at': '10/10/2021 11:57:15'},\n",
       " {'paid': False},\n",
       " {'paid': False},\n",
       " {'paid': False},\n",
       " {'paid': False},\n",
       " {'paid': False},\n",
       " {'paid': False},\n",
       " {'paid': False}]"
      ]
     },
     "execution_count": 157,
     "metadata": {},
     "output_type": "execute_result"
    }
   ],
   "source": [
    "json.loads(desc_result)"
   ]
  },
  {
   "cell_type": "code",
   "execution_count": 158,
   "metadata": {},
   "outputs": [
    {
     "data": {
      "text/plain": [
       "[{'paid': False},\n",
       " {'paid': False},\n",
       " {'paid': False},\n",
       " {'paid': False},\n",
       " {'paid': False},\n",
       " {'paid': False},\n",
       " {'paid': False},\n",
       " {'last': True, 'created_at': '10/10/2021 11:57:15'},\n",
       " {'last': True, 'created_at': '10/10/2021 12:18:33'}]"
      ]
     },
     "execution_count": 158,
     "metadata": {},
     "output_type": "execute_result"
    }
   ],
   "source": [
    "json.loads(asc_result)"
   ]
  },
  {
   "cell_type": "markdown",
   "metadata": {},
   "source": [
    "## Limit & Skip"
   ]
  },
  {
   "cell_type": "code",
   "execution_count": 150,
   "metadata": {},
   "outputs": [
    {
     "data": {
      "text/plain": [
       "'[{\"_id\": {\"$oid\": \"61631b6b17c6725c01e9d658\"}, \"last\": true}, {\"_id\": {\"$oid\": \"615389fd687b719f52211c5a\"}, \"paid\": false}]'"
      ]
     },
     "execution_count": 150,
     "metadata": {},
     "output_type": "execute_result"
    }
   ],
   "source": [
    "collection='surveys'\n",
    "query={\"user_token\": \"186.113.136.245:2021-09-28\"}\n",
    "projection={\"paid\":1, \"last\": 1}\n",
    "skip=1\n",
    "limit=2\n",
    "\n",
    "# find(collection=collection, query=query, projection=projection)\n",
    "find(collection=collection, query=query, projection=projection, skip=skip, limit=limit)"
   ]
  },
  {
   "cell_type": "code",
   "execution_count": 77,
   "metadata": {},
   "outputs": [
    {
     "data": {
      "text/plain": [
       "'[{\"_id\": {\"$oid\": \"615381330c3e4caaa2b22c05\"}, \"paid\": false}, {\"_id\": {\"$oid\": \"615382110c3e4caaa2b22c07\"}, \"paid\": false}]'"
      ]
     },
     "execution_count": 77,
     "metadata": {},
     "output_type": "execute_result"
    }
   ],
   "source": [
    "skip_limit"
   ]
  },
  {
   "cell_type": "markdown",
   "metadata": {},
   "source": [
    "## Projections"
   ]
  },
  {
   "cell_type": "code",
   "execution_count": 11,
   "metadata": {},
   "outputs": [
    {
     "name": "stdout",
     "output_type": "stream",
     "text": [
      "[{\"_id\": {\"$oid\": \"61537e1a0c3e4caaa2b22c03\"}, \"highest_match_report\": {\"title\": \"Labor statistics - Food industry\", \"relevance\": \"HIGH\", \"url\": \"https://s3.us-east-1.amazonaws.com/iotatech-kendra.bucket/Labor+statistics+-+Food+industry.pdf\"}}, {\"_id\": {\"$oid\": \"615381330c3e4caaa2b22c05\"}, \"highest_match_report\": {\"title\": \"Soft Drink Research Report\", \"relevance\": \"HIGH\", \"url\": \"https://s3.us-east-1.amazonaws.com/iotatech-kendra.bucket/Soft+Drink+Research+Report.pdf\"}}, {\"_id\": {\"$oid\": \"615382110c3e4caaa2b22c07\"}, \"highest_match_report\": {\"title\": \"Labor statistics - Food industry\", \"relevance\": \"HIGH\", \"url\": \"https://s3.us-east-1.amazonaws.com/iotatech-kendra.bucket/Labor+statistics+-+Food+industry.pdf\"}}, {\"_id\": {\"$oid\": \"615382620c3e4caaa2b22c09\"}, \"highest_match_report\": {\"title\": \"US Imports\", \"relevance\": \"HIGH\", \"url\": \"https://s3.us-east-1.amazonaws.com/iotatech-kendra.bucket/US+Imports.pdf\"}}, {\"_id\": {\"$oid\": \"615382c00c3e4caaa2b22c0b\"}, \"highest_match_report\": {\"title\": \"Protein Powders Research Report\", \"relevance\": \"HIGH\", \"url\": \"https://s3.us-east-1.amazonaws.com/iotatech-kendra.bucket/Protein+Powders+Research+Report.pdf\"}}, {\"_id\": {\"$oid\": \"615383140c3e4caaa2b22c0d\"}, \"highest_match_report\": {\"title\": \"Protein Powders Research Report\", \"relevance\": \"HIGH\", \"url\": \"https://s3.us-east-1.amazonaws.com/iotatech-kendra.bucket/Protein+Powders+Research+Report.pdf\"}}, {\"_id\": {\"$oid\": \"615389fd687b719f52211c5a\"}, \"highest_match_report\": {\"title\": \"US Imports_kendra_test\", \"relevance\": \"HIGH\", \"url\": \"https://s3.us-east-1.amazonaws.com/iotatech-kendra.bucket/US+Imports_kendra_test.pptx\"}}]\n"
     ]
    }
   ],
   "source": [
    "collection='surveys'\n",
    "query_filter={\"user_token\": \"186.113.136.245:2021-09-28\"}\n",
    "projection={\"highest_match_report\":1}\n",
    "# find(collection=collection, query_filter=query_filter)\n",
    "result = find(collection=collection, query_filter=query_filter, projection=projection)\n",
    "print(result)"
   ]
  },
  {
   "cell_type": "code",
   "execution_count": 15,
   "metadata": {},
   "outputs": [
    {
     "data": {
      "text/plain": [
       "str"
      ]
     },
     "execution_count": 15,
     "metadata": {},
     "output_type": "execute_result"
    }
   ],
   "source": [
    "type(result)"
   ]
  },
  {
   "cell_type": "code",
   "execution_count": 18,
   "metadata": {},
   "outputs": [
    {
     "data": {
      "text/plain": [
       "[{'_id': {'$oid': '61537e1a0c3e4caaa2b22c03'},\n",
       "  'highest_match_report': {'title': 'Labor statistics - Food industry',\n",
       "   'relevance': 'HIGH',\n",
       "   'url': 'https://s3.us-east-1.amazonaws.com/iotatech-kendra.bucket/Labor+statistics+-+Food+industry.pdf'}},\n",
       " {'_id': {'$oid': '615381330c3e4caaa2b22c05'},\n",
       "  'highest_match_report': {'title': 'Soft Drink Research Report',\n",
       "   'relevance': 'HIGH',\n",
       "   'url': 'https://s3.us-east-1.amazonaws.com/iotatech-kendra.bucket/Soft+Drink+Research+Report.pdf'}},\n",
       " {'_id': {'$oid': '615382110c3e4caaa2b22c07'},\n",
       "  'highest_match_report': {'title': 'Labor statistics - Food industry',\n",
       "   'relevance': 'HIGH',\n",
       "   'url': 'https://s3.us-east-1.amazonaws.com/iotatech-kendra.bucket/Labor+statistics+-+Food+industry.pdf'}},\n",
       " {'_id': {'$oid': '615382620c3e4caaa2b22c09'},\n",
       "  'highest_match_report': {'title': 'US Imports',\n",
       "   'relevance': 'HIGH',\n",
       "   'url': 'https://s3.us-east-1.amazonaws.com/iotatech-kendra.bucket/US+Imports.pdf'}},\n",
       " {'_id': {'$oid': '615382c00c3e4caaa2b22c0b'},\n",
       "  'highest_match_report': {'title': 'Protein Powders Research Report',\n",
       "   'relevance': 'HIGH',\n",
       "   'url': 'https://s3.us-east-1.amazonaws.com/iotatech-kendra.bucket/Protein+Powders+Research+Report.pdf'}},\n",
       " {'_id': {'$oid': '615383140c3e4caaa2b22c0d'},\n",
       "  'highest_match_report': {'title': 'Protein Powders Research Report',\n",
       "   'relevance': 'HIGH',\n",
       "   'url': 'https://s3.us-east-1.amazonaws.com/iotatech-kendra.bucket/Protein+Powders+Research+Report.pdf'}},\n",
       " {'_id': {'$oid': '615389fd687b719f52211c5a'},\n",
       "  'highest_match_report': {'title': 'US Imports_kendra_test',\n",
       "   'relevance': 'HIGH',\n",
       "   'url': 'https://s3.us-east-1.amazonaws.com/iotatech-kendra.bucket/US+Imports_kendra_test.pptx'}}]"
      ]
     },
     "execution_count": 18,
     "metadata": {},
     "output_type": "execute_result"
    }
   ],
   "source": [
    "# string to json\n",
    "json_result = json.loads(result)\n",
    "json_result"
   ]
  },
  {
   "cell_type": "code",
   "execution_count": 21,
   "metadata": {},
   "outputs": [
    {
     "data": {
      "text/plain": [
       "'[{\"_id\": {\"$oid\": \"61537e1a0c3e4caaa2b22c03\"}, \"highest_match_report\": {\"title\": \"Labor statistics - Food industry\", \"relevance\": \"HIGH\", \"url\": \"https://s3.us-east-1.amazonaws.com/iotatech-kendra.bucket/Labor+statistics+-+Food+industry.pdf\"}}, {\"_id\": {\"$oid\": \"615381330c3e4caaa2b22c05\"}, \"highest_match_report\": {\"title\": \"Soft Drink Research Report\", \"relevance\": \"HIGH\", \"url\": \"https://s3.us-east-1.amazonaws.com/iotatech-kendra.bucket/Soft+Drink+Research+Report.pdf\"}}, {\"_id\": {\"$oid\": \"615382110c3e4caaa2b22c07\"}, \"highest_match_report\": {\"title\": \"Labor statistics - Food industry\", \"relevance\": \"HIGH\", \"url\": \"https://s3.us-east-1.amazonaws.com/iotatech-kendra.bucket/Labor+statistics+-+Food+industry.pdf\"}}, {\"_id\": {\"$oid\": \"615382620c3e4caaa2b22c09\"}, \"highest_match_report\": {\"title\": \"US Imports\", \"relevance\": \"HIGH\", \"url\": \"https://s3.us-east-1.amazonaws.com/iotatech-kendra.bucket/US+Imports.pdf\"}}, {\"_id\": {\"$oid\": \"615382c00c3e4caaa2b22c0b\"}, \"highest_match_report\": {\"title\": \"Protein Powders Research Report\", \"relevance\": \"HIGH\", \"url\": \"https://s3.us-east-1.amazonaws.com/iotatech-kendra.bucket/Protein+Powders+Research+Report.pdf\"}}, {\"_id\": {\"$oid\": \"615383140c3e4caaa2b22c0d\"}, \"highest_match_report\": {\"title\": \"Protein Powders Research Report\", \"relevance\": \"HIGH\", \"url\": \"https://s3.us-east-1.amazonaws.com/iotatech-kendra.bucket/Protein+Powders+Research+Report.pdf\"}}, {\"_id\": {\"$oid\": \"615389fd687b719f52211c5a\"}, \"highest_match_report\": {\"title\": \"US Imports_kendra_test\", \"relevance\": \"HIGH\", \"url\": \"https://s3.us-east-1.amazonaws.com/iotatech-kendra.bucket/US+Imports_kendra_test.pptx\"}}]'"
      ]
     },
     "execution_count": 21,
     "metadata": {},
     "output_type": "execute_result"
    }
   ],
   "source": [
    "# json to string\n",
    "result_string = dumps(json_result)\n",
    "result_string"
   ]
  },
  {
   "cell_type": "code",
   "execution_count": 22,
   "metadata": {},
   "outputs": [
    {
     "data": {
      "text/plain": [
       "str"
      ]
     },
     "execution_count": 22,
     "metadata": {},
     "output_type": "execute_result"
    }
   ],
   "source": [
    "type(result_string)"
   ]
  },
  {
   "cell_type": "markdown",
   "metadata": {},
   "source": [
    "# Testing "
   ]
  },
  {
   "cell_type": "code",
   "execution_count": 8,
   "metadata": {},
   "outputs": [],
   "source": [
    "import json"
   ]
  },
  {
   "cell_type": "markdown",
   "metadata": {},
   "source": [
    "### find"
   ]
  },
  {
   "cell_type": "code",
   "execution_count": 14,
   "metadata": {},
   "outputs": [
    {
     "data": {
      "text/plain": [
       "[{'_id': {'$oid': '617344ede4736991ca792794'},\n",
       "  'highest_match_dashboard': {'title': 'Nutrition and Sandwiches',\n",
       "   'relevance': 'MEDIUM',\n",
       "   'url': 'https://s3.us-east-1.amazonaws.com/iotatech-kendra.bucket/dashboards/nutrition+survey+crossed+sandwiches.pdf'}},\n",
       " {'_id': {'$oid': '6173425ee4736991ca792780'},\n",
       "  'highest_match_dashboard': {'title': 'ConsumerExpenditures',\n",
       "   'relevance': 'MEDIUM',\n",
       "   'url': 'https://s3.us-east-1.amazonaws.com/iotatech-kendra.bucket/dashboards/consumer+expenditures.pdf'}},\n",
       " {'_id': {'$oid': '617322cc756ee8639c6a8f08'},\n",
       "  'highest_match_dashboard': {'title': 'Consumer Expenditures',\n",
       "   'relevance': 'HIGH',\n",
       "   'url': 'https://s3.us-east-1.amazonaws.com/iotatech-kendra.bucket/dashboards/consumer+expenditures.pdf'}},\n",
       " {'_id': {'$oid': '61730901186a34752e98bf87'},\n",
       "  'highest_match_dashboard': {'title': 'Consumer expenditures',\n",
       "   'relevance': 'MEDIUM',\n",
       "   'url': 'https://s3.us-east-1.amazonaws.com/iotatech-kendra.bucket/dashboards/consumer+expenditures.pdf'}}]"
      ]
     },
     "execution_count": 14,
     "metadata": {},
     "output_type": "execute_result"
    }
   ],
   "source": [
    "collection='dashboards'\n",
    "query_filter={\"user_token\": \"186.29.243.144:2021-10-22\"}\n",
    "projection={\"highest_match_dashboard\": 1, \"_id\": 1}\n",
    "dashboards = json.loads(find(collection=collection, query_filter=query_filter, projection=projection))\n",
    "dashboards"
   ]
  },
  {
   "cell_type": "markdown",
   "metadata": {},
   "source": [
    "### Update"
   ]
  },
  {
   "cell_type": "code",
   "execution_count": 59,
   "metadata": {},
   "outputs": [
    {
     "data": {
      "text/plain": [
       "26"
      ]
     },
     "execution_count": 59,
     "metadata": {},
     "output_type": "execute_result"
    }
   ],
   "source": [
    "collection=\"test\"\n",
    "query_filter = {\"test\": \"test\"}\n",
    "document = {\"test\": 'TEST', 'TEST': 'test'}\n",
    "amount='all'\n",
    "result = update(collection=collection, amount=amount, query_filter=query_filter, document=document)\n",
    "result"
   ]
  },
  {
   "cell_type": "code",
   "execution_count": 41,
   "metadata": {},
   "outputs": [
    {
     "data": {
      "text/plain": [
       "('<pymongo.results.UpdateResult object at 0x0000022E2BCE0900>', str)"
      ]
     },
     "execution_count": 41,
     "metadata": {},
     "output_type": "execute_result"
    }
   ],
   "source": [
    "result, type(result)"
   ]
  },
  {
   "cell_type": "code",
   "execution_count": 43,
   "metadata": {},
   "outputs": [
    {
     "data": {
      "text/plain": [
       "'<pymongo.results.DeleteResult object at 0x0000022E2BDB2A00>'"
      ]
     },
     "execution_count": 43,
     "metadata": {},
     "output_type": "execute_result"
    }
   ],
   "source": [
    "collection=\"test\"\n",
    "query_filter = {\"user_id\": \"DELETEME\"}\n",
    "delete(collection=collection, query_filter=query_filter)"
   ]
  },
  {
   "cell_type": "code",
   "execution_count": 45,
   "metadata": {},
   "outputs": [
    {
     "data": {
      "text/plain": [
       "'<pymongo.results.DeleteResult object at 0x0000022E2BCF6C80>'"
      ]
     },
     "execution_count": 45,
     "metadata": {},
     "output_type": "execute_result"
    }
   ],
   "source": [
    "collection=\"test\"\n",
    "query_filter = {\"user_id\": \"DELETEME\"}\n",
    "amount='all'\n",
    "delete(collection=collection, amount=amount, query_filter=query_filter, document=document)"
   ]
  },
  {
   "cell_type": "markdown",
   "metadata": {},
   "source": [
    "# Find Embedded Documents"
   ]
  },
  {
   "cell_type": "code",
   "execution_count": 14,
   "metadata": {},
   "outputs": [
    {
     "data": {
      "text/plain": [
       "[{'_id': {'$oid': '617d42b6af9aa8d04bf3921c'},\n",
       "  'survey': {'question2': 'Marketing and sales',\n",
       "   'slider1': '0',\n",
       "   'slider2': '0',\n",
       "   'slider3': '0',\n",
       "   'slider4': '0',\n",
       "   'slider5': '0',\n",
       "   'slider6': '0',\n",
       "   'slider7': '0',\n",
       "   'slider8': '0',\n",
       "   'slider9': '0',\n",
       "   'slider10': '0',\n",
       "   'slider11': '0',\n",
       "   'slider12': '0',\n",
       "   'slider13': '0',\n",
       "   'slider14': '0',\n",
       "   'slider15': '0',\n",
       "   'slider16': '0',\n",
       "   'slider17': '0',\n",
       "   'slider18': '0',\n",
       "   'slider19': '0',\n",
       "   'slider20': '0',\n",
       "   'slider21': '0',\n",
       "   'slider22': '0',\n",
       "   'slider23': '0',\n",
       "   'slider24': '0',\n",
       "   'slider25': '0',\n",
       "   'slider26': '0',\n",
       "   'slider27': '0',\n",
       "   'slider28': '0',\n",
       "   'slider29': '0',\n",
       "   'slider30': '0',\n",
       "   'slider31': '0',\n",
       "   'slider32': '0',\n",
       "   'slider33': '0',\n",
       "   'slider34': '0',\n",
       "   'slider35': '0',\n",
       "   'slider36': '0',\n",
       "   'slider37': '0',\n",
       "   'slider38': '0',\n",
       "   'slider39': '0',\n",
       "   'slider40': '0',\n",
       "   'question108': [{}],\n",
       "   'slider41': '0',\n",
       "   'slider42': '0',\n",
       "   'slider43': '0',\n",
       "   'slider44': '0',\n",
       "   'question111': [{}],\n",
       "   'question31': [{}],\n",
       "   'question40': [{}],\n",
       "   'slider45': '0',\n",
       "   'slider46': '0',\n",
       "   'slider47': '0',\n",
       "   'slider48': '0',\n",
       "   'slider49': '0',\n",
       "   'slider50': '0',\n",
       "   'slider51': '0',\n",
       "   'slider52': '0',\n",
       "   'slider53': '0',\n",
       "   'slider54': '0',\n",
       "   'slider55': '0',\n",
       "   'question42': [{}],\n",
       "   'question66': [{}],\n",
       "   'question69': [{}],\n",
       "   'question71': [{}],\n",
       "   'slider56': '0',\n",
       "   'slider57': '0',\n",
       "   'slider58': '0',\n",
       "   'slider59': '0',\n",
       "   'question113': [{}],\n",
       "   'question114': [{}],\n",
       "   'question90': [{}],\n",
       "   'question116': [{}],\n",
       "   'categories': 'Food and beverages',\n",
       "   'level1': 'Miscellaneous Store Retailers',\n",
       "   'level2': 'Manufactured (Mobile) Home Dealers',\n",
       "   'company_name_FB': 'test',\n",
       "   'namefood': 'test',\n",
       "   'question8': 'Brand awareness and positioning',\n",
       "   'question33': 'B2B final buyer ',\n",
       "   'question59': ['People who have never considered using the product/service'],\n",
       "   'question68': False,\n",
       "   'question72': False,\n",
       "   'question28': ['Wyoming', 'West Virginia']}}]"
      ]
     },
     "execution_count": 14,
     "metadata": {},
     "output_type": "execute_result"
    }
   ],
   "source": [
    "collection='surveys'\n",
    "query_filter={\"user_token\": \"291020211256\"}\n",
    "projection={\"survey\": 1, \"_id\": 1}\n",
    "surveys = json.loads(find(\n",
    "    collection=collection, \n",
    "    query_filter=query_filter, \n",
    "    projection=projection,\n",
    "    limit=1\n",
    "))\n",
    "surveys"
   ]
  },
  {
   "cell_type": "markdown",
   "metadata": {},
   "source": [
    "# Aggregations"
   ]
  },
  {
   "cell_type": "raw",
   "metadata": {},
   "source": [
    "[\n",
    "    {\n",
    "        '$match': {\n",
    "            'user_token': '291020211256', \n",
    "            'survey_id': '617c3694f32b4bed6127bc4f', \n",
    "            'paid': False\n",
    "        }\n",
    "    }, {\n",
    "        '$addFields': {\n",
    "            'survey_id': {\n",
    "                '$toObjectId': '$survey_id'\n",
    "            }\n",
    "        }\n",
    "    }, {\n",
    "        '$lookup': {\n",
    "            'from': 'surveys', \n",
    "            'localField': 'survey_id', \n",
    "            'foreignField': '_id', \n",
    "            'as': 'survey'\n",
    "        }\n",
    "    }, {\n",
    "        '$unwind': {\n",
    "            'path': '$survey', \n",
    "            'includeArrayIndex': 'arrayIndex', \n",
    "            'preserveNullAndEmptyArrays': False\n",
    "        }\n",
    "    }, {\n",
    "        '$addFields': {\n",
    "            'survey': '$survey.survey'\n",
    "        }\n",
    "    }\n",
    "]"
   ]
  }
 ],
 "metadata": {
  "kernelspec": {
   "display_name": "Python 3 (ipykernel)",
   "language": "python",
   "name": "python3"
  },
  "language_info": {
   "codemirror_mode": {
    "name": "ipython",
    "version": 3
   },
   "file_extension": ".py",
   "mimetype": "text/x-python",
   "name": "python",
   "nbconvert_exporter": "python",
   "pygments_lexer": "ipython3",
   "version": "3.9.7"
  }
 },
 "nbformat": 4,
 "nbformat_minor": 4
}
