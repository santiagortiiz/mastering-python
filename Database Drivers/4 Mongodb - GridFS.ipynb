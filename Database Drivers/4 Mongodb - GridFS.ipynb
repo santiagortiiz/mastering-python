{
 "cells": [
  {
   "cell_type": "code",
   "execution_count": null,
   "metadata": {},
   "outputs": [],
   "source": [
    "!pip install pymongo\n",
    "!pip install dnspython\n",
    "!pip install certifi"
   ]
  },
  {
   "cell_type": "code",
   "execution_count": 1,
   "metadata": {},
   "outputs": [
    {
     "name": "stdout",
     "output_type": "stream",
     "text": [
      "env: MONGO_ATLAS_HOST=iotaimpactcluster.vqlak.mongodb.net\n",
      "env: MONGO_ATLAS_USERNAME=development\n",
      "env: MONGO_ATLAS_PASSWORD=development\n"
     ]
    }
   ],
   "source": [
    "%env MONGO_ATLAS_HOST=\n",
    "%env MONGO_ATLAS_USERNAME=\n",
    "%env MONGO_ATLAS_PASSWORD="
   ]
  },
  {
   "cell_type": "code",
   "execution_count": 2,
   "metadata": {},
   "outputs": [],
   "source": [
    "import os\n",
    "import certifi\n",
    "from pymongo import MongoClient\n",
    "from bson.json_util import dumps, ObjectId\n",
    "import gridfs"
   ]
  },
  {
   "cell_type": "code",
   "execution_count": 3,
   "metadata": {},
   "outputs": [],
   "source": [
    "def get_db_handle(**kwargs):\n",
    "    ''' Database connector\n",
    "    Optional Arguments:\n",
    "        host, username, password, db_name\n",
    "    Return:\n",
    "        client: Mongo Client\n",
    "        db_handle: client[db_name]\n",
    "    '''\n",
    "\n",
    "    host = kwargs.get('host', os.environ[\"MONGO_ATLAS_HOST\"])\n",
    "    username = kwargs.get('username', os.environ[\"MONGO_ATLAS_USERNAME\"])\n",
    "    password = kwargs.get('password', os.environ[\"MONGO_ATLAS_PASSWORD\"])\n",
    "    db_name = kwargs.get('db_name', 'iotaimpact')\n",
    "    try:\n",
    "        url = f\"mongodb+srv://{username}:{password}@{host}/{db_name}?retryWrites=true&w=majority\"\n",
    "        client = MongoClient(url, tlsCAFile=certifi.where())\n",
    "\n",
    "        db_handle = client[db_name]\n",
    "        return db_handle, client\n",
    "\n",
    "    except Exception as e:\n",
    "        print(f'Something went wrong: {e} \\nTrying to re-connect to Mongodb...')\n",
    "        return get_db_handle()\n",
    "\n",
    "def insert(**kwargs):\n",
    "    ''' General Purpose INSERT\n",
    "    Arguments: \n",
    "        db_name (optional): target database (default: iotaimpact)\n",
    "        collection: target collection\n",
    "        document(s): Object or List of Objects to be stored\n",
    "    Return: \n",
    "        ID(s) of the inserted object(s)\n",
    "    '''\n",
    "    db_name = kwargs.get('db_name', 'iotaimpact')\n",
    "    db, _ = get_db_handle(db_name=db_name)\n",
    "\n",
    "    collection = kwargs.get('collection', 'undefined_collection')\n",
    "    document = kwargs.get('document', None)\n",
    "    documents = kwargs.get('documents', None)\n",
    "    \n",
    "    # insert_one\n",
    "    if document:\n",
    "        return str(db[collection].insert_one(document).inserted_id)\n",
    "    # insert_many\n",
    "    elif documents:\n",
    "        return str(db[collection].insert_many(documents))\n",
    "\n",
    "def update(**kwargs):\n",
    "    db_name = kwargs.get('db_name', 'iotaimpact')\n",
    "    db, _ = get_db_handle(db_name=db_name)\n",
    "\n",
    "    query_filter = kwargs.get('query_filter', None)\n",
    "    collection = kwargs.get('collection', None)\n",
    "    document = kwargs.get('document', None)\n",
    "\n",
    "    if collection is None or query_filter is None or document is None:\n",
    "        raise Exception('Specify collection, query_filter and document')\n",
    "    \n",
    "    return str(db[collection].update_one(query_filter, {'$set': document}))\n",
    "\n",
    "def find(**kwargs):\n",
    "    ''' General Purpose FIND \n",
    "    Arguments: \n",
    "        db_name (optional): target database\n",
    "        collection: target collection\n",
    "        query_filter: mongodb find query_filter\n",
    "    Return: \n",
    "        list of documents found\n",
    "    '''\n",
    "    db_name = kwargs.get('db_name', 'iotaimpact')\n",
    "    db, _ = get_db_handle(db_name=db_name)\n",
    "\n",
    "    collection = kwargs.get('collection', None)\n",
    "    if collection is None:\n",
    "        raise Exception('Specify the collection')\n",
    "\n",
    "    id = kwargs.get('id', None) \n",
    "    query_filter = kwargs.get('query_filter', None) # query_filter = { user_id: user_id }\n",
    "    search_result = None\n",
    "  \n",
    "    if id:\n",
    "        search_result = dumps(db[collection].find_one({\"_id\": ObjectId(id)}))\n",
    "\n",
    "    elif query_filter: \n",
    "        search_result = dumps(db[collection].find(query_filter))\n",
    "\n",
    "    return search_result\n",
    "\n",
    "# GridFS Methods\n",
    "def insert_large_document(binary_document, **kwargs):\n",
    "    # Document validation\n",
    "    if not binary_document:\n",
    "        raise Exception('Specify the document to save')\n",
    "\n",
    "    # Get the database client\n",
    "    db_name = kwargs.get('db_name', 'iotaimpact')\n",
    "    db, _ = get_db_handle(db_name=db_name)\n",
    "\n",
    "    # Mongodb - GridFS storage\n",
    "    return put(db, binary_document, **kwargs)"
   ]
  },
  {
   "cell_type": "code",
   "execution_count": 4,
   "metadata": {},
   "outputs": [],
   "source": [
    "# GridFS Put Method\n",
    "def put(db, binary_document, **kwargs):\n",
    "    ''' It is the equivalent of creating a new file and writing on it '''\n",
    "    fs = gridfs.GridFS(db)\n",
    "    # return fs.put(binary_document, **kwargs)\n",
    "\n",
    "    fs.put(binary_document)\n",
    "    return"
   ]
  },
  {
   "cell_type": "code",
   "execution_count": 5,
   "metadata": {},
   "outputs": [],
   "source": [
    "string_document = 'Hola Mundo String'\n",
    "binary_document = b'Hola Mundo Bytes'\n",
    "filename='test'"
   ]
  },
  {
   "cell_type": "code",
   "execution_count": 6,
   "metadata": {},
   "outputs": [],
   "source": [
    "db, client = get_db_handle(db_name='iotaimpact')"
   ]
  },
  {
   "cell_type": "code",
   "execution_count": 7,
   "metadata": {},
   "outputs": [
    {
     "data": {
      "text/plain": [
       "{'ok': 1}"
      ]
     },
     "execution_count": 7,
     "metadata": {},
     "output_type": "execute_result"
    }
   ],
   "source": [
    "client.admin.command('ping')"
   ]
  },
  {
   "cell_type": "code",
   "execution_count": 8,
   "metadata": {},
   "outputs": [
    {
     "data": {
      "text/plain": [
       "['google_trends_analysis', 'surveys']"
      ]
     },
     "execution_count": 8,
     "metadata": {},
     "output_type": "execute_result"
    }
   ],
   "source": [
    "db.list_collection_names()"
   ]
  },
  {
   "cell_type": "code",
   "execution_count": null,
   "metadata": {},
   "outputs": [],
   "source": []
  },
  {
   "cell_type": "code",
   "execution_count": 9,
   "metadata": {
    "scrolled": false
   },
   "outputs": [
    {
     "data": {
      "text/plain": [
       "'{\"_id\": {\"$oid\": \"61537d880c3e4caaa2b22c01\"}, \"user_token\": \"186.113.136.245:2021-09-23\", \"survey\": {\"industry_f\": \"Cookie and Cracker Manufacturing \", \"question2\": \"Products and services\", \"question9\": \"Pain points\", \"question18\": [\"Sizing of needs and pain points by customer profile\"], \"question31\": [{}], \"question33\": \"B2C distributor \", \"question39\": [\"Overall needs and pain points for the individuals as they relate to all aspects of their lives\"], \"question40\": [{}], \"question42\": [{}], \"question66\": [{}], \"question69\": [{}], \"question71\": [{}], \"question90\": [{}], \"question99\": \"Food and beverage\", \"question108\": [{}], \"question111\": [{}], \"question113\": [{}], \"question114\": [{}], \"question116\": [{}], \"slider12\": \"50\", \"slider2\": \"50\", \"slider3\": \"50\", \"slider4\": \"50\", \"slider5\": \"50\", \"slider6\": \"50\", \"slider7\": \"50\", \"slider8\": \"50\", \"slider9\": \"50\"}, \"survey_answers\": \"Cookie and Cracker Manufacturing , Products and services, Pain points, Sizing of needs and pain points by customer profile, B2C distributor , Overall needs and pain points for the individuals as they relate to all aspects of their lives, Food and beverage\", \"kendra_result\": [{\"title\": \"US - Accommodation and food services Industry size trends\", \"relevance\": \"HIGH\", \"url\": \"https://s3.us-east-1.amazonaws.com/iotatech-kendra.bucket/US+-+Accommodation+and+food+services+Industry+size+trends.pdf\"}, {\"title\": \"Labor statistics - Food industry\", \"relevance\": \"MEDIUM\", \"url\": \"https://s3.us-east-1.amazonaws.com/iotatech-kendra.bucket/Labor+statistics+-+Food+industry.pdf\"}, {\"title\": \"Protein Powders Research Report\", \"relevance\": \"MEDIUM\", \"url\": \"https://s3.us-east-1.amazonaws.com/iotatech-kendra.bucket/Protein+Powders+Research+Report.pdf\"}, {\"title\": \"US food projections\", \"relevance\": \"MEDIUM\", \"url\": \"https://s3.us-east-1.amazonaws.com/iotatech-kendra.bucket/US+food+projections.pdf\"}, {\"title\": \"US Imports_kendra_test\", \"relevance\": \"MEDIUM\", \"url\": \"https://s3.us-east-1.amazonaws.com/iotatech-kendra.bucket/US+Imports_kendra_test.pptx\"}, {\"title\": \"US Imports\", \"relevance\": \"MEDIUM\", \"url\": \"https://s3.us-east-1.amazonaws.com/iotatech-kendra.bucket/US+Imports.pdf\"}, {\"title\": \"Research Report on Hot Drinks\", \"relevance\": \"MEDIUM\", \"url\": \"https://s3.us-east-1.amazonaws.com/iotatech-kendra.bucket/Research+Report+on+Hot+Drinks.pdf\"}, {\"title\": \"Bureau of Economic Analysis- Personal consumption\", \"relevance\": \"MEDIUM\", \"url\": \"https://s3.us-east-1.amazonaws.com/iotatech-kendra.bucket/Bureau+of+Economic+Analysis-+Personal+consumption.pdf\"}, {\"title\": \"US - Accomodation and food services industry general overview 2019\", \"relevance\": \"MEDIUM\", \"url\": \"https://s3.us-east-1.amazonaws.com/iotatech-kendra.bucket/US+-+Accomodation+and+food+services+industry+general+overview+2019.pdf\"}, {\"title\": \"Functional Beverages Research Report\", \"relevance\": \"MEDIUM\", \"url\": \"https://s3.us-east-1.amazonaws.com/iotatech-kendra.bucket/Functional+Beverages+Research+Report.pdf\"}], \"highest_match_report\": {\"title\": \"US - Accommodation and food services Industry size trends\", \"relevance\": \"HIGH\", \"url\": \"https://s3.us-east-1.amazonaws.com/iotatech-kendra.bucket/US+-+Accommodation+and+food+services+Industry+size+trends.pdf\"}, \"paid\": false}'"
      ]
     },
     "execution_count": 9,
     "metadata": {},
     "output_type": "execute_result"
    }
   ],
   "source": [
    "find(collection='surveys', id='61537d880c3e4caaa2b22c01')"
   ]
  },
  {
   "cell_type": "code",
   "execution_count": 10,
   "metadata": {},
   "outputs": [],
   "source": [
    "db, _ = get_db_handle(db_name='iotaimpact')\n",
    "fs = gridfs.GridFS(db)"
   ]
  },
  {
   "cell_type": "code",
   "execution_count": 11,
   "metadata": {},
   "outputs": [
    {
     "data": {
      "text/plain": [
       "ObjectId('615679954ea44edccce7a848')"
      ]
     },
     "execution_count": 11,
     "metadata": {},
     "output_type": "execute_result"
    }
   ],
   "source": [
    "fs.put(binary_document, filename=filename)"
   ]
  },
  {
   "cell_type": "code",
   "execution_count": null,
   "metadata": {},
   "outputs": [],
   "source": [
    "help(gridfs)"
   ]
  },
  {
   "cell_type": "code",
   "execution_count": null,
   "metadata": {},
   "outputs": [],
   "source": []
  }
 ],
 "metadata": {
  "kernelspec": {
   "display_name": "Python 3 (ipykernel)",
   "language": "python",
   "name": "python3"
  },
  "language_info": {
   "codemirror_mode": {
    "name": "ipython",
    "version": 3
   },
   "file_extension": ".py",
   "mimetype": "text/x-python",
   "name": "python",
   "nbconvert_exporter": "python",
   "pygments_lexer": "ipython3",
   "version": "3.9.7"
  }
 },
 "nbformat": 4,
 "nbformat_minor": 4
}
