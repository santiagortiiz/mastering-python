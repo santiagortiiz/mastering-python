{
 "cells": [
  {
   "cell_type": "markdown",
   "metadata": {},
   "source": [
    "# Installation"
   ]
  },
  {
   "cell_type": "markdown",
   "metadata": {},
   "source": [
    "Download from here\n",
    "https://dev.mysql.com/downloads/connector/python/\n",
    "\n",
    "Then install it in the virtual environment using PIP:\n",
    "pip install mysql-connector-python"
   ]
  },
  {
   "cell_type": "markdown",
   "metadata": {},
   "source": [
    "# Importing libraries"
   ]
  },
  {
   "cell_type": "code",
   "execution_count": 2,
   "metadata": {},
   "outputs": [],
   "source": [
    "import mysql.connector\n",
    "from mysql.connector import errorcode"
   ]
  },
  {
   "cell_type": "markdown",
   "metadata": {},
   "source": [
    "# Create Database"
   ]
  },
  {
   "cell_type": "code",
   "execution_count": 24,
   "metadata": {},
   "outputs": [
    {
     "name": "stdout",
     "output_type": "stream",
     "text": [
      "Database in use: ocr\n"
     ]
    }
   ],
   "source": [
    "def create_database(cursor):\n",
    "    try:\n",
    "        cursor.execute(f'CREATE DATABASE {DB_NAME} DEFAULT CHARACTER SET utf8')\n",
    "    except mysql.connector.Error as err:\n",
    "        print(f'Failed creating database: {err}')\n",
    "        exit(1)\n",
    "\n",
    "try:\n",
    "    cursor.execute(f\"USE {DB_NAME}\")\n",
    "    print(f'Database in use: {DB_NAME}')\n",
    "    \n",
    "except mysql.connector.Error as err:\n",
    "    print(f\"Database {DB_NAME} does not exists.\")\n",
    "    if err.errno == errorcode.ER_BAD_DB_ERROR:\n",
    "        create_database(cursor)\n",
    "        print(f\"Database {DB_NAME} created successfully.\")\n",
    "        cnx.database = DB_NAME\n",
    "    else:\n",
    "        print(err)\n",
    "        exit(1)"
   ]
  },
  {
   "cell_type": "markdown",
   "metadata": {},
   "source": [
    "# Connecting to an existing Database"
   ]
  },
  {
   "cell_type": "markdown",
   "metadata": {},
   "source": [
    "### Option 1"
   ]
  },
  {
   "cell_type": "code",
   "execution_count": 9,
   "metadata": {},
   "outputs": [],
   "source": [
    "try:\n",
    "    # Options\n",
    "    user='root'\n",
    "    password='r00t'\n",
    "    database='ocr'\n",
    "    \n",
    "    # Set Connection\n",
    "    cnx = mysql.connector.connect(user=user, password=password, database=database)\n",
    "    \n",
    "except mysql.connector.Error as err:\n",
    "    if err.errno == errorcode.ER_ACCESS_DENIED_ERROR:\n",
    "        print(\"Something is wrong with your user name or password\")\n",
    "    elif err.errno == errorcode.ER_BAD_DB_ERROR:\n",
    "        print(\"Database does not exist\")\n",
    "    else:\n",
    "        print(err)\n",
    "else:\n",
    "    cnx.close()"
   ]
  },
  {
   "cell_type": "markdown",
   "metadata": {},
   "source": [
    "### Option 2 (My Preference)"
   ]
  },
  {
   "cell_type": "code",
   "execution_count": 4,
   "metadata": {},
   "outputs": [],
   "source": [
    "try:\n",
    "    # Configuration\n",
    "    config = {\n",
    "        'user': 'root',\n",
    "        'password': 'r00t',\n",
    "        'database': 'ocr',\n",
    "        'raise_on_warnings': True\n",
    "    }\n",
    "    \n",
    "    # Set Connection\n",
    "    cnx = mysql.connector.connect(**config)\n",
    "    \n",
    "except mysql.connector.Error as err:\n",
    "    if err.errno == errorcode.ER_ACCESS_DENIED_ERROR:\n",
    "        print(\"Something is wrong with your user name or password\")\n",
    "    elif err.errno == errorcode.ER_BAD_DB_ERROR:\n",
    "        print(\"Database does not exist\")\n",
    "    else:\n",
    "        print(err)\n",
    "else:\n",
    "    cnx.close()"
   ]
  },
  {
   "cell_type": "markdown",
   "metadata": {},
   "source": [
    "# Creating Tables"
   ]
  },
  {
   "cell_type": "code",
   "execution_count": 96,
   "metadata": {},
   "outputs": [],
   "source": [
    "TABLES = {}\n",
    "\n",
    "TABLES['results'] = '''\n",
    "    CREATE TABLE results (\n",
    "    id INT AUTO_INCREMENT, \n",
    "    ocr_text VARCHAR(255), \n",
    "    created_at timestamp NOT NULL DEFAULT CURRENT_TIMESTAMP,\n",
    "    modified_at timestamp NOT NULL DEFAULT CURRENT_TIMESTAMP ON UPDATE CURRENT_TIMESTAMP,\n",
    "    active boolean NOT NULL DEFAULT 1,\n",
    "    PRIMARY KEY (id))\n",
    "'''"
   ]
  },
  {
   "cell_type": "code",
   "execution_count": 97,
   "metadata": {},
   "outputs": [
    {
     "name": "stdout",
     "output_type": "stream",
     "text": [
      "Creating table 'results'...\n",
      "OK\n"
     ]
    }
   ],
   "source": [
    "cnx = mysql.connector.connect(**config)\n",
    "cursor = cnx.cursor()\n",
    "\n",
    "DB_NAME = 'ocr'\n",
    "cursor.execute(f\"USE {DB_NAME}\")\n",
    "\n",
    "for table in TABLES:\n",
    "    mysql_statement = TABLES[table]\n",
    "    \n",
    "    try:\n",
    "        print(f\"Creating table '{table}'...\")\n",
    "        cursor.execute(mysql_statement)\n",
    "        \n",
    "    except mysql.connector.Error as err:\n",
    "        if err.errno == errorcode.ER_TABLE_EXISTS_ERROR:\n",
    "            print(\"already exists.\")\n",
    "        else:\n",
    "            print(err.msg)\n",
    "    else:\n",
    "        print(\"OK\")\n",
    "\n",
    "cursor.close()\n",
    "cnx.close()"
   ]
  },
  {
   "cell_type": "markdown",
   "metadata": {},
   "source": [
    "# Inserting Records"
   ]
  },
  {
   "cell_type": "raw",
   "metadata": {},
   "source": [
    "mysql_statement = '''INSERT INTO results (ocr_text) VALUES (%s)'''\n",
    "values = [('text1')]\n",
    "\n",
    "cursor.execute(mysql_statement, values)"
   ]
  },
  {
   "cell_type": "code",
   "execution_count": 23,
   "metadata": {},
   "outputs": [],
   "source": [
    "cnx = mysql.connector.connect(**config)\n",
    "cursor = cnx.cursor()\n",
    "\n",
    "DB_NAME = 'ocr'\n",
    "cursor.execute(f\"USE {DB_NAME}\")"
   ]
  },
  {
   "cell_type": "code",
   "execution_count": 25,
   "metadata": {},
   "outputs": [
    {
     "name": "stdout",
     "output_type": "stream",
     "text": [
      "\n",
      "    INSERT INTO \n",
      "    results (ocr_text) VALUES ('textnn')\n",
      "    \n"
     ]
    }
   ],
   "source": [
    "ocr_text='ocr_text'\n",
    "value= \"'textnn'\"\n",
    "mysql_statement = f'''\n",
    "    INSERT INTO \n",
    "    results ({ocr_text}) VALUES ({value})\n",
    "    '''\n",
    "print(mysql_statement)\n",
    "cursor.execute(mysql_statement)"
   ]
  },
  {
   "cell_type": "code",
   "execution_count": 26,
   "metadata": {},
   "outputs": [],
   "source": [
    "cnx.commit()\n",
    "\n",
    "cursor.close()\n",
    "cnx.close()"
   ]
  },
  {
   "cell_type": "markdown",
   "metadata": {},
   "source": [
    "# Drop a Table"
   ]
  },
  {
   "cell_type": "code",
   "execution_count": 95,
   "metadata": {},
   "outputs": [],
   "source": [
    "cnx = mysql.connector.connect(**config)\n",
    "cursor = cnx.cursor()\n",
    "\n",
    "DB_NAME = 'ocr'\n",
    "cursor.execute(f\"USE {DB_NAME}\")\n",
    "\n",
    "mysql_statement = '''DROP TABLE results, results2, results3, results4, results5, results6'''\n",
    "cursor.execute(mysql_statement)\n",
    "\n",
    "cursor.close()\n",
    "cnx.close()"
   ]
  },
  {
   "cell_type": "code",
   "execution_count": null,
   "metadata": {},
   "outputs": [],
   "source": []
  }
 ],
 "metadata": {
  "kernelspec": {
   "display_name": "Python 3 (ipykernel)",
   "language": "python",
   "name": "python3"
  },
  "language_info": {
   "codemirror_mode": {
    "name": "ipython",
    "version": 3
   },
   "file_extension": ".py",
   "mimetype": "text/x-python",
   "name": "python",
   "nbconvert_exporter": "python",
   "pygments_lexer": "ipython3",
   "version": "3.9.7"
  }
 },
 "nbformat": 4,
 "nbformat_minor": 4
}
