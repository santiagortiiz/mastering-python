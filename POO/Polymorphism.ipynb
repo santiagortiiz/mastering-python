{
 "cells": [
  {
   "cell_type": "code",
   "execution_count": 1,
   "id": "a3674d27",
   "metadata": {},
   "outputs": [],
   "source": [
    "class Backend:\n",
    "    def write_code(self):\n",
    "        print('Logic')\n",
    "\n",
    "class Frontend:\n",
    "    def write_code(self):\n",
    "        print('UI')"
   ]
  },
  {
   "cell_type": "markdown",
   "id": "9e708101",
   "metadata": {},
   "source": [
    "# Polymorphism"
   ]
  },
  {
   "cell_type": "code",
   "execution_count": 2,
   "id": "f84fcaa6",
   "metadata": {},
   "outputs": [],
   "source": [
    "# Interface\n",
    "def coding(dev):\n",
    "    # Dev parameter must not be of an specific type\n",
    "    dev.write_code()"
   ]
  },
  {
   "cell_type": "code",
   "execution_count": 3,
   "id": "7442df27",
   "metadata": {},
   "outputs": [
    {
     "name": "stdout",
     "output_type": "stream",
     "text": [
      "Logic\n"
     ]
    }
   ],
   "source": [
    "back_dev = Backend()\n",
    "coding(back_dev)"
   ]
  },
  {
   "cell_type": "code",
   "execution_count": 4,
   "id": "0a08a190",
   "metadata": {},
   "outputs": [
    {
     "name": "stdout",
     "output_type": "stream",
     "text": [
      "UI\n"
     ]
    }
   ],
   "source": [
    "front_dev = Frontend()\n",
    "coding(front_dev)"
   ]
  }
 ],
 "metadata": {
  "kernelspec": {
   "display_name": "Python 3 (ipykernel)",
   "language": "python",
   "name": "python3"
  },
  "language_info": {
   "codemirror_mode": {
    "name": "ipython",
    "version": 3
   },
   "file_extension": ".py",
   "mimetype": "text/x-python",
   "name": "python",
   "nbconvert_exporter": "python",
   "pygments_lexer": "ipython3",
   "version": "3.9.12"
  }
 },
 "nbformat": 4,
 "nbformat_minor": 5
}
