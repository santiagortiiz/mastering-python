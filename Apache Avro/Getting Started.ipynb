{
 "cells": [
  {
   "cell_type": "markdown",
   "id": "84c5bfe1",
   "metadata": {},
   "source": [
    "# [Apache Avro - Getting started](https://avro.apache.org/docs/current/gettingstartedpython.html)"
   ]
  },
  {
   "cell_type": "code",
   "execution_count": 1,
   "id": "7a7717a5",
   "metadata": {},
   "outputs": [
    {
     "name": "stdout",
     "output_type": "stream",
     "text": [
      "Collecting avro\n",
      "  Downloading avro-1.11.0.tar.gz (83 kB)\n",
      "  Installing build dependencies: started\n",
      "  Installing build dependencies: finished with status 'done'\n",
      "  Getting requirements to build wheel: started\n",
      "  Getting requirements to build wheel: finished with status 'done'\n",
      "    Preparing wheel metadata: started\n",
      "    Preparing wheel metadata: finished with status 'done'\n",
      "Building wheels for collected packages: avro\n",
      "  Building wheel for avro (PEP 517): started\n",
      "  Building wheel for avro (PEP 517): finished with status 'done'\n",
      "  Created wheel for avro: filename=avro-1.11.0-py2.py3-none-any.whl size=115908 sha256=c84c94033dc013920775b85da94e740f88eb6109b87039a78a6968fc6d7f8b94\n",
      "  Stored in directory: c:\\users\\santiago ortiz\\appdata\\local\\pip\\cache\\wheels\\09\\98\\af\\28b72da319fad61b62e4f94a70a1336523518d9b5ef0d86249\n",
      "Successfully built avro\n",
      "Installing collected packages: avro\n",
      "Successfully installed avro-1.11.0\n"
     ]
    }
   ],
   "source": [
    "!pip install avro"
   ]
  },
  {
   "cell_type": "code",
   "execution_count": 3,
   "id": "05a39983",
   "metadata": {},
   "outputs": [],
   "source": [
    "import avro"
   ]
  },
  {
   "cell_type": "code",
   "execution_count": 4,
   "id": "8a09123b",
   "metadata": {},
   "outputs": [
    {
     "name": "stdout",
     "output_type": "stream",
     "text": [
      "1.11.0\n"
     ]
    }
   ],
   "source": [
    "print(avro.__version__)"
   ]
  },
  {
   "cell_type": "code",
   "execution_count": 1,
   "id": "a67fccb6",
   "metadata": {},
   "outputs": [],
   "source": [
    "import avro.schema\n",
    "from avro.datafile import DataFileReader, DataFileWriter\n",
    "from avro.io import DatumReader, DatumWriter"
   ]
  },
  {
   "cell_type": "markdown",
   "id": "2ef4f0be",
   "metadata": {},
   "source": [
    "### Schema"
   ]
  },
  {
   "cell_type": "code",
   "execution_count": 3,
   "id": "b364afca",
   "metadata": {},
   "outputs": [],
   "source": [
    "schema = avro.schema.parse(open(\"user.avsc\", \"rb\").read())"
   ]
  },
  {
   "cell_type": "code",
   "execution_count": 12,
   "id": "5320c020",
   "metadata": {},
   "outputs": [
    {
     "data": {
      "text/plain": [
       "('example.avro.User',\n",
       " 'User',\n",
       " [<avro.schema.Field at 0x2d5957da910>,\n",
       "  <avro.schema.Field at 0x2d5957da640>,\n",
       "  <avro.schema.Field at 0x2d5957dad60>],\n",
       " {'name': <avro.schema.Field at 0x2d5957da910>,\n",
       "  'favorite_number': <avro.schema.Field at 0x2d5957da640>,\n",
       "  'favorite_color': <avro.schema.Field at 0x2d5957dad60>},\n",
       " {'type': 'record',\n",
       "  'name': 'User',\n",
       "  'namespace': 'example.avro',\n",
       "  'fields': [<avro.schema.Field at 0x2d5957da910>,\n",
       "   <avro.schema.Field at 0x2d5957da640>,\n",
       "   <avro.schema.Field at 0x2d5957dad60>]},\n",
       " {'type': 'record',\n",
       "  'name': 'User',\n",
       "  'namespace': 'example.avro',\n",
       "  'fields': [{'type': 'string', 'name': 'name'},\n",
       "   {'type': ['int', 'null'], 'name': 'favorite_number'},\n",
       "   {'type': ['string', 'null'], 'name': 'favorite_color'}]})"
      ]
     },
     "execution_count": 12,
     "metadata": {},
     "output_type": "execute_result"
    }
   ],
   "source": [
    "schema.fullname, schema.name, schema.fields, schema.fields_dict, schema.props, schema.to_json()"
   ]
  },
  {
   "cell_type": "markdown",
   "id": "1f056ed0",
   "metadata": {},
   "source": [
    "### Writer"
   ]
  },
  {
   "cell_type": "code",
   "execution_count": 15,
   "id": "7055c0f7",
   "metadata": {},
   "outputs": [],
   "source": [
    "writer = DataFileWriter(open(\"users.avro\", \"wb\"), DatumWriter(), schema)\n",
    "writer.append({\"name\": \"Alyssa\", \"favorite_number\": 256})\n",
    "writer.append({\"name\": \"Ben\", \"favorite_number\": 7, \"favorite_color\": \"red\"})\n",
    "writer.close()"
   ]
  },
  {
   "cell_type": "markdown",
   "id": "de071218",
   "metadata": {},
   "source": [
    "### Reader"
   ]
  },
  {
   "cell_type": "code",
   "execution_count": 17,
   "id": "073a0770",
   "metadata": {},
   "outputs": [
    {
     "name": "stdout",
     "output_type": "stream",
     "text": [
      "{'name': 'Alyssa', 'favorite_number': 256, 'favorite_color': None}\n",
      "{'name': 'Ben', 'favorite_number': 7, 'favorite_color': 'red'}\n"
     ]
    }
   ],
   "source": [
    "reader = DataFileReader(open(\"users.avro\", \"rb\"), DatumReader())\n",
    "for user in reader:\n",
    "    print(user)\n",
    "reader.close()"
   ]
  },
  {
   "cell_type": "code",
   "execution_count": null,
   "id": "bd9cca34",
   "metadata": {},
   "outputs": [],
   "source": []
  }
 ],
 "metadata": {
  "kernelspec": {
   "display_name": "Python 3 (ipykernel)",
   "language": "python",
   "name": "python3"
  },
  "language_info": {
   "codemirror_mode": {
    "name": "ipython",
    "version": 3
   },
   "file_extension": ".py",
   "mimetype": "text/x-python",
   "name": "python",
   "nbconvert_exporter": "python",
   "pygments_lexer": "ipython3",
   "version": "3.9.7"
  }
 },
 "nbformat": 4,
 "nbformat_minor": 5
}
