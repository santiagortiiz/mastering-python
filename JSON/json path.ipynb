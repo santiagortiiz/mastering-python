{
 "cells": [
  {
   "cell_type": "markdown",
   "id": "b245bb96",
   "metadata": {},
   "source": [
    "# JSON Path\n",
    "[Reference](https://www.digitalocean.com/community/tutorials/python-jsonpath-examples)"
   ]
  },
  {
   "cell_type": "code",
   "execution_count": 1,
   "id": "eabf78e9",
   "metadata": {},
   "outputs": [
    {
     "name": "stdout",
     "output_type": "stream",
     "text": [
      "Collecting jsonpath-ng\n",
      "  Downloading jsonpath_ng-1.5.3-py3-none-any.whl (29 kB)\n",
      "Collecting ply\n",
      "  Downloading ply-3.11-py2.py3-none-any.whl (49 kB)\n",
      "Requirement already satisfied: decorator in c:\\users\\santiago_ortiz\\anaconda3\\lib\\site-packages (from jsonpath-ng) (5.1.1)\n",
      "Requirement already satisfied: six in c:\\users\\santiago_ortiz\\anaconda3\\lib\\site-packages (from jsonpath-ng) (1.16.0)\n",
      "Installing collected packages: ply, jsonpath-ng\n",
      "Successfully installed jsonpath-ng-1.5.3 ply-3.11\n"
     ]
    }
   ],
   "source": [
    "!pip install jsonpath-ng"
   ]
  },
  {
   "cell_type": "code",
   "execution_count": 112,
   "id": "60b0dd38",
   "metadata": {},
   "outputs": [],
   "source": [
    "data = {\n",
    "  \"jobSite\": {\n",
    "    \"id\": \"61f09d32388ce3af47d85f97\",\n",
    "    \"name\": \"My Great Worksite\",\n",
    "    \"accountId\": \"94f09d60477ce3af47d85f15\",\n",
    "    \"address\": {\n",
    "      \"street1\": \"1015 A St\",\n",
    "      \"street2\": None,\n",
    "      \"city\": \"Tacoma\",\n",
    "      \"stateCode\": \"WA\",\n",
    "      \"postalCode\": \"98402\",\n",
    "      \"county\": \"PIERCE\",\n",
    "      \"country\": \"US\",\n",
    "      \"timeZone\": \"America/Los Angeles\"\n",
    "    },\n",
    "    \"contacts\": [\"34hdu394jre9oi90ieu83er9\", \"59jrjfmdsu8394huedn8493j\"],\n",
    "    \"safetySensitiveSite\": False,\n",
    "    \"prevailingWage\": False,\n",
    "    \"overtimeAllowed\": True,\n",
    "    \"wrapJob\": False\n",
    "  },\n",
    "  \"sourceSystem\": \"SFDC\"\n",
    "}"
   ]
  },
  {
   "cell_type": "code",
   "execution_count": 4,
   "id": "3594ff46",
   "metadata": {},
   "outputs": [],
   "source": [
    "from jsonpath_ng import jsonpath, parse"
   ]
  },
  {
   "cell_type": "markdown",
   "id": "deb9011e",
   "metadata": {},
   "source": [
    "# Find"
   ]
  },
  {
   "cell_type": "code",
   "execution_count": 118,
   "id": "b9051cff",
   "metadata": {},
   "outputs": [],
   "source": [
    "exp = parse('jobSite.address.street1')"
   ]
  },
  {
   "cell_type": "code",
   "execution_count": 126,
   "id": "0d5670fa",
   "metadata": {},
   "outputs": [
    {
     "data": {
      "text/plain": [
       "'1015 A St'"
      ]
     },
     "execution_count": 126,
     "metadata": {},
     "output_type": "execute_result"
    }
   ],
   "source": [
    "[i.value for i in exp.find(data)][0]"
   ]
  },
  {
   "cell_type": "markdown",
   "id": "e9cf9e8c",
   "metadata": {},
   "source": [
    "# Update or create"
   ]
  },
  {
   "cell_type": "code",
   "execution_count": 113,
   "id": "a20bcb0e",
   "metadata": {},
   "outputs": [
    {
     "data": {
      "text/plain": [
       "{'jobSite': {'id': '61f09d32388ce3af47d85f97',\n",
       "  'name': 'My Great Worksite',\n",
       "  'accountId': '94f09d60477ce3af47d85f15',\n",
       "  'address': {'street1': '1015 A St',\n",
       "   'street2': None,\n",
       "   'city': 'Tacoma',\n",
       "   'stateCode': 'WA',\n",
       "   'postalCode': '98402',\n",
       "   'county': 'PIERCE',\n",
       "   'country': 'US',\n",
       "   'timeZone': 'America/Los Angeles',\n",
       "   'street3': 'NEW VALUE'},\n",
       "  'contacts': ['34hdu394jre9oi90ieu83er9', '59jrjfmdsu8394huedn8493j'],\n",
       "  'safetySensitiveSite': False,\n",
       "  'prevailingWage': False,\n",
       "  'overtimeAllowed': True,\n",
       "  'wrapJob': False},\n",
       " 'sourceSystem': 'SFDC'}"
      ]
     },
     "execution_count": 113,
     "metadata": {},
     "output_type": "execute_result"
    }
   ],
   "source": [
    "exp = parse('jobSite.address.street3')\n",
    "exp.update_or_create(data, 'NEW VALUE')\n",
    "data"
   ]
  },
  {
   "cell_type": "code",
   "execution_count": 109,
   "id": "ac1878be",
   "metadata": {},
   "outputs": [
    {
     "data": {
      "text/plain": [
       "{'jobSite': {'id': '61f09d32388ce3af47d85f97',\n",
       "  'name': 'My Great Worksite',\n",
       "  'accountId': '94f09d60477ce3af47d85f15',\n",
       "  'address': {'street1': '1015 A St',\n",
       "   'street2': None,\n",
       "   'city': 'Tacoma',\n",
       "   'stateCode': 'WA',\n",
       "   'postalCode': '98402',\n",
       "   'county': 'PIERCE',\n",
       "   'country': 'US',\n",
       "   'timeZone': 'America/Los Angeles',\n",
       "   'street3': 'NEW VALUE'},\n",
       "  'contacts': ['34hdu394jre9oi90ieu83er9', '59jrjfmdsu8394huedn8493j'],\n",
       "  'safetySensitiveSite': False,\n",
       "  'prevailingWage': False,\n",
       "  'overtimeAllowed': True,\n",
       "  'wrapJob': False},\n",
       " 'sourceSystem': 'SFDC',\n",
       " 'new': [{}, {}, 'NEW FIELD']}"
      ]
     },
     "execution_count": 109,
     "metadata": {},
     "output_type": "execute_result"
    }
   ],
   "source": [
    "exp = parse('new[2]')\n",
    "result = exp.update_or_create(data, 'NEW FIELD')\n",
    "result"
   ]
  },
  {
   "cell_type": "code",
   "execution_count": 68,
   "id": "ed14cf09",
   "metadata": {},
   "outputs": [
    {
     "data": {
      "text/plain": [
       "{'JobSiteName': 'My Great Worksite',\n",
       " 'AddressLine1': '1015 A St',\n",
       " 'AddressLine2': None,\n",
       " 'Tacoma': 'Tacoma',\n",
       " 'PostalCode': '98402',\n",
       " 'Data.JobSiteName': 'My Great Worksite',\n",
       " 'Data.AddressLine1': '1015 A St',\n",
       " 'Data.AddressLine2': None,\n",
       " 'City': 'Tacoma'}"
      ]
     },
     "execution_count": 68,
     "metadata": {},
     "output_type": "execute_result"
    }
   ],
   "source": [
    "simple_schema = {\n",
    "    \"jobSite.name\": \"Data.JobSiteName\",\n",
    "    \"jobSite.address.street1\": \"Data.AddressLine1\",\n",
    "    \"jobSite.address.street2\": \"Data.AddressLine2\",\n",
    "    \"jobSite.address.city\": \"City\",\n",
    "    \"jobSite.address.postalCode\": \"PostalCode\"\n",
    "}\n",
    "\n",
    "result = {}\n",
    "for json_path, new_name in simple_schema.items():\n",
    "    exp = parse(json_path)\n",
    "    value = [i.value for i in exp.find(data)][0]\n",
    "    exp = parse(new_name)\n",
    "    exp.find_or_create(result)\n",
    "    r[new_name] = value\n",
    "r"
   ]
  },
  {
   "cell_type": "code",
   "execution_count": null,
   "id": "f95f8dd6",
   "metadata": {},
   "outputs": [],
   "source": []
  }
 ],
 "metadata": {
  "kernelspec": {
   "display_name": "Python 3 (ipykernel)",
   "language": "python",
   "name": "python3"
  },
  "language_info": {
   "codemirror_mode": {
    "name": "ipython",
    "version": 3
   },
   "file_extension": ".py",
   "mimetype": "text/x-python",
   "name": "python",
   "nbconvert_exporter": "python",
   "pygments_lexer": "ipython3",
   "version": "3.9.12"
  }
 },
 "nbformat": 4,
 "nbformat_minor": 5
}
