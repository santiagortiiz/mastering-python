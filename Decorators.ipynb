{
 "cells": [
  {
   "cell_type": "code",
   "execution_count": 2,
   "id": "82070213",
   "metadata": {},
   "outputs": [],
   "source": [
    "import timeit"
   ]
  },
  {
   "cell_type": "code",
   "execution_count": 3,
   "id": "fb13bd0a",
   "metadata": {},
   "outputs": [],
   "source": [
    "def chronometer(func):\n",
    "    def wrapper(*args, **kwargs):\n",
    "        start = timeit.default_timer()\n",
    "        result = func(*args, **kwargs)\n",
    "        stop = timeit.default_timer()\n",
    "        elapsed = stop - start\n",
    "        print(f'Time: {elapsed}')\n",
    "        return result\n",
    "    return wrapper"
   ]
  },
  {
   "cell_type": "code",
   "execution_count": 5,
   "id": "18592c4c",
   "metadata": {},
   "outputs": [],
   "source": [
    "@chronometer\n",
    "def s(l):\n",
    "    return sum(l)"
   ]
  },
  {
   "cell_type": "code",
   "execution_count": 6,
   "id": "f311a1fe",
   "metadata": {},
   "outputs": [
    {
     "name": "stdout",
     "output_type": "stream",
     "text": [
      "1.499999996212864e-06\n"
     ]
    }
   ],
   "source": [
    "s([1,2,3])"
   ]
  }
 ],
 "metadata": {
  "kernelspec": {
   "display_name": "Python 3 (ipykernel)",
   "language": "python",
   "name": "python3"
  },
  "language_info": {
   "codemirror_mode": {
    "name": "ipython",
    "version": 3
   },
   "file_extension": ".py",
   "mimetype": "text/x-python",
   "name": "python",
   "nbconvert_exporter": "python",
   "pygments_lexer": "ipython3",
   "version": "3.9.7"
  }
 },
 "nbformat": 4,
 "nbformat_minor": 5
}
