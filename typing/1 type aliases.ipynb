{
 "cells": [
  {
   "cell_type": "markdown",
   "metadata": {},
   "source": [
    "# Type aliases"
   ]
  },
  {
   "cell_type": "code",
   "execution_count": 1,
   "metadata": {},
   "outputs": [
    {
     "data": {
      "text/plain": [
       "Point_xy(x=1, y=2)"
      ]
     },
     "execution_count": 1,
     "metadata": {},
     "output_type": "execute_result"
    }
   ],
   "source": [
    "from collections import namedtuple\n",
    "\n",
    "# Type aliases\n",
    "# Useful for simplifying complex type signatures\n",
    "type Point = tuple[int, int]\n",
    "\n",
    "Point_xy = namedtuple('Point_xy', ['x', 'y'])\n",
    "\n",
    "def create_point(point: Point) -> Point_xy:\n",
    "    # instantiate with positional or keyword arguments\n",
    "    p = Point_xy(point[0], point[1])\n",
    "    return p\n",
    "\n",
    "x_y = (1, 2)\n",
    "p = create_point(x_y)\n",
    "p"
   ]
  },
  {
   "cell_type": "code",
   "execution_count": null,
   "metadata": {},
   "outputs": [],
   "source": [
    "# Alternative\n",
    "from typing import TypeAlias\n",
    "\n",
    "Point: TypeAlias = tuple[int, int]"
   ]
  }
 ],
 "metadata": {
  "kernelspec": {
   "display_name": ".venv",
   "language": "python",
   "name": "python3"
  },
  "language_info": {
   "codemirror_mode": {
    "name": "ipython",
    "version": 3
   },
   "file_extension": ".py",
   "mimetype": "text/x-python",
   "name": "python",
   "nbconvert_exporter": "python",
   "pygments_lexer": "ipython3",
   "version": "3.12.0"
  }
 },
 "nbformat": 4,
 "nbformat_minor": 2
}
