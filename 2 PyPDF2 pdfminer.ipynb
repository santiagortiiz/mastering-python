{
 "cells": [
  {
   "cell_type": "code",
   "execution_count": 1,
   "metadata": {},
   "outputs": [
    {
     "name": "stdout",
     "output_type": "stream",
     "text": [
      "Requirement already satisfied: PyPDF2 in c:\\users\\santiago\\anaconda3\\lib\\site-packages (1.26.0)\n",
      "Note: you may need to restart the kernel to use updated packages.\n"
     ]
    }
   ],
   "source": [
    "%pip install PyPDF2"
   ]
  },
  {
   "cell_type": "code",
   "execution_count": 2,
   "metadata": {},
   "outputs": [],
   "source": [
    "import os\n",
    "import PyPDF2"
   ]
  },
  {
   "cell_type": "code",
   "execution_count": 3,
   "metadata": {},
   "outputs": [
    {
     "data": {
      "text/plain": [
       "['DÁVITA.pdf',\n",
       " 'FM Diabetes.pdf',\n",
       " 'FORMULA MIPRES EZETIMIBA.pdf',\n",
       " 'FORMULA1.pdf',\n",
       " 'FORMULA2.pdf',\n",
       " 'FORMULA3.pdf',\n",
       " 'HC y Orden Monitoreo Amb Pres Art Sist.pdf',\n",
       " 'MIPRES Ezetimiba 10mg.PNG',\n",
       " 'Orden Ezetimiba.PNG',\n",
       " 'Orden1.pdf',\n",
       " 'Orden2.pdf',\n",
       " 'Orden3.pdf',\n",
       " 'pdf2image',\n",
       " 'Resultados']"
      ]
     },
     "execution_count": 3,
     "metadata": {},
     "output_type": "execute_result"
    }
   ],
   "source": [
    "dataset_path = 'D:/Academico/Bioingenieria/2021-1/Proyecto de Grado/OCR/Dataset/'\n",
    "files = os.listdir(dataset_path)\n",
    "files"
   ]
  },
  {
   "cell_type": "code",
   "execution_count": 4,
   "metadata": {},
   "outputs": [
    {
     "name": "stdout",
     "output_type": "stream",
     "text": [
      "D:/Academico/Bioingenieria/2021-1/Proyecto de Grado/OCR/Dataset/FM Diabetes.pdf\n"
     ]
    }
   ],
   "source": [
    "# creating a pdf file object\n",
    "file = os.path.join(dataset_path, files[1])\n",
    "print(file)\n",
    "pdfFileObj = open(file, 'rb')"
   ]
  },
  {
   "cell_type": "code",
   "execution_count": 11,
   "metadata": {},
   "outputs": [
    {
     "name": "stdout",
     "output_type": "stream",
     "text": [
      "\n",
      "\n",
      "˘ˇˆ˙˘˝˙\n",
      "\n",
      "˛ˆ˘˙\n",
      "\n",
      "\n",
      "˚˜˚˜˜˜  ˜\n",
      "\n",
      "˘ˇˆ˘˙˝˙˛˚˜ !\"#$˚!\"%&'˘\n",
      "\n",
      "(˜)%&)#*!˚(˜+)!#,(\"#$\"-%\"#˜.+!(.+!\n",
      "/!%!(0)˜\n",
      "1˛˙23˛4\n",
      "˙!ˆ!\n",
      "'5!6\n",
      "!ˆ!\n",
      "!˘ˆ\"˙#\n",
      "ˆ˙ \n",
      "$ˆ%&˘ˆ˘˝˙\n",
      "\"\n",
      "'˛˘73)˜˚˜%˘18)#+\"\n",
      "$!(˜˚9˜% )˜\n",
      "3:˘73)˜˚˜%˚\")#$˜\n",
      "$!(˜˚\"#˜;8#˜6+!#˜<8˜=˜#$\"6 \"!$˚˜6(\" )\n",
      "+˜+)!#!˜%)\"(#$!6\n",
      "(>'˘7\n",
      "3)˜˚˜%!?\"#$˜\n",
      "$!(˜˚9+˜ ˜'=\n",
      "˛˘7\n",
      "3)˜˚˜%˚\")#$˜\n",
      "$!(˜˚\"#%˜#!+=\"\n",
      ">˘73)˜˚˜%!?\"#$˜\n",
      "$!(˜˚+˜ ˜'=\n",
      ")˛˛7\n",
      "3)˜˚˜%˚\")#$˜\n",
      "$!(˜˚\"#˜;8#˜6\n",
      "3˛'\n",
      "3)˜˚˜%ˆ\"6\"#$˜\n",
      "$!(˜˚+˜ ˜=\n",
      "*77˛˛980+8$˜#\n",
      "\"˜8˜$˚!\n",
      "˜-%)+˜˚8˜(\n",
      "7˛˛980+8$˜#\n",
      "\"˜!6\n",
      "˜-%)+˜˚ˆ˙ˆ˙ˆ˙\n",
      "'\n",
      ">7\n",
      "3)˜˚˜%˘18)#+\"\n",
      "$!(˜˚9˜% )˜\n",
      "''\n",
      "79˘3)˜˚˜%˚\"6\n",
      "$!(˜˚'<!$˜6+˜ ˜6) !%!˚\n",
      "'\n",
      "37\n",
      "3)˜˚˜%˚\")#$˜\n",
      "$!(˜˚\"#˜%#!+=\"\n",
      "˛\n",
      "˛\n",
      "˝˛>\n",
      ">\n",
      "ˆ+˙#,˘#,\n",
      "\n",
      "˚˚˚˛'˜-˜.\n",
      "˛\n",
      "/\"ˆ&˘/\n",
      "˝˙˘ˆ   ''\n",
      "'(˜˛0˚\n",
      ">\"+=˜@!˚˜(-˚\"6)A#\n",
      "9B8%.9&-.(.\n",
      "\n"
     ]
    }
   ],
   "source": [
    "with open(file, 'rb') as pdfFileObj:\n",
    "    pdfReader = PyPDF2.PdfFileReader(pdfFileObj)\n",
    "    pageObj = pdfReader.getPage(0)\n",
    "    print(pageObj.extractText())"
   ]
  },
  {
   "cell_type": "markdown",
   "metadata": {},
   "source": [
    "# pdfminer.six"
   ]
  },
  {
   "cell_type": "code",
   "execution_count": 12,
   "metadata": {},
   "outputs": [
    {
     "name": "stdout",
     "output_type": "stream",
     "text": [
      "Requirement already satisfied: pdfminer.six in c:\\users\\santiago\\anaconda3\\lib\\site-packages (20201018)\n",
      "Requirement already satisfied: chardet; python_version > \"3.0\" in c:\\users\\santiago\\anaconda3\\lib\\site-packages (from pdfminer.six) (3.0.4)\n",
      "Requirement already satisfied: sortedcontainers in c:\\users\\santiago\\anaconda3\\lib\\site-packages (from pdfminer.six) (2.2.2)\n",
      "Requirement already satisfied: cryptography in c:\\users\\santiago\\anaconda3\\lib\\site-packages (from pdfminer.six) (3.1.1)\n",
      "Requirement already satisfied: six>=1.4.1 in c:\\users\\santiago\\anaconda3\\lib\\site-packages (from cryptography->pdfminer.six) (1.15.0)\n",
      "Requirement already satisfied: cffi!=1.11.3,>=1.8 in c:\\users\\santiago\\anaconda3\\lib\\site-packages (from cryptography->pdfminer.six) (1.14.3)\n",
      "Requirement already satisfied: pycparser in c:\\users\\santiago\\anaconda3\\lib\\site-packages (from cffi!=1.11.3,>=1.8->cryptography->pdfminer.six) (2.20)\n",
      "Note: you may need to restart the kernel to use updated packages.\n"
     ]
    }
   ],
   "source": [
    "%pip install pdfminer.six"
   ]
  },
  {
   "cell_type": "markdown",
   "metadata": {},
   "source": [
    "### Bibliotecas necesarias"
   ]
  },
  {
   "cell_type": "code",
   "execution_count": 13,
   "metadata": {},
   "outputs": [],
   "source": [
    "import os\n",
    "from pdfminer import high_level"
   ]
  },
  {
   "cell_type": "markdown",
   "metadata": {},
   "source": [
    "### Listado de elementos del dataset"
   ]
  },
  {
   "cell_type": "code",
   "execution_count": 14,
   "metadata": {},
   "outputs": [
    {
     "data": {
      "text/plain": [
       "['DÁVITA.pdf',\n",
       " 'FM Diabetes.pdf',\n",
       " 'FORMULA MIPRES EZETIMIBA.pdf',\n",
       " 'FORMULA1.pdf',\n",
       " 'FORMULA2.pdf',\n",
       " 'FORMULA3.pdf',\n",
       " 'HC y Orden Monitoreo Amb Pres Art Sist.pdf',\n",
       " 'MIPRES Ezetimiba 10mg.PNG',\n",
       " 'Orden Ezetimiba.PNG',\n",
       " 'Orden1.pdf',\n",
       " 'Orden2.pdf',\n",
       " 'Orden3.pdf',\n",
       " 'pdf2image',\n",
       " 'Resultados']"
      ]
     },
     "execution_count": 14,
     "metadata": {},
     "output_type": "execute_result"
    }
   ],
   "source": [
    "dataset_path = 'D:/Academico/Bioingenieria/2021-1/Proyecto de Grado/OCR/Dataset/'\n",
    "files = os.listdir(dataset_path)\n",
    "files"
   ]
  },
  {
   "cell_type": "markdown",
   "metadata": {},
   "source": [
    "### Seleccion del archivo objetivo"
   ]
  },
  {
   "cell_type": "code",
   "execution_count": 15,
   "metadata": {},
   "outputs": [
    {
     "name": "stdout",
     "output_type": "stream",
     "text": [
      "D:/Academico/Bioingenieria/2021-1/Proyecto de Grado/OCR/Dataset/FM Diabetes.pdf\n"
     ]
    }
   ],
   "source": [
    "file = os.path.join(dataset_path, files[1])\n",
    "print(file)"
   ]
  },
  {
   "cell_type": "markdown",
   "metadata": {},
   "source": [
    "### Extraccion de texto (Output: STR)"
   ]
  },
  {
   "cell_type": "code",
   "execution_count": 16,
   "metadata": {},
   "outputs": [
    {
     "name": "stdout",
     "output_type": "stream",
     "text": [
      "COMITE DE ESTUDIOS MEDICOS S.A.S\n",
      "Nit 900294794-5\n",
      "CARRERA 50 # 65 - 07 - Prado Centro  Tel: 3228453\n",
      "MEDELLIN, Colombia\n",
      "Email: informacion@menteplena.com.co\n",
      "\n",
      "FORMULA MEDICA\n",
      "\n",
      "Entidad\n",
      "\n",
      "ALIANZA MEDELLIN ANTIOQUIA EPS-SAS (SAVIA SALUD EPS)\n",
      "\n",
      "Fecha Atención\n",
      "\n",
      "JUNIO 21 DE 2019\n",
      "\n",
      "Paciente\n",
      "\n",
      "TABORDA RUIZ MARIA DE LOS DOLORES\n",
      "\n",
      "CC\n",
      "\n",
      "21292413\n",
      "\n",
      "Edad\n",
      "\n",
      "80 Años\n",
      "\n",
      "Item\n",
      "1\n",
      "\n",
      "Medicamento\n",
      "ESPIRONOLACTONA 25 MG TABLETA\n",
      "tomar 1/2 al dia\n",
      "LEVOTIROXINA 50 MCG TABLETA\n",
      "tomar 1 en ayunas con agua  1 h antes de otras medicacion o aliemntos\n",
      "\n",
      "Via Aplicación\n",
      "Via Oral\n",
      "\n",
      "Cant.\n",
      "\n",
      "15 Quince\n",
      "\n",
      "2\n",
      "\n",
      "4\n",
      "\n",
      "5\n",
      "\n",
      "7\n",
      "\n",
      "8\n",
      "\n",
      "9\n",
      "\n",
      "3 METFORMINA 850 MG TABLETA\n",
      "\n",
      "tomar 1/2  cada 8h\n",
      "AMITRIPTILINA 25 MG TABLETA\n",
      "tomar 1  en lanoche\n",
      "ACETAMINOFEN 500 MG TABLETA\n",
      "tomar 1cada8h\n",
      "\n",
      "6 OMEPRAZOL CAPSULA 20 MG\n",
      "\n",
      "tomar 1 en ayunas\n",
      "VERAPAMILO 80 MR TABLETA\n",
      "tomar 1 cada 12h\n",
      "INSULINA GLARGINA PEN PRE LLENO 100/ML  3ML\n",
      "aplicar 40u am\n",
      "INSULINA GLULISINA PENPRELLENO 100U /ML 3ML\n",
      "aplicar 6-6-6-\n",
      "\n",
      "10 FUROSEMIDA 40 MG TABLETA\n",
      "\n",
      "tomar 1/2 al dia\n",
      "\n",
      "11 TRAMADOL 100MG/ML 5ML SOLUCION ORAL\n",
      "\n",
      "tomar 8 gotas  cada 12 si dolor\n",
      "12 ATORVASTATINA 40 MG TABLETA\n",
      "\n",
      "tomar 1 en al noche\n",
      "\n",
      "Via Oral\n",
      "\n",
      "Via Oral\n",
      "\n",
      "Via Oral\n",
      "\n",
      "Via Oral\n",
      "\n",
      "Via Oral\n",
      "\n",
      "Via Oral\n",
      "\n",
      "Via Oral\n",
      "\n",
      "Via Oral\n",
      "\n",
      "Via Oral\n",
      "\n",
      "30 Treinta\n",
      "\n",
      "90 Noventa\n",
      "\n",
      "30 Treinta\n",
      "\n",
      "90 Noventa\n",
      "\n",
      "30 Treinta\n",
      "\n",
      "60 Sesenta\n",
      "\n",
      "15 Quince\n",
      "\n",
      "3 Tres\n",
      "\n",
      "30 Treinta\n",
      "\n",
      "Subcutanea\n",
      "\n",
      "4 Cuatro\n",
      "\n",
      "Subcutanea\n",
      "\n",
      "2 Dos\n",
      "\n",
      "Diagnosticos\n",
      "\n",
      "E109 DIABETES MELLITUS INSULINODEPENDIENTE SIN MENCION DE COMPLICACION\n",
      "Z723 PROBLEMAS RELACIONADOS CON LA FALTA DE EJERCICIO FISICO\n",
      "\n",
      "TRATAMIENTO PARA1 MES(ES)\n",
      "\n",
      "ANDREA RESTREPO ACOSTA\n",
      "\n",
      "Firma Electrónica. R.M. 05-5071-14\n",
      "CC 1037595227 ESPECIALIDAD: MEDICINA INTERNA\n",
      "\n",
      "Fecha Hora Impresión 04/jul./2019 04:22p.m.\n",
      "\n",
      "\f",
      "\n"
     ]
    }
   ],
   "source": [
    "extracted_text = high_level.extract_text(file)\n",
    "print(extracted_text)"
   ]
  },
  {
   "cell_type": "code",
   "execution_count": 29,
   "metadata": {},
   "outputs": [
    {
     "data": {
      "text/plain": [
       "str"
      ]
     },
     "execution_count": 29,
     "metadata": {},
     "output_type": "execute_result"
    }
   ],
   "source": [
    "type(extracted_text)"
   ]
  },
  {
   "cell_type": "code",
   "execution_count": 32,
   "metadata": {},
   "outputs": [
    {
     "data": {
      "text/plain": [
       "'FÓRMULA MÉDICA\\n\\nFecha y Hora de Expedición (AAAA-MM-DD)\\n\\n2021-04-07 08:25:21\\n\\nNro. Prescripción\\n\\n20210407183027047701\\n\\nDATOS DEL PRESTADOR\\n\\nMunicipio:\\n MEDELLÍN\\n\\nCódigo Habilitación:\\n 050011281901\\n\\nNombre Prestador de Servicios de Salud:\\n EPS SANITAS CENTRO MEDICO MEDELLIN\\n\\nDepartamento:\\n ANTIOQUIA\\n\\nDocumento de Identificación:\\n 800251440\\n\\nDirección:\\n CARRERA 46 NO 27 - 35\\n\\nTeléfono:\\n 3548871\\n\\nDATOS DEL PACIENTE\\n\\nMEDICAMENTOS\\nFrecuencia\\nAdministración\\n\\nDocumento de Identificación:\\n CC42892076\\n\\nPrimer Apellido:\\n CEBALLOS\\n\\nSegundo Apellido:\\n ALDANA\\n\\nPrimer Nombre:\\n MARYLUZ\\n\\nSegundo Nombre:\\n\\nNúmero Historia Clínica:\\n 42892076\\n\\nDiagnóstico Principal:\\n E785 HIPERLIPIDEMIA NO ESPECIFICADA\\n\\nUsuario Régimen:\\n CONTRIBUTIVO\\n\\nAmbito atención:\\n AMBULATORIO - NO PRIORIZADO\\n\\nTipo prestación\\n\\nDosis\\n\\nVía Administración\\n\\nSUCESIVA\\n\\n1 DOSIS\\n\\nORAL\\n\\n1 DÍA(S)\\n\\nNombre\\nMedicamento /\\nForma Farmacéutica\\n\\n[EZETIMIBA]\\n10MG/1U /\\nTABLETAS DE\\nLIBERACION NO\\nMODIFICADA\\n\\nIndicaciones\\nEspeciales\\n\\nDuración\\nTratamiento\\n\\nRecomendaciones\\n\\nCantidades\\nFarmacéuticas\\nNro / Letras / Unidad\\nFarmacéutica\\n\\nSIN INDICACIÓN\\nESPECIAL\\n\\n180 DÍA(S)\\n\\nTOMAR 1 TAB\\nCADA DIA POR 180\\nDIAS\\n\\n180 / CIENTO\\nOCHENTA /\\nTABLETA\\n\\nDocumento de Identificación:\\n CC98766535\\n\\nRegistro Profesional:\\n 05462513\\n\\nEspecialidad:\\n\\nPROFESIONAL TRATANTE\\n\\nNombre:\\n JULIAN DAVID ZAPATA REALPE\\n\\nLa vigencia de la prescripción es la establecida en la Resolución 1885 de 2018.Art. 13. Numeral 5.\\n\\nCodVer:\\n\\n4F94-ECF5-4B33-D98D-C515-39A0-5BD4-C0CB\\n\\nFirma\\n\\nMIPRES NO PBSUPC - fecha de impresión: 2021-04-14 10:21:03\\n\\nPágina 1\\n\\n\\x0c'"
      ]
     },
     "execution_count": 32,
     "metadata": {},
     "output_type": "execute_result"
    }
   ],
   "source": [
    "extracted_text"
   ]
  },
  {
   "cell_type": "code",
   "execution_count": null,
   "metadata": {},
   "outputs": [],
   "source": []
  }
 ],
 "metadata": {
  "kernelspec": {
   "display_name": "Python 3",
   "language": "python",
   "name": "python3"
  },
  "language_info": {
   "codemirror_mode": {
    "name": "ipython",
    "version": 3
   },
   "file_extension": ".py",
   "mimetype": "text/x-python",
   "name": "python",
   "nbconvert_exporter": "python",
   "pygments_lexer": "ipython3",
   "version": "3.8.5"
  }
 },
 "nbformat": 4,
 "nbformat_minor": 4
}
