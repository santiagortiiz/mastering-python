{
 "cells": [
  {
   "cell_type": "code",
   "execution_count": 4,
   "metadata": {},
   "outputs": [
    {
     "name": "stdout",
     "output_type": "stream",
     "text": [
      "Contenido original: bytearray(b'abc')\n",
      "Contenido a través de memoryview: b'abc'\n",
      "Contenido después de la modificación: bytearray(b'zbc')\n"
     ]
    }
   ],
   "source": [
    "# memoryview es una función incorporada en Python que proporciona una vista de memoria de un objeto que\n",
    "# admite el protocolo de búfer de Python. Esto puede ser útil para trabajar con grandes conjuntos de datos\n",
    "# sin realizar copias innecesarias de memoria.\n",
    "\n",
    "# Creamos un objeto de bytes\n",
    "read_only_data = b'abc'\n",
    "data = bytearray(b'abc')\n",
    "\n",
    "# Creamos un objeto memoryview para ver la memoria de los bytes\n",
    "mv = memoryview(data)\n",
    "\n",
    "# Imprimimos el contenido original\n",
    "print(\"Contenido original:\", data)\n",
    "\n",
    "# Imprimimos el contenido a través del memoryview\n",
    "print(\"Contenido a través de memoryview:\", mv.tobytes())\n",
    "\n",
    "# Modificamos el primer byte a través del memoryview\n",
    "mv[0] = ord('z')\n",
    "\n",
    "# Imprimimos el contenido después de la modificación\n",
    "print(\"Contenido después de la modificación:\", data)\n"
   ]
  },
  {
   "cell_type": "code",
   "execution_count": null,
   "metadata": {},
   "outputs": [],
   "source": [
    "# En este ejemplo, creamos un objeto de bytes data que contiene la cadena 'abcdefgh'.\n",
    "# Luego, creamos un objeto memoryview llamado mv que proporciona una vista de memoria de los mismos datos.\n",
    "\n",
    "# Al imprimir el contenido original y el contenido a través del memoryview, deberían ser iguales al principio.\n",
    "# Sin embargo, cuando modificamos el primer byte a través del memoryview utilizando mv[0] = ord('z'), la modificación\n",
    "# también se refleja en el objeto de bytes original data. Esto demuestra que memoryview nos permite ver y modificar la\n",
    "# memoria subyacente de los objetos de bytes sin realizar copias adicionales.\n",
    "\n",
    "# Es importante destacar que memoryview no crea una nueva copia de datos, sino que proporciona una vista de memoria\n",
    "# sobre los datos existentes. Esto puede ser beneficioso en términos de eficiencia y rendimiento cuando se trabaja\n",
    "# con grandes conjuntos de datos."
   ]
  }
 ],
 "metadata": {
  "kernelspec": {
   "display_name": ".venv",
   "language": "python",
   "name": "python3"
  },
  "language_info": {
   "codemirror_mode": {
    "name": "ipython",
    "version": 3
   },
   "file_extension": ".py",
   "mimetype": "text/x-python",
   "name": "python",
   "nbconvert_exporter": "python",
   "pygments_lexer": "ipython3",
   "version": "3.11.6"
  }
 },
 "nbformat": 4,
 "nbformat_minor": 2
}
