{
 "cells": [
  {
   "cell_type": "markdown",
   "id": "bc005663",
   "metadata": {},
   "source": [
    "# [dropwhile](https://docs.python.org/3/library/itertools.html#itertools.dropwhile)"
   ]
  },
  {
   "cell_type": "code",
   "execution_count": 1,
   "id": "3e878069",
   "metadata": {},
   "outputs": [],
   "source": [
    "from random import randint\n",
    "from itertools import dropwhile"
   ]
  },
  {
   "cell_type": "code",
   "execution_count": 3,
   "id": "dec9bd25",
   "metadata": {},
   "outputs": [
    {
     "data": {
      "text/plain": [
       "[3, 9, 6, 1, 2, 9, 10, 9, 9, 10]"
      ]
     },
     "execution_count": 3,
     "metadata": {},
     "output_type": "execute_result"
    }
   ],
   "source": [
    "length = 10\n",
    "r = [randint(0,10) for i in range(length)]\n",
    "r"
   ]
  },
  {
   "cell_type": "code",
   "execution_count": null,
   "id": "26fd6e0f",
   "metadata": {},
   "outputs": [],
   "source": []
  }
 ],
 "metadata": {
  "kernelspec": {
   "display_name": "Python 3 (ipykernel)",
   "language": "python",
   "name": "python3"
  },
  "language_info": {
   "codemirror_mode": {
    "name": "ipython",
    "version": 3
   },
   "file_extension": ".py",
   "mimetype": "text/x-python",
   "name": "python",
   "nbconvert_exporter": "python",
   "pygments_lexer": "ipython3",
   "version": "3.9.7"
  }
 },
 "nbformat": 4,
 "nbformat_minor": 5
}
