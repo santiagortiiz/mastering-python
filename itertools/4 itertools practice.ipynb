{
 "cells": [
  {
   "cell_type": "markdown",
   "id": "5383c8b7",
   "metadata": {},
   "source": [
    "# Itertools: Groupby"
   ]
  },
  {
   "cell_type": "markdown",
   "id": "a76b0f65",
   "metadata": {},
   "source": [
    "### Sample data"
   ]
  },
  {
   "cell_type": "code",
   "execution_count": 26,
   "id": "81ff2a37",
   "metadata": {},
   "outputs": [
    {
     "data": {
      "text/plain": [
       "[{'type': 'Dashboard', 'title': 'Tashboard: Nutrition and Sandwiches'},\n",
       " {'type': 'Research Report',\n",
       "  'title': 'Glabama Roll, sweet, cinnamon Consumers market size'},\n",
       " {'type': 'ABC',\n",
       "  'title': 'Ñlabama Beverage with additions Consumers market size'},\n",
       " {'type': 'Research Report',\n",
       "  'title': 'Clabama Beverage with additions Consumers market size'}]"
      ]
     },
     "execution_count": 26,
     "metadata": {},
     "output_type": "execute_result"
    }
   ],
   "source": [
    "products = [\n",
    "    {\n",
    "        \"type\": \"Dashboard\",\n",
    "        \"title\": \"Tashboard: Nutrition and Sandwiches\"\n",
    "    },\n",
    "    {\n",
    "        \"type\": \"Research Report\",\n",
    "        \"title\": \"Glabama Roll, sweet, cinnamon Consumers market size\"\n",
    "    },\n",
    "    {\n",
    "        \"type\": \"ABC\",\n",
    "        \"title\": \"Ñlabama Beverage with additions Consumers market size\"\n",
    "    },\n",
    "    {\n",
    "        \"type\": \"Research Report\",\n",
    "        \"title\": \"Clabama Beverage with additions Consumers market size\"\n",
    "    }\n",
    "]\n",
    "products"
   ]
  },
  {
   "cell_type": "markdown",
   "id": "b23af92d",
   "metadata": {},
   "source": [
    "### Sample data sorted"
   ]
  },
  {
   "cell_type": "code",
   "execution_count": 27,
   "id": "cbf1713e",
   "metadata": {},
   "outputs": [
    {
     "data": {
      "text/plain": [
       "[{'type': 'ABC',\n",
       "  'title': 'Ñlabama Beverage with additions Consumers market size'},\n",
       " {'type': 'Dashboard', 'title': 'Tashboard: Nutrition and Sandwiches'},\n",
       " {'type': 'Research Report',\n",
       "  'title': 'Clabama Beverage with additions Consumers market size'},\n",
       " {'type': 'Research Report',\n",
       "  'title': 'Glabama Roll, sweet, cinnamon Consumers market size'}]"
      ]
     },
     "execution_count": 27,
     "metadata": {},
     "output_type": "execute_result"
    }
   ],
   "source": [
    "products.sort(key=lambda item: (item['type'], item['title']))\n",
    "products"
   ]
  },
  {
   "cell_type": "markdown",
   "id": "fcfb5972",
   "metadata": {},
   "source": [
    "### Sample data grouped by type"
   ]
  },
  {
   "cell_type": "code",
   "execution_count": 30,
   "id": "8c3b9199",
   "metadata": {},
   "outputs": [],
   "source": [
    "from itertools import groupby"
   ]
  },
  {
   "cell_type": "code",
   "execution_count": 48,
   "id": "01d37390",
   "metadata": {},
   "outputs": [
    {
     "data": {
      "text/plain": [
       "{'ABC': [{'type': 'ABC',\n",
       "   'title': 'Ñlabama Beverage with additions Consumers market size'}],\n",
       " 'Dashboard': [{'type': 'Dashboard',\n",
       "   'title': 'Tashboard: Nutrition and Sandwiches'}],\n",
       " 'Research Report': [{'type': 'Research Report',\n",
       "   'title': 'Clabama Beverage with additions Consumers market size'},\n",
       "  {'type': 'Research Report',\n",
       "   'title': 'Glabama Roll, sweet, cinnamon Consumers market size'}]}"
      ]
     },
     "execution_count": 48,
     "metadata": {},
     "output_type": "execute_result"
    }
   ],
   "source": [
    "items = {}\n",
    "for key, group in groupby(products, lambda item: (item['type'])):\n",
    "    items[key]= list(group)\n",
    "\n",
    "items"
   ]
  },
  {
   "cell_type": "code",
   "execution_count": null,
   "id": "9ac4ef67",
   "metadata": {},
   "outputs": [],
   "source": []
  }
 ],
 "metadata": {
  "kernelspec": {
   "display_name": "Python 3 (ipykernel)",
   "language": "python",
   "name": "python3"
  },
  "language_info": {
   "codemirror_mode": {
    "name": "ipython",
    "version": 3
   },
   "file_extension": ".py",
   "mimetype": "text/x-python",
   "name": "python",
   "nbconvert_exporter": "python",
   "pygments_lexer": "ipython3",
   "version": "3.9.7"
  }
 },
 "nbformat": 4,
 "nbformat_minor": 5
}
