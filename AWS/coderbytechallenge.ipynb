{
 "cells": [
  {
   "cell_type": "code",
   "execution_count": 1,
   "id": "66bca69b",
   "metadata": {},
   "outputs": [],
   "source": [
    "# Standard\n",
    "from os import environ\n",
    "import json\n",
    "\n",
    "# AWS\n",
    "import boto3"
   ]
  },
  {
   "cell_type": "markdown",
   "id": "44d8a71a",
   "metadata": {},
   "source": [
    "# Client Class"
   ]
  },
  {
   "cell_type": "code",
   "execution_count": 2,
   "id": "8e6bc0e9",
   "metadata": {},
   "outputs": [],
   "source": [
    "s3 = boto3.client(\"s3\")\n",
    "bucket = \"coderbytechallengesandbox\""
   ]
  },
  {
   "cell_type": "code",
   "execution_count": 3,
   "id": "bb0d8661",
   "metadata": {},
   "outputs": [
    {
     "data": {
      "text/plain": [
       "{'ResponseMetadata': {'RequestId': 'PXTPKWYR2X4FXN38',\n",
       "  'HostId': 'VuqqH0qLI3Un9o1Sn+uPu6HlKXsQAXZXURr87kVp7j3zF+b79B5tY9zfTF8ZAWuKH2gRC66oY0U=',\n",
       "  'HTTPStatusCode': 200,\n",
       "  'HTTPHeaders': {'x-amz-id-2': 'VuqqH0qLI3Un9o1Sn+uPu6HlKXsQAXZXURr87kVp7j3zF+b79B5tY9zfTF8ZAWuKH2gRC66oY0U=',\n",
       "   'x-amz-request-id': 'PXTPKWYR2X4FXN38',\n",
       "   'date': 'Wed, 08 Jun 2022 23:04:07 GMT',\n",
       "   'x-amz-bucket-region': 'us-east-1',\n",
       "   'content-type': 'application/xml',\n",
       "   'transfer-encoding': 'chunked',\n",
       "   'server': 'AmazonS3'},\n",
       "  'RetryAttempts': 0},\n",
       " 'IsTruncated': False,\n",
       " 'Marker': '',\n",
       " 'Contents': [{'Key': '__cb__file-name-s3-empty.txt',\n",
       "   'LastModified': datetime.datetime(2019, 10, 6, 17, 33, 30, tzinfo=tzutc()),\n",
       "   'ETag': '\"dc9ece5662a60761e2bd9bad2e4aa769\"',\n",
       "   'Size': 19,\n",
       "   'StorageClass': 'STANDARD'}],\n",
       " 'Name': 'coderbytechallengesandbox',\n",
       " 'Prefix': '__cb__',\n",
       " 'MaxKeys': 1000,\n",
       " 'EncodingType': 'url'}"
      ]
     },
     "execution_count": 3,
     "metadata": {},
     "output_type": "execute_result"
    }
   ],
   "source": [
    "s3.list_objects(Bucket=bucket, Prefix='__cb__')"
   ]
  },
  {
   "cell_type": "code",
   "execution_count": 4,
   "id": "a23a8309",
   "metadata": {},
   "outputs": [
    {
     "data": {
      "text/plain": [
       "{'ResponseMetadata': {'RequestId': 'T5VMA7835VJ6F5HK',\n",
       "  'HostId': '0SkK3ea15Mht/Q7k4T1hzOSDgDgCZDSbGAV+AoR+WfpqJSeStzdYjrNbNpTRBQ/s7UAdzQUE/Wg=',\n",
       "  'HTTPStatusCode': 200,\n",
       "  'HTTPHeaders': {'x-amz-id-2': '0SkK3ea15Mht/Q7k4T1hzOSDgDgCZDSbGAV+AoR+WfpqJSeStzdYjrNbNpTRBQ/s7UAdzQUE/Wg=',\n",
       "   'x-amz-request-id': 'T5VMA7835VJ6F5HK',\n",
       "   'date': 'Wed, 08 Jun 2022 23:04:08 GMT',\n",
       "   'last-modified': 'Sun, 06 Oct 2019 17:33:30 GMT',\n",
       "   'etag': '\"dc9ece5662a60761e2bd9bad2e4aa769\"',\n",
       "   'cache-control': 'max-age=31536000',\n",
       "   'accept-ranges': 'bytes',\n",
       "   'content-type': 'text/plain',\n",
       "   'server': 'AmazonS3',\n",
       "   'content-length': '19'},\n",
       "  'RetryAttempts': 0},\n",
       " 'AcceptRanges': 'bytes',\n",
       " 'LastModified': datetime.datetime(2019, 10, 6, 17, 33, 30, tzinfo=tzutc()),\n",
       " 'ContentLength': 19,\n",
       " 'ETag': '\"dc9ece5662a60761e2bd9bad2e4aa769\"',\n",
       " 'CacheControl': 'max-age=31536000',\n",
       " 'ContentType': 'text/plain',\n",
       " 'Metadata': {},\n",
       " 'Body': <botocore.response.StreamingBody at 0x21839b0a310>}"
      ]
     },
     "execution_count": 4,
     "metadata": {},
     "output_type": "execute_result"
    }
   ],
   "source": [
    "obj = s3.get_object(\n",
    "    Bucket=bucket,\n",
    "    Key='__cb__file-name-s3-empty.txt'\n",
    ")\n",
    "obj"
   ]
  },
  {
   "cell_type": "code",
   "execution_count": 5,
   "id": "2da3b555",
   "metadata": {},
   "outputs": [
    {
     "data": {
      "text/plain": [
       "b'nothing to see here'"
      ]
     },
     "execution_count": 5,
     "metadata": {},
     "output_type": "execute_result"
    }
   ],
   "source": [
    "# Read the bytes from the buffer\n",
    "binary_content = obj['Body'].read()\n",
    "binary_content"
   ]
  },
  {
   "cell_type": "code",
   "execution_count": 6,
   "id": "6ff3acb3",
   "metadata": {},
   "outputs": [],
   "source": [
    "# If the content can be serialized into a JSON:\n",
    "# content = json.loads(binary_content)\n",
    "# content"
   ]
  },
  {
   "cell_type": "markdown",
   "id": "9210c067",
   "metadata": {},
   "source": [
    "# Accesing public buckets"
   ]
  },
  {
   "cell_type": "code",
   "execution_count": 7,
   "id": "dd8797af",
   "metadata": {},
   "outputs": [],
   "source": [
    "bucket = 'iotatech-kendra.bucket'\n",
    "prefix = 'partners'"
   ]
  },
  {
   "cell_type": "code",
   "execution_count": 8,
   "id": "00491573",
   "metadata": {},
   "outputs": [
    {
     "data": {
      "text/plain": [
       "{'ResponseMetadata': {'RequestId': 'T5VNM3N5TF8T3XNF',\n",
       "  'HostId': 'dtpDL8Rze2SQzJ43jDcHlHKxUMIPGIDxUpHQFxl8iorEFrnsuIG8D0jnTQjk9XOP1jr4LGtML3s=',\n",
       "  'HTTPStatusCode': 200,\n",
       "  'HTTPHeaders': {'x-amz-id-2': 'dtpDL8Rze2SQzJ43jDcHlHKxUMIPGIDxUpHQFxl8iorEFrnsuIG8D0jnTQjk9XOP1jr4LGtML3s=',\n",
       "   'x-amz-request-id': 'T5VNM3N5TF8T3XNF',\n",
       "   'date': 'Wed, 08 Jun 2022 23:04:08 GMT',\n",
       "   'x-amz-bucket-region': 'us-east-1',\n",
       "   'content-type': 'application/xml',\n",
       "   'transfer-encoding': 'chunked',\n",
       "   'server': 'AmazonS3'},\n",
       "  'RetryAttempts': 0},\n",
       " 'IsTruncated': False,\n",
       " 'Contents': [{'Key': 'partners/',\n",
       "   'LastModified': datetime.datetime(2021, 11, 3, 13, 25, 58, tzinfo=tzutc()),\n",
       "   'ETag': '\"d41d8cd98f00b204e9800998ecf8427e\"',\n",
       "   'Size': 0,\n",
       "   'StorageClass': 'STANDARD'},\n",
       "  {'Key': 'partners/p1.pdf',\n",
       "   'LastModified': datetime.datetime(2021, 11, 3, 17, 38, 41, tzinfo=tzutc()),\n",
       "   'ETag': '\"a7c6619d64f458d7944829ba9cf40a6b\"',\n",
       "   'Size': 47906,\n",
       "   'StorageClass': 'ONEZONE_IA'},\n",
       "  {'Key': 'partners/p2.pdf',\n",
       "   'LastModified': datetime.datetime(2021, 11, 3, 17, 38, 42, tzinfo=tzutc()),\n",
       "   'ETag': '\"a507e1edf1581c5222c56ec1477faf6b\"',\n",
       "   'Size': 47906,\n",
       "   'StorageClass': 'ONEZONE_IA'},\n",
       "  {'Key': 'partners/p3.pdf',\n",
       "   'LastModified': datetime.datetime(2021, 11, 3, 17, 38, 43, tzinfo=tzutc()),\n",
       "   'ETag': '\"4022113c3bcdd09f31647bf389edb309\"',\n",
       "   'Size': 33523,\n",
       "   'StorageClass': 'ONEZONE_IA'},\n",
       "  {'Key': 'partners/p4.pdf',\n",
       "   'LastModified': datetime.datetime(2021, 11, 3, 17, 38, 43, tzinfo=tzutc()),\n",
       "   'ETag': '\"af1cb3943be15491eee6729b87402866\"',\n",
       "   'Size': 47906,\n",
       "   'StorageClass': 'ONEZONE_IA'}],\n",
       " 'Name': 'iotatech-kendra.bucket',\n",
       " 'Prefix': 'partners',\n",
       " 'MaxKeys': 1000,\n",
       " 'EncodingType': 'url',\n",
       " 'KeyCount': 5}"
      ]
     },
     "execution_count": 8,
     "metadata": {},
     "output_type": "execute_result"
    }
   ],
   "source": [
    "s3.list_objects_v2(Bucket=bucket, Prefix=prefix)"
   ]
  },
  {
   "cell_type": "code",
   "execution_count": 9,
   "id": "46071477",
   "metadata": {},
   "outputs": [],
   "source": [
    "file = 'p1.pdf'\n",
    "obj = s3.get_object(Bucket=bucket, Key=f'{prefix}/{file}')"
   ]
  },
  {
   "cell_type": "code",
   "execution_count": 10,
   "id": "179b41f6",
   "metadata": {},
   "outputs": [
    {
     "data": {
      "text/plain": [
       "{'ResponseMetadata': {'RequestId': 'T5VPPT7794PMRWFW',\n",
       "  'HostId': '/SyKEUljvSe2wubVQRSE9EBUqAi6flX9fTlSYS+70eZ+t1A0Cy4sbrxVFydJPdl8IcOAUuT+2Bk=',\n",
       "  'HTTPStatusCode': 200,\n",
       "  'HTTPHeaders': {'x-amz-id-2': '/SyKEUljvSe2wubVQRSE9EBUqAi6flX9fTlSYS+70eZ+t1A0Cy4sbrxVFydJPdl8IcOAUuT+2Bk=',\n",
       "   'x-amz-request-id': 'T5VPPT7794PMRWFW',\n",
       "   'date': 'Wed, 08 Jun 2022 23:04:08 GMT',\n",
       "   'last-modified': 'Wed, 03 Nov 2021 17:38:41 GMT',\n",
       "   'etag': '\"a7c6619d64f458d7944829ba9cf40a6b\"',\n",
       "   'x-amz-storage-class': 'ONEZONE_IA',\n",
       "   'accept-ranges': 'bytes',\n",
       "   'content-type': 'application/pdf',\n",
       "   'server': 'AmazonS3',\n",
       "   'content-length': '47906'},\n",
       "  'RetryAttempts': 0},\n",
       " 'AcceptRanges': 'bytes',\n",
       " 'LastModified': datetime.datetime(2021, 11, 3, 17, 38, 41, tzinfo=tzutc()),\n",
       " 'ContentLength': 47906,\n",
       " 'ETag': '\"a7c6619d64f458d7944829ba9cf40a6b\"',\n",
       " 'ContentType': 'application/pdf',\n",
       " 'Metadata': {},\n",
       " 'StorageClass': 'ONEZONE_IA',\n",
       " 'Body': <botocore.response.StreamingBody at 0x21839b0a400>}"
      ]
     },
     "execution_count": 10,
     "metadata": {},
     "output_type": "execute_result"
    }
   ],
   "source": [
    "obj"
   ]
  },
  {
   "cell_type": "code",
   "execution_count": 11,
   "id": "0961f330",
   "metadata": {},
   "outputs": [],
   "source": [
    "body = obj['Body']"
   ]
  },
  {
   "cell_type": "raw",
   "id": "267e0dd0",
   "metadata": {},
   "source": [
    "readline, readlines, seek,"
   ]
  },
  {
   "cell_type": "code",
   "execution_count": 12,
   "id": "1ae98757",
   "metadata": {},
   "outputs": [],
   "source": [
    "for item in body:\n",
    "    line = item\n",
    "    break"
   ]
  },
  {
   "cell_type": "code",
   "execution_count": 13,
   "id": "67953dca",
   "metadata": {},
   "outputs": [
    {
     "data": {
      "text/plain": [
       "b'%PDF-1.5\\r\\n%\\xb5\\xb5\\xb5\\xb5\\r\\n1 0 obj\\r\\n<</Type/Catalog/Pages 2 0 R/Lang(en-US) /StructTreeRoot 10 0 R/MarkInfo<</Marked true>>>>\\r\\nendobj\\r\\n2 0 obj\\r\\n<</Type/Pages/Count 1/Kids[ 3 0 R] >>\\r\\nendobj\\r\\n3 0 obj\\r\\n<</Type/Page/Parent 2 0 R/Resources<</Font<</F1 5 0 R>>/ExtGState<</GS7 7 0 R/GS8 8 0 R>>/ProcSet[/PDF/Text/ImageB/ImageC/ImageI] >>/MediaBox[ 0 0 612 792] /Contents 4 0 R/Group<</Type/Group/S/Transparency/CS/DeviceRGB>>/Tabs/S/StructParents 0>>\\r\\nendobj\\r\\n4 0 obj\\r\\n<</Filter/FlateDecode/Length 174>>\\r\\nstream\\r\\nx\\x9c\\xa5\\x8e=\\x0b\\xc20\\x14E\\xf7@\\xfe\\xc3\\x1d\\x13\\xc14\\t\\xb6i\\xa0t\\xe8\\x87E\\xa1\\xa0\\x18p\\x10\\x87\\x82\\xb5\\x93Ek\\xff?\\xa6\\xa5\\x83\\xce\\xbe\\xe1\\xc0\\xe5]\\xde;\\x08\\x0eH\\x92\\xa0\\xcew\\x05d\\x9a\"+r\\xbc(\\x91BNc\\x95\\x86D\\xe4i\\xac\\xc6\\xd0Rr^\\xa1\\xa7$s\\x94\\x04[\\x05%E\\x18\\xc1\\xdd)Q\\xbe\\'\\xa1`B!\\xf5\\x06\\xc6ol\\x0c\\xf7\\xf0\\xbd\\xead\\xd0\\xbd\\xfdMts\\x8a\\x97TQra\\xcf\\x86\\xaf7l\\xe0\\x96\\x8d=7\\xac\\x1d<p\\xf3h\\xc6\\t\\xfc\\n\\xb7\\xa7\\xa4\\xf4\\xff\\x8e\\x94\\xfc#\\xa6B)\"\\xfd-6\\xfb,\\x1a\\xf8}\\x84\\xb2\\xce\\xf1\\x01\\x87\\x177\\xc3\\r\\nendstream\\r\\nendobj\\r\\n5 0 obj\\r\\n<</Type/Font/Subtype/TrueType/Name/F1/BaseFont/ABCDEE+CourierNewPSMT/Encoding/WinAnsiEncoding/FontDescriptor 6 0 R/FirstChar 32/LastChar 116/Widths 17 0 R>>\\r\\nendobj\\r\\n6 0 obj\\r\\n<</Type/FontDescriptor/FontName/ABCDEE+CourierNewPSMT/Flags 32/ItalicAngle 0/Ascent 833/Descent -188/CapHeight 613/AvgWidth 600/MaxWidth 744/FontWe'"
      ]
     },
     "execution_count": 13,
     "metadata": {},
     "output_type": "execute_result"
    }
   ],
   "source": [
    "line"
   ]
  },
  {
   "cell_type": "code",
   "execution_count": 14,
   "id": "70c163f0",
   "metadata": {},
   "outputs": [
    {
     "data": {
      "text/plain": [
       "b'%'"
      ]
     },
     "execution_count": 14,
     "metadata": {},
     "output_type": "execute_result"
    }
   ],
   "source": [
    "line[0:1]"
   ]
  },
  {
   "cell_type": "markdown",
   "id": "91d9fce3",
   "metadata": {},
   "source": [
    "# Bucket Class"
   ]
  },
  {
   "cell_type": "code",
   "execution_count": 15,
   "id": "33d99e1b",
   "metadata": {},
   "outputs": [],
   "source": [
    "import boto3\n",
    "\n",
    "s3 = boto3.resource('s3')\n",
    "bucket = s3.Bucket('coderbytechallengesandbox')"
   ]
  },
  {
   "cell_type": "code",
   "execution_count": 16,
   "id": "280d636b",
   "metadata": {},
   "outputs": [],
   "source": [
    "objects = list(bucket.objects.all())"
   ]
  },
  {
   "cell_type": "code",
   "execution_count": 17,
   "id": "84e322b9",
   "metadata": {},
   "outputs": [
    {
     "data": {
      "text/plain": [
       "b'nothing to see here'"
      ]
     },
     "execution_count": 17,
     "metadata": {},
     "output_type": "execute_result"
    }
   ],
   "source": [
    "obj = objects[0].get()\n",
    "obj['Body'].read()"
   ]
  }
 ],
 "metadata": {
  "kernelspec": {
   "display_name": "Python 3 (ipykernel)",
   "language": "python",
   "name": "python3"
  },
  "language_info": {
   "codemirror_mode": {
    "name": "ipython",
    "version": 3
   },
   "file_extension": ".py",
   "mimetype": "text/x-python",
   "name": "python",
   "nbconvert_exporter": "python",
   "pygments_lexer": "ipython3",
   "version": "3.9.7"
  }
 },
 "nbformat": 4,
 "nbformat_minor": 5
}
