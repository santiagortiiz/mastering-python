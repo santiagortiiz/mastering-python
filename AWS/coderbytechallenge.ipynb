{
 "cells": [
  {
   "cell_type": "code",
   "execution_count": 1,
   "id": "66bca69b",
   "metadata": {},
   "outputs": [],
   "source": [
    "# Standard\n",
    "from os import environ\n",
    "import json\n",
    "\n",
    "# AWS\n",
    "import boto3"
   ]
  },
  {
   "cell_type": "code",
   "execution_count": 31,
   "id": "8e6bc0e9",
   "metadata": {},
   "outputs": [],
   "source": [
    "s3 = boto3.client(\"s3\")\n",
    "bucket = \"coderbytechallengesandbox\""
   ]
  },
  {
   "cell_type": "code",
   "execution_count": 34,
   "id": "bb0d8661",
   "metadata": {},
   "outputs": [
    {
     "data": {
      "text/plain": [
       "{'ResponseMetadata': {'RequestId': 'AMK58CG1B6YWMBC1',\n",
       "  'HostId': 'ozIQ7hh6kC0EONyABaGyYO3XlViJXZpKcVipbX38M2jEfxCcbFekC/PRXoP2DtvsJqCYCsT2Lr4=',\n",
       "  'HTTPStatusCode': 200,\n",
       "  'HTTPHeaders': {'x-amz-id-2': 'ozIQ7hh6kC0EONyABaGyYO3XlViJXZpKcVipbX38M2jEfxCcbFekC/PRXoP2DtvsJqCYCsT2Lr4=',\n",
       "   'x-amz-request-id': 'AMK58CG1B6YWMBC1',\n",
       "   'date': 'Sun, 20 Feb 2022 13:43:45 GMT',\n",
       "   'x-amz-bucket-region': 'us-east-1',\n",
       "   'content-type': 'application/xml',\n",
       "   'transfer-encoding': 'chunked',\n",
       "   'server': 'AmazonS3'},\n",
       "  'RetryAttempts': 0},\n",
       " 'IsTruncated': False,\n",
       " 'Marker': '',\n",
       " 'Contents': [{'Key': '__cb__file-name-s3-empty.txt',\n",
       "   'LastModified': datetime.datetime(2019, 10, 6, 17, 33, 30, tzinfo=tzutc()),\n",
       "   'ETag': '\"dc9ece5662a60761e2bd9bad2e4aa769\"',\n",
       "   'Size': 19,\n",
       "   'StorageClass': 'STANDARD'}],\n",
       " 'Name': 'coderbytechallengesandbox',\n",
       " 'Prefix': '__cb__',\n",
       " 'MaxKeys': 1000,\n",
       " 'EncodingType': 'url'}"
      ]
     },
     "execution_count": 34,
     "metadata": {},
     "output_type": "execute_result"
    }
   ],
   "source": [
    "s3.list_objects(Bucket=bucket, Prefix='__cb__')"
   ]
  },
  {
   "cell_type": "code",
   "execution_count": 36,
   "id": "a23a8309",
   "metadata": {},
   "outputs": [
    {
     "data": {
      "text/plain": [
       "{'ResponseMetadata': {'RequestId': 'Z4Y6B19R5SJ3PBSD',\n",
       "  'HostId': 'kNvPBwv5s+d0E095m4j/1QlcHmpmvfYjisI0+MkvEaT2Hd+4N7J9S847baFm4dkSrNxaTPFxxYg=',\n",
       "  'HTTPStatusCode': 200,\n",
       "  'HTTPHeaders': {'x-amz-id-2': 'kNvPBwv5s+d0E095m4j/1QlcHmpmvfYjisI0+MkvEaT2Hd+4N7J9S847baFm4dkSrNxaTPFxxYg=',\n",
       "   'x-amz-request-id': 'Z4Y6B19R5SJ3PBSD',\n",
       "   'date': 'Sun, 20 Feb 2022 13:44:33 GMT',\n",
       "   'last-modified': 'Sun, 06 Oct 2019 17:33:30 GMT',\n",
       "   'etag': '\"dc9ece5662a60761e2bd9bad2e4aa769\"',\n",
       "   'cache-control': 'max-age=31536000',\n",
       "   'accept-ranges': 'bytes',\n",
       "   'content-type': 'text/plain',\n",
       "   'server': 'AmazonS3',\n",
       "   'content-length': '19'},\n",
       "  'RetryAttempts': 0},\n",
       " 'AcceptRanges': 'bytes',\n",
       " 'LastModified': datetime.datetime(2019, 10, 6, 17, 33, 30, tzinfo=tzutc()),\n",
       " 'ContentLength': 19,\n",
       " 'ETag': '\"dc9ece5662a60761e2bd9bad2e4aa769\"',\n",
       " 'CacheControl': 'max-age=31536000',\n",
       " 'ContentType': 'text/plain',\n",
       " 'Metadata': {},\n",
       " 'Body': <botocore.response.StreamingBody at 0x2c60d8a5a60>}"
      ]
     },
     "execution_count": 36,
     "metadata": {},
     "output_type": "execute_result"
    }
   ],
   "source": [
    "obj = s3.get_object(\n",
    "    Bucket=bucket,\n",
    "    Key='__cb__file-name-s3-empty.txt'\n",
    ")\n",
    "obj"
   ]
  },
  {
   "cell_type": "code",
   "execution_count": 37,
   "id": "2da3b555",
   "metadata": {},
   "outputs": [
    {
     "data": {
      "text/plain": [
       "b'nothing to see here'"
      ]
     },
     "execution_count": 37,
     "metadata": {},
     "output_type": "execute_result"
    }
   ],
   "source": [
    "# Read the bytes from the buffer\n",
    "binary_content = obj['Body'].read()\n",
    "binary_content"
   ]
  },
  {
   "cell_type": "code",
   "execution_count": 39,
   "id": "6ff3acb3",
   "metadata": {},
   "outputs": [],
   "source": [
    "# If the content can be serialized into a JSON:\n",
    "# content = json.loads(binary_content)\n",
    "# content"
   ]
  },
  {
   "cell_type": "code",
   "execution_count": null,
   "id": "093ae148",
   "metadata": {},
   "outputs": [],
   "source": []
  }
 ],
 "metadata": {
  "kernelspec": {
   "display_name": "Python 3 (ipykernel)",
   "language": "python",
   "name": "python3"
  },
  "language_info": {
   "codemirror_mode": {
    "name": "ipython",
    "version": 3
   },
   "file_extension": ".py",
   "mimetype": "text/x-python",
   "name": "python",
   "nbconvert_exporter": "python",
   "pygments_lexer": "ipython3",
   "version": "3.9.7"
  }
 },
 "nbformat": 4,
 "nbformat_minor": 5
}
