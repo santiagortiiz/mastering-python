{
 "cells": [
  {
   "cell_type": "markdown",
   "id": "cbae2232",
   "metadata": {},
   "source": [
    "# SNS"
   ]
  },
  {
   "cell_type": "markdown",
   "id": "0aeb4e81",
   "metadata": {},
   "source": [
    "# Environment Variables"
   ]
  },
  {
   "cell_type": "code",
   "execution_count": 1,
   "id": "894e7a96",
   "metadata": {},
   "outputs": [
    {
     "name": "stdout",
     "output_type": "stream",
     "text": [
      "env: AWS_ACCESS_KEY_ID=\n",
      "env: AWS_SECRET_ACCESS_KEY=\n",
      "env: region=\n"
     ]
    }
   ],
   "source": [
    "%env AWS_ACCESS_KEY_ID=\n",
    "%env AWS_SECRET_ACCESS_KEY=\n",
    "%env region=\n",
    "# %env AWS_STORAGE_BUCKET_NAME="
   ]
  },
  {
   "cell_type": "code",
   "execution_count": 3,
   "id": "4390dbdc",
   "metadata": {},
   "outputs": [],
   "source": [
    "from os import environ\n",
    "\n",
    "AWS_ACCESS_KEY_ID = environ.get('AWS_ACCESS_KEY_ID', None)\n",
    "AWS_SECRET_ACCESS_KEY = environ.get('AWS_SECRET_ACCESS_KEY', None)\n",
    "region = environ.get('region', None)"
   ]
  },
  {
   "cell_type": "code",
   "execution_count": 4,
   "id": "71d61cb3",
   "metadata": {},
   "outputs": [],
   "source": [
    "import boto3"
   ]
  },
  {
   "cell_type": "code",
   "execution_count": 5,
   "id": "089f90c5",
   "metadata": {},
   "outputs": [],
   "source": [
    "sns = boto3.client('sns')"
   ]
  },
  {
   "cell_type": "markdown",
   "id": "e5b61c25",
   "metadata": {},
   "source": [
    "### Publish a message to a topic"
   ]
  },
  {
   "cell_type": "code",
   "execution_count": 6,
   "id": "7f990cbe",
   "metadata": {},
   "outputs": [],
   "source": [
    "account_id = 123\n",
    "response = sns.publish(\n",
    "    TopicArn=f'arn:aws:sns:us-east-1:{account_id}:rng',\n",
    "    Message=\"testing SNS and API Gateway integration\",\n",
    "    Subject='Activate RNG',\n",
    "    MessageStructure='string',\n",
    "    MessageAttributes={\n",
    "        'attr_1': {\n",
    "            'DataType': 'String',\n",
    "            'StringValue': 'some string',\n",
    "        }\n",
    "    }\n",
    ")"
   ]
  },
  {
   "cell_type": "code",
   "execution_count": 7,
   "id": "38243476",
   "metadata": {},
   "outputs": [
    {
     "data": {
      "text/plain": [
       "{'MessageId': '7d6fae22-c460-5870-be77-f516a53d741b',\n",
       " 'ResponseMetadata': {'RequestId': 'a6062c96-ae32-5ae6-9ee9-77a2cf6fc68d',\n",
       "  'HTTPStatusCode': 200,\n",
       "  'HTTPHeaders': {'x-amzn-requestid': 'a6062c96-ae32-5ae6-9ee9-77a2cf6fc68d',\n",
       "   'content-type': 'text/xml',\n",
       "   'content-length': '294',\n",
       "   'date': 'Tue, 28 Jun 2022 01:53:33 GMT'},\n",
       "  'RetryAttempts': 0}}"
      ]
     },
     "execution_count": 7,
     "metadata": {},
     "output_type": "execute_result"
    }
   ],
   "source": [
    "response"
   ]
  }
 ],
 "metadata": {
  "kernelspec": {
   "display_name": "Python 3.9.13 64-bit",
   "language": "python",
   "name": "python3"
  },
  "language_info": {
   "codemirror_mode": {
    "name": "ipython",
    "version": 3
   },
   "file_extension": ".py",
   "mimetype": "text/x-python",
   "name": "python",
   "nbconvert_exporter": "python",
   "pygments_lexer": "ipython3",
   "version": "3.9.13"
  },
  "vscode": {
   "interpreter": {
    "hash": "4d4e58afd13afe2b3fbfe86df77ca093c8534cab39407234a0fa2ee00983a445"
   }
  }
 },
 "nbformat": 4,
 "nbformat_minor": 5
}
