{
 "cells": [
  {
   "cell_type": "markdown",
   "id": "9e51c986",
   "metadata": {},
   "source": [
    "# Imports"
   ]
  },
  {
   "cell_type": "code",
   "execution_count": 1,
   "id": "fba6cac3",
   "metadata": {},
   "outputs": [],
   "source": [
    "# Standard\n",
    "from os import environ\n",
    "import json\n",
    "\n",
    "# AWS\n",
    "import boto3"
   ]
  },
  {
   "cell_type": "markdown",
   "id": "e03f80ce",
   "metadata": {},
   "source": [
    "# Environment variables"
   ]
  },
  {
   "cell_type": "raw",
   "id": "3e5b84db",
   "metadata": {},
   "source": [
    "%env AWS_ACCESS_KEY_ID=\n",
    "%env AWS_SECRET_ACCESS_KEY=\n",
    "%env region=us-east-1\n",
    "# %env AWS_STORAGE_BUCKET_NAME="
   ]
  },
  {
   "cell_type": "code",
   "execution_count": 3,
   "id": "60bf5022",
   "metadata": {},
   "outputs": [],
   "source": [
    "AWS_ACCESS_KEY_ID = environ.get('AWS_ACCESS_KEY_ID', None)\n",
    "AWS_SECRET_ACCESS_KEY = environ.get('AWS_SECRET_ACCESS_KEY', None)\n",
    "region = environ.get('region', None)"
   ]
  },
  {
   "cell_type": "markdown",
   "id": "16c43d21",
   "metadata": {},
   "source": [
    "# Params"
   ]
  },
  {
   "cell_type": "code",
   "execution_count": 4,
   "id": "999a8b62",
   "metadata": {},
   "outputs": [],
   "source": [
    "bucket='iotatech-kendra.bucket'"
   ]
  },
  {
   "cell_type": "markdown",
   "id": "a41e3397",
   "metadata": {},
   "source": [
    "# Instance the Client"
   ]
  },
  {
   "cell_type": "code",
   "execution_count": 5,
   "id": "f6376fa4",
   "metadata": {},
   "outputs": [],
   "source": [
    "client = boto3.client(\n",
    "    's3',\n",
    "    aws_access_key_id=AWS_ACCESS_KEY_ID,\n",
    "    aws_secret_access_key=AWS_SECRET_ACCESS_KEY\n",
    ")"
   ]
  },
  {
   "cell_type": "markdown",
   "id": "4aad5ae4",
   "metadata": {},
   "source": [
    "# List Buckets"
   ]
  },
  {
   "cell_type": "code",
   "execution_count": 6,
   "id": "84137ba5",
   "metadata": {},
   "outputs": [
    {
     "data": {
      "text/plain": [
       "[{'Name': 'beta.iotaq.tech',\n",
       "  'CreationDate': datetime.datetime(2021, 11, 29, 22, 39, 17, tzinfo=tzutc())},\n",
       " {'Name': 'dataset-dash',\n",
       "  'CreationDate': datetime.datetime(2021, 9, 6, 15, 47, 4, tzinfo=tzutc())},\n",
       " {'Name': 'elasticbeanstalk-us-east-1-673035222105',\n",
       "  'CreationDate': datetime.datetime(2021, 10, 19, 15, 58, 33, tzinfo=tzutc())},\n",
       " {'Name': 'iotaimpact-databases',\n",
       "  'CreationDate': datetime.datetime(2021, 9, 23, 22, 13, 57, tzinfo=tzutc())},\n",
       " {'Name': 'iotaq.tech',\n",
       "  'CreationDate': datetime.datetime(2021, 8, 20, 20, 31, 21, tzinfo=tzutc())},\n",
       " {'Name': 'iotatech-kendra.bucket',\n",
       "  'CreationDate': datetime.datetime(2021, 5, 27, 16, 28, 54, tzinfo=tzutc())},\n",
       " {'Name': 'json-files-for-iota',\n",
       "  'CreationDate': datetime.datetime(2021, 8, 23, 19, 55, 39, tzinfo=tzutc())},\n",
       " {'Name': 'kendra.sample',\n",
       "  'CreationDate': datetime.datetime(2021, 7, 27, 21, 22, 37, tzinfo=tzutc())},\n",
       " {'Name': 'knowitnow.dev',\n",
       "  'CreationDate': datetime.datetime(2021, 8, 3, 16, 13, 45, tzinfo=tzutc())},\n",
       " {'Name': 'www.iotaq.tech',\n",
       "  'CreationDate': datetime.datetime(2021, 8, 20, 17, 42, 22, tzinfo=tzutc())}]"
      ]
     },
     "execution_count": 6,
     "metadata": {},
     "output_type": "execute_result"
    }
   ],
   "source": [
    "buckets = client.list_buckets().pop('Buckets')\n",
    "buckets"
   ]
  },
  {
   "cell_type": "markdown",
   "id": "79ebb1c6",
   "metadata": {},
   "source": [
    "# List objects in a bucket \n",
    "[list_objects](https://boto3.amazonaws.com/v1/documentation/api/latest/reference/services/s3.html#S3.Client.list_objects)"
   ]
  },
  {
   "cell_type": "code",
   "execution_count": 7,
   "id": "83c364b2",
   "metadata": {},
   "outputs": [
    {
     "data": {
      "text/plain": [
       "{'ResponseMetadata': {'RequestId': '4NDV72C0D7N54D2D',\n",
       "  'HostId': 'D5oMEJLg1h+EkX20+MW9xIHVEgLYkHUpt5Iy+NQWF1U0xSTep59PCmSO9TeiNUqMYrc5Uz1h+lc=',\n",
       "  'HTTPStatusCode': 200,\n",
       "  'HTTPHeaders': {'x-amz-id-2': 'D5oMEJLg1h+EkX20+MW9xIHVEgLYkHUpt5Iy+NQWF1U0xSTep59PCmSO9TeiNUqMYrc5Uz1h+lc=',\n",
       "   'x-amz-request-id': '4NDV72C0D7N54D2D',\n",
       "   'date': 'Mon, 13 Dec 2021 02:27:16 GMT',\n",
       "   'x-amz-bucket-region': 'us-east-1',\n",
       "   'content-type': 'application/xml',\n",
       "   'transfer-encoding': 'chunked',\n",
       "   'server': 'AmazonS3'},\n",
       "  'RetryAttempts': 0},\n",
       " 'IsTruncated': False,\n",
       " 'Marker': '',\n",
       " 'Contents': [{'Key': 'meta/dashboards/',\n",
       "   'LastModified': datetime.datetime(2021, 10, 18, 20, 11, 16, tzinfo=tzutc()),\n",
       "   'ETag': '\"d41d8cd98f00b204e9800998ecf8427e\"',\n",
       "   'Size': 0,\n",
       "   'StorageClass': 'STANDARD',\n",
       "   'Owner': {'DisplayName': 'juan.paris',\n",
       "    'ID': 'ae6cc869b030449194a6764adac947699502d0013f4fc3c3fc7ebb5b8d76df10'}},\n",
       "  {'Key': 'meta/dashboards/consumer expenditures.pdf.metadata.json',\n",
       "   'LastModified': datetime.datetime(2021, 11, 25, 19, 11, 31, tzinfo=tzutc()),\n",
       "   'ETag': '\"a6d7b42ea9a6028abb23d055d3bcf05f\"',\n",
       "   'Size': 1807,\n",
       "   'StorageClass': 'ONEZONE_IA',\n",
       "   'Owner': {'DisplayName': 'juan.paris',\n",
       "    'ID': 'ae6cc869b030449194a6764adac947699502d0013f4fc3c3fc7ebb5b8d76df10'}},\n",
       "  {'Key': 'meta/dashboards/food and beverages.pdf.metadata.json',\n",
       "   'LastModified': datetime.datetime(2021, 11, 5, 17, 40, 59, tzinfo=tzutc()),\n",
       "   'ETag': '\"c9ac72650a8e921b0fc1ffc21a7437f9\"',\n",
       "   'Size': 1607,\n",
       "   'StorageClass': 'ONEZONE_IA',\n",
       "   'Owner': {'DisplayName': 'juan.paris',\n",
       "    'ID': 'ae6cc869b030449194a6764adac947699502d0013f4fc3c3fc7ebb5b8d76df10'}},\n",
       "  {'Key': 'meta/dashboards/nutrition survey crossed sandwiches.pdf.metadata.json',\n",
       "   'LastModified': datetime.datetime(2021, 11, 5, 17, 40, 59, tzinfo=tzutc()),\n",
       "   'ETag': '\"ea326731d05948e7242fbd36d00b38a6\"',\n",
       "   'Size': 1146,\n",
       "   'StorageClass': 'ONEZONE_IA',\n",
       "   'Owner': {'DisplayName': 'juan.paris',\n",
       "    'ID': 'ae6cc869b030449194a6764adac947699502d0013f4fc3c3fc7ebb5b8d76df10'}},\n",
       "  {'Key': 'meta/dashboards/nutrition survey.pdf.metadata.json',\n",
       "   'LastModified': datetime.datetime(2021, 11, 5, 17, 41, tzinfo=tzutc()),\n",
       "   'ETag': '\"6794026754dc818cad427d01981a14d0\"',\n",
       "   'Size': 1339,\n",
       "   'StorageClass': 'ONEZONE_IA',\n",
       "   'Owner': {'DisplayName': 'juan.paris',\n",
       "    'ID': 'ae6cc869b030449194a6764adac947699502d0013f4fc3c3fc7ebb5b8d76df10'}}],\n",
       " 'Name': 'iotatech-kendra.bucket',\n",
       " 'Prefix': 'meta/dashboards',\n",
       " 'MaxKeys': 1000,\n",
       " 'EncodingType': 'url'}"
      ]
     },
     "execution_count": 7,
     "metadata": {},
     "output_type": "execute_result"
    }
   ],
   "source": [
    "result = client.list_objects(\n",
    "    Bucket=bucket,\n",
    "#     Delimiter='json',\n",
    "    Prefix='meta/dashboards',\n",
    "#     EncodingType='url',\n",
    "#     MaxKeys=123,\n",
    ")\n",
    "result"
   ]
  },
  {
   "cell_type": "markdown",
   "id": "7157d660",
   "metadata": {},
   "source": [
    "# Retrieve an object in a bucket\n",
    "[get_object](https://boto3.amazonaws.com/v1/documentation/api/latest/reference/services/s3.html#S3.Client.get_object)"
   ]
  },
  {
   "cell_type": "code",
   "execution_count": 8,
   "id": "20b3e938",
   "metadata": {},
   "outputs": [
    {
     "data": {
      "text/plain": [
       "{'ResponseMetadata': {'RequestId': '9DTZK175HTHB3CD3',\n",
       "  'HostId': '24S2PsOeu81XJkaoYMM4ALlRu+BV2AyqvgV/Hz7DSvJveHFW2wQYya2HE8c2uHzFS06QdMi7PdY=',\n",
       "  'HTTPStatusCode': 200,\n",
       "  'HTTPHeaders': {'x-amz-id-2': '24S2PsOeu81XJkaoYMM4ALlRu+BV2AyqvgV/Hz7DSvJveHFW2wQYya2HE8c2uHzFS06QdMi7PdY=',\n",
       "   'x-amz-request-id': '9DTZK175HTHB3CD3',\n",
       "   'date': 'Mon, 13 Dec 2021 02:32:09 GMT',\n",
       "   'last-modified': 'Thu, 25 Nov 2021 19:11:31 GMT',\n",
       "   'etag': '\"a6d7b42ea9a6028abb23d055d3bcf05f\"',\n",
       "   'x-amz-storage-class': 'ONEZONE_IA',\n",
       "   'accept-ranges': 'bytes',\n",
       "   'content-type': 'application/json',\n",
       "   'server': 'AmazonS3',\n",
       "   'content-length': '1807'},\n",
       "  'RetryAttempts': 0},\n",
       " 'AcceptRanges': 'bytes',\n",
       " 'LastModified': datetime.datetime(2021, 11, 25, 19, 11, 31, tzinfo=tzutc()),\n",
       " 'ContentLength': 1807,\n",
       " 'ETag': '\"a6d7b42ea9a6028abb23d055d3bcf05f\"',\n",
       " 'ContentType': 'application/json',\n",
       " 'Metadata': {},\n",
       " 'StorageClass': 'ONEZONE_IA',\n",
       " 'Body': <botocore.response.StreamingBody at 0x2095e001520>}"
      ]
     },
     "execution_count": 8,
     "metadata": {},
     "output_type": "execute_result"
    }
   ],
   "source": [
    "obj = s3_client.get_object(\n",
    "    Bucket='iotatech-kendra.bucket',\n",
    "    Key='meta/dashboards/consumer expenditures.pdf.metadata.json'\n",
    ")\n",
    "obj"
   ]
  },
  {
   "cell_type": "code",
   "execution_count": 9,
   "id": "2258eae3",
   "metadata": {},
   "outputs": [
    {
     "data": {
      "text/plain": [
       "b'{\\r\\n    \"Attributes\": {\\r\\n        \"_source_uri\": \"https://dash.iotaq.tech/consumer-expenditures-sql\",\\r\\n        \"_category\": \"dashboard\",   \\r\\n        \"industry\": \"food and beverage\",\\r\\n        \"sub_industries\": [\\r\\n            \"agriculture, forestry, fishing and hunting, baked goods stores ,beef cattle ranching and farming ,beverage manufacturing ,bread and bakery product manufacturing, breakfast cereal manufacturing ,broilers and other meat type chicken production, cattle ranching and farming , chicken egg production, commercial bakeries ,dairy cattle and milk production, dairy product , dairy product ,dual-purpose cattle ranching and farming, fats and oils refining and blending ,fish and seafood markets, fish and seafood merchant wholesalers ,fishing, fishing hunting and trapping , fluid milk manufacturing, food and beverage stores ,fresh fruit and vegetable merchant wholesalers, fruit and vegetable canning ,fruit and vegetable canning pickling and drying, fruit and vegetable markets ,fruit and vegetable preserving and specialty food manufacturing, oilseed ,oilseed and grain combination farming ,other miscellaneous food manufacturing ,poultry and egg production, retail bakeries ,soybean and other oilseed processing ,wine and distilled alcoholic beverage merchant wholesalers\"\\r\\n        ],\\r\\n        \"research_question_categories\": [\"products and services\"],\\r\\n        \"research_questions\": [\"What are the current and potential customer segments?\"],\\r\\n        \"customers_type\": [\"B2C final buyer, B2B final buyer\"],\\r\\n        \"segmentation\": [\"consumption-based,demographics/geographic\"],\\r\\n        \"content\": [\"past segment growth trends\"],\\r\\n        \"detail_level\": \"in depth\",\\r\\n        \"analyzed_states\": [\"All U.S.A.\"]\\r\\n    },\\r\\n    \"Title\": \"Consumer Expenditures\",\\r\\n    \"ContentType\": \"PDF\"\\r\\n}'"
      ]
     },
     "execution_count": 9,
     "metadata": {},
     "output_type": "execute_result"
    }
   ],
   "source": [
    "# Read the bytes from the buffer\n",
    "binary_content = obj['Body'].read()\n",
    "binary_content"
   ]
  },
  {
   "cell_type": "code",
   "execution_count": 10,
   "id": "b1adde8a",
   "metadata": {},
   "outputs": [
    {
     "data": {
      "text/plain": [
       "{'Attributes': {'_source_uri': 'https://dash.iotaq.tech/consumer-expenditures-sql',\n",
       "  '_category': 'dashboard',\n",
       "  'industry': 'food and beverage',\n",
       "  'sub_industries': ['agriculture, forestry, fishing and hunting, baked goods stores ,beef cattle ranching and farming ,beverage manufacturing ,bread and bakery product manufacturing, breakfast cereal manufacturing ,broilers and other meat type chicken production, cattle ranching and farming , chicken egg production, commercial bakeries ,dairy cattle and milk production, dairy product , dairy product ,dual-purpose cattle ranching and farming, fats and oils refining and blending ,fish and seafood markets, fish and seafood merchant wholesalers ,fishing, fishing hunting and trapping , fluid milk manufacturing, food and beverage stores ,fresh fruit and vegetable merchant wholesalers, fruit and vegetable canning ,fruit and vegetable canning pickling and drying, fruit and vegetable markets ,fruit and vegetable preserving and specialty food manufacturing, oilseed ,oilseed and grain combination farming ,other miscellaneous food manufacturing ,poultry and egg production, retail bakeries ,soybean and other oilseed processing ,wine and distilled alcoholic beverage merchant wholesalers'],\n",
       "  'research_question_categories': ['products and services'],\n",
       "  'research_questions': ['What are the current and potential customer segments?'],\n",
       "  'customers_type': ['B2C final buyer, B2B final buyer'],\n",
       "  'segmentation': ['consumption-based,demographics/geographic'],\n",
       "  'content': ['past segment growth trends'],\n",
       "  'detail_level': 'in depth',\n",
       "  'analyzed_states': ['All U.S.A.']},\n",
       " 'Title': 'Consumer Expenditures',\n",
       " 'ContentType': 'PDF'}"
      ]
     },
     "execution_count": 10,
     "metadata": {},
     "output_type": "execute_result"
    }
   ],
   "source": [
    "# If the content can be serialized into a JSON:\n",
    "content = json.loads(binary_content)\n",
    "content"
   ]
  },
  {
   "cell_type": "code",
   "execution_count": 13,
   "id": "178ad443",
   "metadata": {},
   "outputs": [
    {
     "ename": "KeyError",
     "evalue": "'Title'",
     "output_type": "error",
     "traceback": [
      "\u001b[1;31m---------------------------------------------------------------------------\u001b[0m",
      "\u001b[1;31mKeyError\u001b[0m                                  Traceback (most recent call last)",
      "\u001b[1;32m~\\AppData\\Local\\Temp/ipykernel_1860/1147875175.py\u001b[0m in \u001b[0;36m<module>\u001b[1;34m\u001b[0m\n\u001b[1;32m----> 1\u001b[1;33m \u001b[0mcontent\u001b[0m\u001b[1;33m[\u001b[0m\u001b[1;34m'Attributes'\u001b[0m\u001b[1;33m]\u001b[0m\u001b[1;33m[\u001b[0m\u001b[1;34m'_source_uri'\u001b[0m\u001b[1;33m]\u001b[0m\u001b[1;33m,\u001b[0m \u001b[0mcontent\u001b[0m\u001b[1;33m[\u001b[0m\u001b[1;34m'Attributes'\u001b[0m\u001b[1;33m]\u001b[0m\u001b[1;33m[\u001b[0m\u001b[1;34m'Title'\u001b[0m\u001b[1;33m]\u001b[0m\u001b[1;33m\u001b[0m\u001b[1;33m\u001b[0m\u001b[0m\n\u001b[0m",
      "\u001b[1;31mKeyError\u001b[0m: 'Title'"
     ]
    }
   ],
   "source": [
    "content['Attributes']['_source_uri'], content['Attributes']['Title']"
   ]
  },
  {
   "cell_type": "markdown",
   "id": "11e41c53",
   "metadata": {},
   "source": [
    "# Download an object"
   ]
  },
  {
   "cell_type": "code",
   "execution_count": 12,
   "id": "cc7898c9",
   "metadata": {},
   "outputs": [],
   "source": [
    "with open('download_fileobj_test.txt', 'wb') as data:\n",
    "    client.download_fileobj(\n",
    "        'iotatech-kendra.bucket',\n",
    "        'meta/partners/p1.pdf.metadata.json', \n",
    "        data\n",
    "    )"
   ]
  },
  {
   "cell_type": "markdown",
   "id": "5caaa2b0",
   "metadata": {},
   "source": [
    "# Upload a file-like object"
   ]
  },
  {
   "cell_type": "code",
   "execution_count": 17,
   "id": "d2d9caed",
   "metadata": {},
   "outputs": [],
   "source": [
    "# file-like object\n",
    "with open(file_name, \"rb\") as file:\n",
    "    client.upload_fileobj(file, bucket, object_name)"
   ]
  },
  {
   "cell_type": "markdown",
   "id": "fae0f9a9",
   "metadata": {},
   "source": [
    "# Upload a file"
   ]
  },
  {
   "cell_type": "code",
   "execution_count": 21,
   "id": "836271ee",
   "metadata": {},
   "outputs": [],
   "source": [
    "file_name = 'genome_santiagoortizc.pdf'\n",
    "bucket = 'iotatech-kendra.bucket'\n",
    "object_name = 'testing_pdf.pdf'"
   ]
  },
  {
   "cell_type": "code",
   "execution_count": 22,
   "id": "1d03dd35",
   "metadata": {},
   "outputs": [],
   "source": [
    "kwargs = {\n",
    "#     'ACL': 'public-read',\n",
    "#     'ContentEncoding':\n",
    "    'ContentType': 'application/pdf', #'application/json',\n",
    "#     'Metadata': {'a': 'b', 'c': 'd'},\n",
    "    'StorageClass': 'ONEZONE_IA'\n",
    "#     'WebsiteRedirectLcocation':\n",
    "}"
   ]
  },
  {
   "cell_type": "code",
   "execution_count": 23,
   "id": "28caaab0",
   "metadata": {},
   "outputs": [],
   "source": [
    "client.upload_file(\n",
    "    file_name, bucket, object_name, \n",
    "    ExtraArgs=kwargs\n",
    ")"
   ]
  },
  {
   "cell_type": "markdown",
   "id": "d44c51f7",
   "metadata": {},
   "source": [
    "# Progress Percentage"
   ]
  },
  {
   "cell_type": "code",
   "execution_count": null,
   "id": "e274e32f",
   "metadata": {},
   "outputs": [],
   "source": [
    "import os\n",
    "import sys\n",
    "import threading\n",
    "\n",
    "class ProgressPercentage(object):\n",
    "\n",
    "    def __init__(self, filename):\n",
    "        self._filename = filename\n",
    "        self._size = float(os.path.getsize(filename))\n",
    "        self._seen_so_far = 0\n",
    "        self._lock = threading.Lock()\n",
    "\n",
    "    def __call__(self, bytes_amount):\n",
    "        # To simplify, assume this is hooked up to a single filename\n",
    "        with self._lock:\n",
    "            self._seen_so_far += bytes_amount\n",
    "            percentage = (self._seen_so_far / self._size) * 100\n",
    "            sys.stdout.write(\n",
    "                \"\\r%s  %s / %s  (%.2f%%)\" % (\n",
    "                    self._filename, self._seen_so_far, self._size,\n",
    "                    percentage))\n",
    "            sys.stdout.flush()"
   ]
  },
  {
   "cell_type": "code",
   "execution_count": null,
   "id": "f83c81ea",
   "metadata": {},
   "outputs": [],
   "source": []
  }
 ],
 "metadata": {
  "kernelspec": {
   "display_name": "Python 3 (ipykernel)",
   "language": "python",
   "name": "python3"
  },
  "language_info": {
   "codemirror_mode": {
    "name": "ipython",
    "version": 3
   },
   "file_extension": ".py",
   "mimetype": "text/x-python",
   "name": "python",
   "nbconvert_exporter": "python",
   "pygments_lexer": "ipython3",
   "version": "3.12.0"
  }
 },
 "nbformat": 4,
 "nbformat_minor": 5
}
