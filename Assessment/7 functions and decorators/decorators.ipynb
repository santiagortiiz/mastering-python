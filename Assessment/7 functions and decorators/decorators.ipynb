{
 "cells": [
  {
   "cell_type": "code",
   "execution_count": 1,
   "metadata": {},
   "outputs": [
    {
     "name": "stdout",
     "output_type": "stream",
     "text": [
      "Antes de llamar a mi_funcion\n",
      "Dentro de mi_funcion\n",
      "Después de llamar a mi_funcion\n"
     ]
    }
   ],
   "source": [
    "# Decorator with OOP style\n",
    "class MiDecorador:\n",
    "    def __init__(self, funcion):\n",
    "        self.funcion = funcion\n",
    "\n",
    "    def __call__(self, *args, **kwargs):\n",
    "        print(f\"Antes de llamar a {self.funcion.__name__}\")\n",
    "        resultado = self.funcion(*args, **kwargs)\n",
    "        print(f\"Después de llamar a {self.funcion.__name__}\")\n",
    "        return resultado\n",
    "\n",
    "@MiDecorador\n",
    "def mi_funcion():\n",
    "    print(\"Dentro de mi_funcion\")\n",
    "\n",
    "# Llamada a la función decorada\n",
    "mi_funcion()\n"
   ]
  },
  {
   "cell_type": "code",
   "execution_count": null,
   "metadata": {},
   "outputs": [],
   "source": []
  }
 ],
 "metadata": {
  "kernelspec": {
   "display_name": ".venv",
   "language": "python",
   "name": "python3"
  },
  "language_info": {
   "codemirror_mode": {
    "name": "ipython",
    "version": 3
   },
   "file_extension": ".py",
   "mimetype": "text/x-python",
   "name": "python",
   "nbconvert_exporter": "python",
   "pygments_lexer": "ipython3",
   "version": "3.12.0"
  }
 },
 "nbformat": 4,
 "nbformat_minor": 2
}
