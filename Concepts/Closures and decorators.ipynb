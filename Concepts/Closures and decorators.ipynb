{
 "cells": [
  {
   "cell_type": "markdown",
   "id": "e2c4d6b9",
   "metadata": {},
   "source": [
    "# Closures\n",
    "\n",
    "- Nested functions\n",
    "- The nested function must reference a value in any parent scope\n",
    "- The wrapper function must return the nested one"
   ]
  },
  {
   "cell_type": "code",
   "execution_count": 1,
   "id": "8f615bd1",
   "metadata": {},
   "outputs": [
    {
     "name": "stdout",
     "output_type": "stream",
     "text": [
      "1\n"
     ]
    }
   ],
   "source": [
    "def main():\n",
    "    a = 1\n",
    "    \n",
    "    def nested():\n",
    "        print(a)\n",
    "    \n",
    "    nested()\n",
    "    \n",
    "main()"
   ]
  },
  {
   "cell_type": "code",
   "execution_count": 2,
   "id": "ee43a1eb",
   "metadata": {},
   "outputs": [
    {
     "data": {
      "text/plain": [
       "(10, 50)"
      ]
     },
     "execution_count": 2,
     "metadata": {},
     "output_type": "execute_result"
    }
   ],
   "source": [
    "def make_multiplier(a):\n",
    "    \n",
    "    def multiplier(b):\n",
    "        return a * b\n",
    "    \n",
    "    return multiplier\n",
    "\n",
    "times_2 = make_multiplier(2)\n",
    "times_10 = make_multiplier(10)\n",
    "\n",
    "n = 5\n",
    "\n",
    "times_2(5), times_10(5)"
   ]
  },
  {
   "cell_type": "code",
   "execution_count": 4,
   "id": "31fd0b10",
   "metadata": {},
   "outputs": [
    {
     "data": {
      "text/plain": [
       "'hihihi'"
      ]
     },
     "execution_count": 4,
     "metadata": {},
     "output_type": "execute_result"
    }
   ],
   "source": [
    "def make_repeater_of(n: int):\n",
    "    \n",
    "    def repeater(string: str):\n",
    "        return string * n\n",
    "    \n",
    "    return repeater\n",
    "        \n",
    "repeat_3 = make_repeater_of(3)\n",
    "repeat_3('hi')"
   ]
  },
  {
   "cell_type": "markdown",
   "id": "d31b7ae1",
   "metadata": {},
   "source": [
    "# Decorators"
   ]
  },
  {
   "cell_type": "code",
   "execution_count": 7,
   "id": "364625ff",
   "metadata": {},
   "outputs": [
    {
     "name": "stdout",
     "output_type": "stream",
     "text": [
      "this is applied to the original func\n",
      "hi!\n"
     ]
    }
   ],
   "source": [
    "def decorator(func):\n",
    "    def wrapper():\n",
    "        print('this is applied to the original func')\n",
    "        func()\n",
    "    return wrapper\n",
    "\n",
    "def say_hi():\n",
    "    print('hi!')\n",
    "    \n",
    "greetings = decorator(say_hi)\n",
    "greetings()"
   ]
  },
  {
   "cell_type": "markdown",
   "id": "94dce75d",
   "metadata": {},
   "source": [
    "### Sugar Syntax"
   ]
  },
  {
   "cell_type": "code",
   "execution_count": 9,
   "id": "b454eab4",
   "metadata": {},
   "outputs": [
    {
     "name": "stdout",
     "output_type": "stream",
     "text": [
      "this is applied to the original func\n",
      "hello\n"
     ]
    }
   ],
   "source": [
    "@decorator\n",
    "def say_hello():\n",
    "    print('hello')\n",
    "    \n",
    "say_hello()"
   ]
  },
  {
   "cell_type": "markdown",
   "id": "90e5530e",
   "metadata": {},
   "source": [
    "# Chronometer"
   ]
  },
  {
   "cell_type": "code",
   "execution_count": 2,
   "id": "82070213",
   "metadata": {},
   "outputs": [],
   "source": [
    "import timeit"
   ]
  },
  {
   "cell_type": "code",
   "execution_count": 3,
   "id": "fb13bd0a",
   "metadata": {},
   "outputs": [],
   "source": [
    "def chronometer(func):\n",
    "    def wrapper(*args, **kwargs):\n",
    "        start = timeit.default_timer()\n",
    "        result = func(*args, **kwargs)\n",
    "        stop = timeit.default_timer()\n",
    "        elapsed = stop - start\n",
    "        print(f'Time: {elapsed}')\n",
    "        return result\n",
    "    return wrapper"
   ]
  },
  {
   "cell_type": "code",
   "execution_count": 5,
   "id": "18592c4c",
   "metadata": {},
   "outputs": [],
   "source": [
    "@chronometer\n",
    "def s(l):\n",
    "    return sum(l)"
   ]
  },
  {
   "cell_type": "code",
   "execution_count": 6,
   "id": "f311a1fe",
   "metadata": {},
   "outputs": [
    {
     "name": "stdout",
     "output_type": "stream",
     "text": [
      "1.499999996212864e-06\n"
     ]
    }
   ],
   "source": [
    "s([1,2,3])"
   ]
  }
 ],
 "metadata": {
  "kernelspec": {
   "display_name": ".venv",
   "language": "python",
   "name": "python3"
  },
  "language_info": {
   "codemirror_mode": {
    "name": "ipython",
    "version": 3
   },
   "file_extension": ".py",
   "mimetype": "text/x-python",
   "name": "python",
   "nbconvert_exporter": "python",
   "pygments_lexer": "ipython3",
   "version": "3.9.13"
  },
  "vscode": {
   "interpreter": {
    "hash": "eee9b5f3a112eaf78edc651c323596c7d8206e6f86d89c7491909996b8a62606"
   }
  }
 },
 "nbformat": 4,
 "nbformat_minor": 5
}
