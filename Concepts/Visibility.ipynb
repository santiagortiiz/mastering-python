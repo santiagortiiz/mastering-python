{
 "cells": [
  {
   "cell_type": "markdown",
   "id": "74c9783a",
   "metadata": {},
   "source": [
    "# LEGB\n",
    "\n",
    "- L: local\n",
    "- E: enclosed\n",
    "- G: global\n",
    "- B: built-in"
   ]
  },
  {
   "cell_type": "markdown",
   "id": "e18f810b",
   "metadata": {},
   "source": [
    "### Move built-in to global (hiding)"
   ]
  },
  {
   "cell_type": "code",
   "execution_count": 1,
   "id": "bffed8a7",
   "metadata": {},
   "outputs": [
    {
     "data": {
      "text/plain": [
       "'I am the str method'"
      ]
     },
     "execution_count": 1,
     "metadata": {},
     "output_type": "execute_result"
    }
   ],
   "source": [
    "x = str\n",
    "x('I am the str method')"
   ]
  },
  {
   "cell_type": "code",
   "execution_count": 2,
   "id": "60afe431",
   "metadata": {},
   "outputs": [
    {
     "ename": "TypeError",
     "evalue": "'NoneType' object is not callable",
     "output_type": "error",
     "traceback": [
      "\u001b[1;31m---------------------------------------------------------------------------\u001b[0m",
      "\u001b[1;31mTypeError\u001b[0m                                 Traceback (most recent call last)",
      "\u001b[1;32mC:\\Users\\SANTIA~1\\AppData\\Local\\Temp/ipykernel_19744/1027928781.py\u001b[0m in \u001b[0;36m<module>\u001b[1;34m\u001b[0m\n\u001b[0;32m      1\u001b[0m \u001b[0mstr\u001b[0m \u001b[1;33m=\u001b[0m \u001b[1;32mNone\u001b[0m\u001b[1;33m\u001b[0m\u001b[1;33m\u001b[0m\u001b[0m\n\u001b[1;32m----> 2\u001b[1;33m \u001b[0mstr\u001b[0m\u001b[1;33m(\u001b[0m\u001b[1;34m'The built-in method has been removed'\u001b[0m\u001b[1;33m)\u001b[0m\u001b[1;33m\u001b[0m\u001b[1;33m\u001b[0m\u001b[0m\n\u001b[0m",
      "\u001b[1;31mTypeError\u001b[0m: 'NoneType' object is not callable"
     ]
    }
   ],
   "source": [
    "str = None\n",
    "str('The built-in method has been removed')"
   ]
  },
  {
   "cell_type": "markdown",
   "id": "7e80da13",
   "metadata": {},
   "source": [
    "### Use global variable \n",
    "[useful reference](https://stackoverflow.com/questions/423379/using-global-variables-in-a-function)"
   ]
  },
  {
   "cell_type": "code",
   "execution_count": 1,
   "id": "988813b4",
   "metadata": {},
   "outputs": [],
   "source": [
    "var = 0"
   ]
  },
  {
   "cell_type": "code",
   "execution_count": 10,
   "id": "d185575d",
   "metadata": {},
   "outputs": [
    {
     "data": {
      "text/plain": [
       "1"
      ]
     },
     "execution_count": 10,
     "metadata": {},
     "output_type": "execute_result"
    }
   ],
   "source": [
    "def increase():\n",
    "    global var\n",
    "    var += 1\n",
    "    return var\n",
    "\n",
    "increase()"
   ]
  },
  {
   "cell_type": "code",
   "execution_count": 2,
   "id": "f7ac0292",
   "metadata": {},
   "outputs": [
    {
     "ename": "UnboundLocalError",
     "evalue": "cannot access local variable 'var' where it is not associated with a value",
     "output_type": "error",
     "traceback": [
      "\u001b[1;31m---------------------------------------------------------------------------\u001b[0m",
      "\u001b[1;31mUnboundLocalError\u001b[0m                         Traceback (most recent call last)",
      "\u001b[1;32mc:\\Users\\Santiago_Ortiz\\mastering-python\\Concepts\\Visibility.ipynb Cell 8\u001b[0m line \u001b[0;36m7\n\u001b[0;32m      <a href='vscode-notebook-cell:/c%3A/Users/Santiago_Ortiz/mastering-python/Concepts/Visibility.ipynb#X10sZmlsZQ%3D%3D?line=3'>4</a>\u001b[0m     var \u001b[39m+\u001b[39m\u001b[39m=\u001b[39m\u001b[39m1\u001b[39m\n\u001b[0;32m      <a href='vscode-notebook-cell:/c%3A/Users/Santiago_Ortiz/mastering-python/Concepts/Visibility.ipynb#X10sZmlsZQ%3D%3D?line=4'>5</a>\u001b[0m     \u001b[39mreturn\u001b[39;00m var\n\u001b[1;32m----> <a href='vscode-notebook-cell:/c%3A/Users/Santiago_Ortiz/mastering-python/Concepts/Visibility.ipynb#X10sZmlsZQ%3D%3D?line=6'>7</a>\u001b[0m dont_work()\n",
      "\u001b[1;32mc:\\Users\\Santiago_Ortiz\\mastering-python\\Concepts\\Visibility.ipynb Cell 8\u001b[0m line \u001b[0;36m4\n\u001b[0;32m      <a href='vscode-notebook-cell:/c%3A/Users/Santiago_Ortiz/mastering-python/Concepts/Visibility.ipynb#X10sZmlsZQ%3D%3D?line=2'>3</a>\u001b[0m \u001b[39mdef\u001b[39;00m \u001b[39mdont_work\u001b[39m():\n\u001b[1;32m----> <a href='vscode-notebook-cell:/c%3A/Users/Santiago_Ortiz/mastering-python/Concepts/Visibility.ipynb#X10sZmlsZQ%3D%3D?line=3'>4</a>\u001b[0m     var \u001b[39m+\u001b[39m\u001b[39m=\u001b[39m\u001b[39m1\u001b[39m\n\u001b[0;32m      <a href='vscode-notebook-cell:/c%3A/Users/Santiago_Ortiz/mastering-python/Concepts/Visibility.ipynb#X10sZmlsZQ%3D%3D?line=4'>5</a>\u001b[0m     \u001b[39mreturn\u001b[39;00m var\n",
      "\u001b[1;31mUnboundLocalError\u001b[0m: cannot access local variable 'var' where it is not associated with a value"
     ]
    }
   ],
   "source": [
    "var = 0\n",
    "\n",
    "def dont_work():\n",
    "    var +=1\n",
    "    return var\n",
    "\n",
    "dont_work()"
   ]
  },
  {
   "cell_type": "code",
   "execution_count": null,
   "id": "8d371030",
   "metadata": {},
   "outputs": [],
   "source": [
    "d"
   ]
  }
 ],
 "metadata": {
  "kernelspec": {
   "display_name": ".venv",
   "language": "python",
   "name": "python3"
  },
  "language_info": {
   "codemirror_mode": {
    "name": "ipython",
    "version": 3
   },
   "file_extension": ".py",
   "mimetype": "text/x-python",
   "name": "python",
   "nbconvert_exporter": "python",
   "pygments_lexer": "ipython3",
   "version": "3.11.6"
  },
  "vscode": {
   "interpreter": {
    "hash": "eee9b5f3a112eaf78edc651c323596c7d8206e6f86d89c7491909996b8a62606"
   }
  }
 },
 "nbformat": 4,
 "nbformat_minor": 5
}
