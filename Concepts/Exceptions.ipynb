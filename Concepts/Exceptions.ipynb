{
 "cells": [
  {
   "attachments": {},
   "cell_type": "markdown",
   "metadata": {},
   "source": [
    "# Custom Exceptions"
   ]
  },
  {
   "cell_type": "code",
   "execution_count": 2,
   "metadata": {},
   "outputs": [],
   "source": [
    "class MyException(Exception):\n",
    "\n",
    "    def __init__(self, message):\n",
    "        self.message = message"
   ]
  },
  {
   "cell_type": "code",
   "execution_count": 12,
   "metadata": {},
   "outputs": [
    {
     "ename": "MyException",
     "evalue": "Custom Message",
     "output_type": "error",
     "traceback": [
      "\u001b[1;31m---------------------------------------------------------------------------\u001b[0m",
      "\u001b[1;31mMyException\u001b[0m                               Traceback (most recent call last)",
      "\u001b[1;32mc:\\Users\\Santiago_Ortiz\\mastering-python\\Concepts\\Exceptions.ipynb Cell 3\u001b[0m in \u001b[0;36m<cell line: 1>\u001b[1;34m()\u001b[0m\n\u001b[1;32m----> <a href='vscode-notebook-cell:/c%3A/Users/Santiago_Ortiz/mastering-python/Concepts/Exceptions.ipynb#W4sZmlsZQ%3D%3D?line=0'>1</a>\u001b[0m \u001b[39mraise\u001b[39;00m MyException(\u001b[39m'\u001b[39m\u001b[39mCustom Message\u001b[39m\u001b[39m'\u001b[39m)\n",
      "\u001b[1;31mMyException\u001b[0m: Custom Message"
     ]
    }
   ],
   "source": [
    "raise MyException('Custom Message')"
   ]
  }
 ],
 "metadata": {
  "kernelspec": {
   "display_name": "Python 3",
   "language": "python",
   "name": "python3"
  },
  "language_info": {
   "codemirror_mode": {
    "name": "ipython",
    "version": 3
   },
   "file_extension": ".py",
   "mimetype": "text/x-python",
   "name": "python",
   "nbconvert_exporter": "python",
   "pygments_lexer": "ipython3",
   "version": "3.9.13"
  },
  "orig_nbformat": 4,
  "vscode": {
   "interpreter": {
    "hash": "4d4e58afd13afe2b3fbfe86df77ca093c8534cab39407234a0fa2ee00983a445"
   }
  }
 },
 "nbformat": 4,
 "nbformat_minor": 2
}
