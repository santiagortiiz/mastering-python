{
 "cells": [
  {
   "cell_type": "markdown",
   "id": "d4203592",
   "metadata": {},
   "source": [
    "# Python - Basic Skills"
   ]
  },
  {
   "cell_type": "markdown",
   "id": "1e73b71d",
   "metadata": {},
   "source": [
    "# Index\n",
    "1. Functions and list/dict comprehension\n",
    "2. Generators\n",
    "3. Closures\n",
    "4. Decorators\n",
    "5. POO: (inheritance and polymorphism)\n",
    "6. ABCs\n",
    "7. Data classes & static typing"
   ]
  },
  {
   "cell_type": "markdown",
   "id": "e39b5c87",
   "metadata": {},
   "source": [
    "## 1. Functions and comprehensions  \n",
    "\n",
    "#### Topics:\n",
    "- Ways to pass arguments to a function\n",
    "- Ways to consume arguments inside a function\n",
    "- Domain of lists and dicts comprehensions"
   ]
  },
  {
   "cell_type": "markdown",
   "id": "621c3115",
   "metadata": {},
   "source": [
    "### Part A"
   ]
  },
  {
   "cell_type": "code",
   "execution_count": 1,
   "id": "b21bcdad",
   "metadata": {},
   "outputs": [],
   "source": [
    "my_dict = {\n",
    "    'key_a': 'value_a',\n",
    "    'key_b': 'value_b',\n",
    "    'key_c': 'value_c'\n",
    "}"
   ]
  },
  {
   "cell_type": "code",
   "execution_count": 2,
   "id": "5d28ac95",
   "metadata": {},
   "outputs": [],
   "source": [
    "def my_func(*args, **kwargs):\n",
    "    d = kwargs.get('json', 'key_x')\n",
    "    return { d[key]: key for key in d }"
   ]
  },
  {
   "cell_type": "markdown",
   "id": "d9301b43",
   "metadata": {},
   "source": [
    "#### What is the output of:"
   ]
  },
  {
   "cell_type": "raw",
   "id": "61479692",
   "metadata": {},
   "source": [
    "my_func(json=my_dict)"
   ]
  },
  {
   "cell_type": "markdown",
   "id": "63581412",
   "metadata": {},
   "source": [
    "### Part B"
   ]
  },
  {
   "cell_type": "code",
   "execution_count": 3,
   "id": "be8babe8",
   "metadata": {},
   "outputs": [],
   "source": [
    "def my_func(arg_x='arg_x', *args, **kwargs):\n",
    "    return ['A' if arg=='arg_x' else 'B' for arg in args]"
   ]
  },
  {
   "cell_type": "markdown",
   "id": "61db3132",
   "metadata": {},
   "source": [
    "#### Which is the len of this output:"
   ]
  },
  {
   "cell_type": "raw",
   "id": "3ec134ba",
   "metadata": {},
   "source": [
    "result = my_func('arg_x', 'arg_x', 'arg_y')\n",
    "len(result)"
   ]
  },
  {
   "cell_type": "markdown",
   "id": "b69bb3ad",
   "metadata": {},
   "source": [
    "# 2. Generators\n",
    "\n",
    "- Usefulness and examples of use"
   ]
  },
  {
   "cell_type": "code",
   "execution_count": 4,
   "id": "f30740f2",
   "metadata": {},
   "outputs": [],
   "source": [
    "def my_func(*args, **kwargs):\n",
    "    return (i for i in args)"
   ]
  },
  {
   "cell_type": "markdown",
   "id": "725f28b3",
   "metadata": {},
   "source": [
    "#### What is the result and what are the ways to consume it?"
   ]
  },
  {
   "cell_type": "raw",
   "id": "7e99b72a",
   "metadata": {},
   "source": [
    "result = my_func('a', 'b', 'c')\n",
    "result"
   ]
  },
  {
   "cell_type": "markdown",
   "id": "945cc1af",
   "metadata": {},
   "source": [
    "### Yield built-in"
   ]
  },
  {
   "cell_type": "code",
   "execution_count": 5,
   "id": "2f358077",
   "metadata": {},
   "outputs": [],
   "source": [
    "def my_func(array):\n",
    "    for i in array:\n",
    "        yield i"
   ]
  },
  {
   "cell_type": "markdown",
   "id": "00cf169f",
   "metadata": {},
   "source": [
    "#### What is the result and what are the ways to consume it?"
   ]
  },
  {
   "cell_type": "raw",
   "id": "25d365f8",
   "metadata": {},
   "source": [
    "array = ['a', 'b', 'c']\n",
    "values = my_func(array)\n",
    "next(values)"
   ]
  },
  {
   "cell_type": "markdown",
   "id": "622209ae",
   "metadata": {},
   "source": [
    "# 3. Closures"
   ]
  },
  {
   "cell_type": "markdown",
   "id": "3779b183",
   "metadata": {},
   "source": [
    "#### Describe the code below"
   ]
  },
  {
   "cell_type": "code",
   "execution_count": 6,
   "id": "06decc42",
   "metadata": {},
   "outputs": [],
   "source": [
    "def my_closure(n):\n",
    "\n",
    "    def wrapper(m):\n",
    "        return n + m\n",
    "    \n",
    "    return wrapper"
   ]
  },
  {
   "cell_type": "code",
   "execution_count": 7,
   "id": "c5da47e3",
   "metadata": {},
   "outputs": [],
   "source": [
    "add_two = my_closure(2)"
   ]
  },
  {
   "cell_type": "markdown",
   "id": "42adf053",
   "metadata": {},
   "source": [
    "#### What is the output of:"
   ]
  },
  {
   "cell_type": "raw",
   "id": "e0f0574f",
   "metadata": {},
   "source": [
    "add_two(3)"
   ]
  },
  {
   "cell_type": "markdown",
   "id": "6991489d",
   "metadata": {},
   "source": [
    "# 4. Decorators"
   ]
  },
  {
   "cell_type": "code",
   "execution_count": 8,
   "id": "823a3af0",
   "metadata": {},
   "outputs": [],
   "source": [
    "from datetime import datetime\n",
    "\n",
    "def chronometer(func):\n",
    "    def wrapper(*args, **kwargs):\n",
    "        \n",
    "        initial_time = datetime.now()\n",
    "        func(*args, **kwargs)\n",
    "        final_time = datetime.now()\n",
    "        \n",
    "        time_elapsed = final_time - initial_time\n",
    "        return time_elapsed\n",
    "    \n",
    "    return wrapper"
   ]
  },
  {
   "cell_type": "code",
   "execution_count": 9,
   "id": "78ccef85",
   "metadata": {},
   "outputs": [],
   "source": [
    "@chronometer\n",
    "def my_func(x):\n",
    "    for i in range(x):\n",
    "        pass        "
   ]
  },
  {
   "cell_type": "code",
   "execution_count": 10,
   "id": "13c7c656",
   "metadata": {},
   "outputs": [
    {
     "data": {
      "text/plain": [
       "datetime.timedelta(microseconds=1999)"
      ]
     },
     "execution_count": 10,
     "metadata": {},
     "output_type": "execute_result"
    }
   ],
   "source": [
    "my_func(50000)"
   ]
  },
  {
   "cell_type": "markdown",
   "id": "f461c176",
   "metadata": {},
   "source": [
    "# 5.1 POO"
   ]
  },
  {
   "cell_type": "markdown",
   "id": "312556c6",
   "metadata": {},
   "source": [
    "#### Describe the code below"
   ]
  },
  {
   "cell_type": "code",
   "execution_count": 1,
   "id": "23e2a054",
   "metadata": {},
   "outputs": [],
   "source": [
    "class Person:\n",
    "    \n",
    "    def __init__(self, name):\n",
    "        self.public_name = name\n",
    "        self.__private_name = name\n",
    "    \n",
    "    @property\n",
    "    def get_private_name(self):\n",
    "        return self.__private_name\n",
    "    \n",
    "    @get_private_name.setter\n",
    "    def set_private_name(self, private_name):\n",
    "        self.__private_name = private_name"
   ]
  },
  {
   "cell_type": "code",
   "execution_count": 2,
   "id": "dc89afbf",
   "metadata": {},
   "outputs": [
    {
     "data": {
      "text/plain": [
       "'santiago'"
      ]
     },
     "execution_count": 2,
     "metadata": {},
     "output_type": "execute_result"
    }
   ],
   "source": [
    "developer = Person('santiago')\n",
    "developer.public_name"
   ]
  },
  {
   "cell_type": "markdown",
   "id": "61879c82",
   "metadata": {},
   "source": [
    "#### What is wrong with this?"
   ]
  },
  {
   "cell_type": "raw",
   "id": "1c316772",
   "metadata": {},
   "source": [
    "developer.__private_name"
   ]
  },
  {
   "cell_type": "code",
   "execution_count": 3,
   "id": "23a76ac8",
   "metadata": {},
   "outputs": [
    {
     "data": {
      "text/plain": [
       "'Juliana'"
      ]
     },
     "execution_count": 3,
     "metadata": {},
     "output_type": "execute_result"
    }
   ],
   "source": [
    "developer.set_private_name = 'Juliana'\n",
    "developer.get_private_name"
   ]
  },
  {
   "cell_type": "markdown",
   "id": "ce15e6d1",
   "metadata": {},
   "source": [
    "# 5.2 Inheritance & Polymorphism"
   ]
  },
  {
   "cell_type": "markdown",
   "id": "dc911e49",
   "metadata": {},
   "source": [
    "#### Describe the code below"
   ]
  },
  {
   "cell_type": "code",
   "execution_count": 14,
   "id": "415b82cd",
   "metadata": {},
   "outputs": [],
   "source": [
    "class Developer(Person):\n",
    "    def coding(self):\n",
    "        return 'coding something amazing'"
   ]
  },
  {
   "cell_type": "code",
   "execution_count": 15,
   "id": "61f04167",
   "metadata": {},
   "outputs": [],
   "source": [
    "class Backend:\n",
    "    def logic(self):\n",
    "        return 'programming the logic'"
   ]
  },
  {
   "cell_type": "code",
   "execution_count": 16,
   "id": "30fa57ab",
   "metadata": {},
   "outputs": [],
   "source": [
    "class Frontend:\n",
    "    def interface(self):\n",
    "        return 'programming the UI'"
   ]
  },
  {
   "cell_type": "code",
   "execution_count": 17,
   "id": "87442514",
   "metadata": {},
   "outputs": [],
   "source": [
    "class FullStack(Developer, Backend, Frontend): \n",
    "    pass"
   ]
  },
  {
   "cell_type": "raw",
   "id": "9c8d1ea9",
   "metadata": {},
   "source": [
    "coder = FullStack('Santiago')\n",
    "coder.get_private_name, coder.coding(), coder.logic(), coder.interface()"
   ]
  },
  {
   "cell_type": "markdown",
   "id": "7c640d7d",
   "metadata": {},
   "source": [
    "# 6. ABCs"
   ]
  },
  {
   "cell_type": "code",
   "execution_count": 18,
   "id": "ad655229",
   "metadata": {},
   "outputs": [],
   "source": [
    "from abc import ABC, abstractmethod\n",
    "\n",
    "class API(ABC):\n",
    "    \n",
    "    @abstractmethod\n",
    "    def post(self):\n",
    "        pass\n",
    "    \n",
    "    @abstractmethod\n",
    "    def get(self):\n",
    "        pass"
   ]
  },
  {
   "cell_type": "markdown",
   "id": "5ed7fdd1",
   "metadata": {},
   "source": [
    "#### What is wrong with this?"
   ]
  },
  {
   "cell_type": "raw",
   "id": "6cedff39",
   "metadata": {},
   "source": [
    "api = API()"
   ]
  },
  {
   "cell_type": "code",
   "execution_count": 19,
   "id": "4a4dba25",
   "metadata": {},
   "outputs": [],
   "source": [
    "class REST(API):\n",
    "    \n",
    "    def get(self):\n",
    "        return f'request for value'\n",
    "    \n",
    "    def post(self, value):\n",
    "        return f'sending {value}'"
   ]
  },
  {
   "cell_type": "code",
   "execution_count": 20,
   "id": "395d267c",
   "metadata": {},
   "outputs": [],
   "source": [
    "api_rest = REST()"
   ]
  },
  {
   "cell_type": "code",
   "execution_count": 21,
   "id": "59c66ef5",
   "metadata": {},
   "outputs": [
    {
     "data": {
      "text/plain": [
       "'request for value'"
      ]
     },
     "execution_count": 21,
     "metadata": {},
     "output_type": "execute_result"
    }
   ],
   "source": [
    "api_rest.get()"
   ]
  },
  {
   "cell_type": "markdown",
   "id": "4062f68c",
   "metadata": {},
   "source": [
    "# 7. Static typing and dataclasses"
   ]
  },
  {
   "cell_type": "markdown",
   "id": "45772dea",
   "metadata": {},
   "source": [
    "#### Describe use cases"
   ]
  },
  {
   "cell_type": "code",
   "execution_count": 22,
   "id": "4da34c38",
   "metadata": {},
   "outputs": [],
   "source": [
    "CoordinatesType = list[dict[str, tuple[int, int]]]\n",
    "coordinates: CoordinatesType = [\n",
    "    {\n",
    "        'a_b': (3,3),\n",
    "        'x_y': (5,'5')\n",
    "    }\n",
    "]"
   ]
  },
  {
   "cell_type": "code",
   "execution_count": 23,
   "id": "91ddfcc1",
   "metadata": {},
   "outputs": [],
   "source": [
    "from dataclasses import dataclass, field"
   ]
  },
  {
   "cell_type": "markdown",
   "id": "6ebfa578",
   "metadata": {},
   "source": [
    "#### Describe the code below"
   ]
  },
  {
   "cell_type": "code",
   "execution_count": 24,
   "id": "070d6df8",
   "metadata": {},
   "outputs": [],
   "source": [
    "@dataclass(order=True, frozen=True)\n",
    "class Person:\n",
    "    \n",
    "    name: str\n",
    "    age: int\n",
    "    skills: list[str]\n",
    "        \n",
    "    sort_index: int = field(init=False, repr=False)\n",
    "    IQ: int = 100\n",
    "    \n",
    "    def __post_init__(self):\n",
    "        object.__setattr__(self, 'sort_index', self.IQ)\n",
    "        "
   ]
  },
  {
   "cell_type": "markdown",
   "id": "04f97375",
   "metadata": {},
   "source": [
    "#### What is wrong with this?"
   ]
  },
  {
   "cell_type": "raw",
   "id": "a71d4872",
   "metadata": {},
   "source": [
    "person = Person('santiago', 25)"
   ]
  },
  {
   "cell_type": "markdown",
   "id": "3e30b6ac",
   "metadata": {},
   "source": [
    "#### Describe use cases"
   ]
  },
  {
   "cell_type": "code",
   "execution_count": 25,
   "id": "4ec016b5",
   "metadata": {},
   "outputs": [
    {
     "data": {
      "text/plain": [
       "Person(name='santiago', age=25, skills=['backend'], IQ=100)"
      ]
     },
     "execution_count": 25,
     "metadata": {},
     "output_type": "execute_result"
    }
   ],
   "source": [
    "person_1 = Person('santiago', 25, ['backend'])\n",
    "person_1"
   ]
  },
  {
   "cell_type": "code",
   "execution_count": 26,
   "id": "d3e55492",
   "metadata": {},
   "outputs": [
    {
     "data": {
      "text/plain": [
       "Person(name='andres', age=25, skills=['frontend'], IQ=100)"
      ]
     },
     "execution_count": 26,
     "metadata": {},
     "output_type": "execute_result"
    }
   ],
   "source": [
    "person_2 = Person('andres', 25, ['frontend'])\n",
    "person_2"
   ]
  },
  {
   "cell_type": "markdown",
   "id": "47cce667",
   "metadata": {},
   "source": [
    "#### What is wrong with this?"
   ]
  },
  {
   "cell_type": "raw",
   "id": "4dbb3b67",
   "metadata": {},
   "source": [
    "person_2.age=20"
   ]
  }
 ],
 "metadata": {
  "kernelspec": {
   "display_name": "Python 3.9.13 64-bit",
   "language": "python",
   "name": "python3"
  },
  "language_info": {
   "codemirror_mode": {
    "name": "ipython",
    "version": 3
   },
   "file_extension": ".py",
   "mimetype": "text/x-python",
   "name": "python",
   "nbconvert_exporter": "python",
   "pygments_lexer": "ipython3",
   "version": "3.9.13"
  },
  "vscode": {
   "interpreter": {
    "hash": "4d4e58afd13afe2b3fbfe86df77ca093c8534cab39407234a0fa2ee00983a445"
   }
  }
 },
 "nbformat": 4,
 "nbformat_minor": 5
}
