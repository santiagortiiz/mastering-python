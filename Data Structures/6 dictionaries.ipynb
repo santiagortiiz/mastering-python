{
 "cells": [
  {
   "cell_type": "code",
   "execution_count": 1,
   "id": "ccae8f28",
   "metadata": {},
   "outputs": [],
   "source": [
    "d = {\n",
    "    'a': {'A':'AAA'},\n",
    "    'b': 'B',\n",
    "    'c__id': 'C',\n",
    "}"
   ]
  },
  {
   "cell_type": "code",
   "execution_count": 12,
   "id": "c1d8102d",
   "metadata": {},
   "outputs": [
    {
     "data": {
      "text/plain": [
       "True"
      ]
     },
     "execution_count": 12,
     "metadata": {},
     "output_type": "execute_result"
    }
   ],
   "source": [
    "'a' in d"
   ]
  },
  {
   "cell_type": "code",
   "execution_count": 6,
   "id": "2aa94b9a",
   "metadata": {},
   "outputs": [],
   "source": [
    "a = {'new': 'dict'}"
   ]
  },
  {
   "cell_type": "code",
   "execution_count": 8,
   "id": "4795fabc",
   "metadata": {},
   "outputs": [
    {
     "data": {
      "text/plain": [
       "{'a': {'A': 'AAA'}, 'b': 'B', 'c': 'C', 'new': 'dict'}"
      ]
     },
     "execution_count": 8,
     "metadata": {},
     "output_type": "execute_result"
    }
   ],
   "source": [
    "d.update(a)\n",
    "d"
   ]
  },
  {
   "cell_type": "code",
   "execution_count": 5,
   "id": "6340b10a",
   "metadata": {},
   "outputs": [
    {
     "data": {
      "text/plain": [
       "dict_items([('a', {'A': 'AAA'}), ('b', 'B'), ('c', 'C')])"
      ]
     },
     "execution_count": 5,
     "metadata": {},
     "output_type": "execute_result"
    }
   ],
   "source": [
    "d.items()"
   ]
  },
  {
   "cell_type": "code",
   "execution_count": 8,
   "id": "4c59fc76",
   "metadata": {},
   "outputs": [
    {
     "name": "stdout",
     "output_type": "stream",
     "text": [
      "a {'A': 'AAA'}\n",
      "b B\n",
      "c C\n"
     ]
    }
   ],
   "source": [
    "for k, v in d.items():\n",
    "    print(k, v)"
   ]
  },
  {
   "cell_type": "code",
   "execution_count": 3,
   "id": "e95ab0b7",
   "metadata": {},
   "outputs": [
    {
     "data": {
      "text/plain": [
       "dict_keys(['a', 'b', 'c'])"
      ]
     },
     "execution_count": 3,
     "metadata": {},
     "output_type": "execute_result"
    }
   ],
   "source": [
    "d.keys()"
   ]
  },
  {
   "cell_type": "code",
   "execution_count": 4,
   "id": "866a4d25",
   "metadata": {},
   "outputs": [
    {
     "data": {
      "text/plain": [
       "dict_values(['A', 'B', 'C'])"
      ]
     },
     "execution_count": 4,
     "metadata": {},
     "output_type": "execute_result"
    }
   ],
   "source": [
    "d.values()"
   ]
  },
  {
   "cell_type": "code",
   "execution_count": 5,
   "id": "12dba919",
   "metadata": {},
   "outputs": [
    {
     "data": {
      "text/plain": [
       "['a', 'b', 'c']"
      ]
     },
     "execution_count": 5,
     "metadata": {},
     "output_type": "execute_result"
    }
   ],
   "source": [
    "[i for i in d]"
   ]
  },
  {
   "cell_type": "code",
   "execution_count": 6,
   "id": "c9e4b077",
   "metadata": {},
   "outputs": [
    {
     "data": {
      "text/plain": [
       "<dict_keyiterator at 0x27078698e50>"
      ]
     },
     "execution_count": 6,
     "metadata": {},
     "output_type": "execute_result"
    }
   ],
   "source": [
    "d.__iter__()"
   ]
  },
  {
   "cell_type": "code",
   "execution_count": 7,
   "id": "5d54669d",
   "metadata": {},
   "outputs": [
    {
     "data": {
      "text/plain": [
       "['a', 'b', 'c']"
      ]
     },
     "execution_count": 7,
     "metadata": {},
     "output_type": "execute_result"
    }
   ],
   "source": [
    "[i for i in d.__iter__()]"
   ]
  },
  {
   "cell_type": "code",
   "execution_count": 15,
   "id": "6bb29956",
   "metadata": {},
   "outputs": [
    {
     "data": {
      "text/plain": [
       "{1: 0, 2: 0, 3: 0}"
      ]
     },
     "execution_count": 15,
     "metadata": {},
     "output_type": "execute_result"
    }
   ],
   "source": [
    "d.fromkeys([1,2,3], 0)"
   ]
  },
  {
   "cell_type": "code",
   "execution_count": null,
   "id": "c49837dd",
   "metadata": {},
   "outputs": [],
   "source": []
  },
  {
   "cell_type": "code",
   "execution_count": 5,
   "id": "564a0fb4",
   "metadata": {},
   "outputs": [],
   "source": [
    "a = {\n",
    "    \"reports\": [\n",
    "        {\n",
    "            \"id\": 2934,\n",
    "            \"type\": \"Research Report\",\n",
    "            \"title\": \"2022 Omnichannel Leadership Report\",\"overview\": \"Learn about digital engagement, omnichannel convenience, customer experience and associate enablement.\",\n",
    "            \"dummy_url\": \"https://www.modernretail.co/wp-content/uploads/2021/11/2022_Omnichannel-Leadership-Report_FINAL.pdf\"\n",
    "        }\n",
    "    ],\n",
    "    \"dashoards\": [\n",
    "        {\n",
    "            \"id\": 2,\n",
    "            \"type\": \"Dashboard\",\n",
    "            \"title\": \"Food and Beverages\",\"overview\": \"Access useful datasets and get customized insights available for a year.\",\n",
    "            \"dummy_url\": \"https://dash.iotaq.tech/food-beverage-shadow\"\n",
    "        }\n",
    "    ],\n",
    "    \"benchmarks\": [\n",
    "        {\n",
    "            \"id\": 892,\n",
    "            \"type\": \"Benchmark\",\n",
    "            \"title\": \"Metaverse Intelligence\",\"overview\": \"Determine best practices by identifying how efficient other companies' processes are.\",\n",
    "            \"dummy_url\": \"https://dash.iotaq.tech/web3_metaverse_shadow\"\n",
    "        }\n",
    "    ],\n",
    "    \"free_reports\": [\n",
    "        {\n",
    "            \"id\": 2934,\n",
    "            \"type\": \"Research Report\",\n",
    "            \"title\": \"2022 Omnichannel Leadership Report\",\"overview\": \"Learn about digital engagement, omnichannel convenience, customer experience and associate enablement.\",\n",
    "            \"dummy_url\": \"https://www.modernretail.co/wp-content/uploads/2021/11/2022_Omnichannel-Leadership-Report_FINAL.pdf\"\n",
    "        }\n",
    "    ],\n",
    "    \"bundles\": [\n",
    "        \"Competitor understanding\",\n",
    "        \"Industry understanding\",\n",
    "        \"Sales Diagnostic\",\n",
    "        \"Product understanding\",\n",
    "        \"Customer understanding\"\n",
    "    ],\n",
    "    \"geolocation\": [\n",
    "        {\n",
    "            \"id\": 2,\n",
    "            \"type\": \"Customer Traffic Report\",\n",
    "            \"description\": \"Analyze industry trends, consumer preferences, and customer segments through location data over a specific time.\",\n",
    "            \"delivery_time\": \"1 Week\",\n",
    "            \"dummy_url\": \"http://sample.com/customer-traffic/\"\n",
    "        }\n",
    "    ]\n",
    "}"
   ]
  },
  {
   "cell_type": "code",
   "execution_count": 7,
   "id": "fb8a8916",
   "metadata": {},
   "outputs": [
    {
     "data": {
      "text/plain": [
       "{'dashoards': [{'id': 2,\n",
       "   'type': 'Dashboard',\n",
       "   'title': 'Food and Beverages',\n",
       "   'overview': 'Access useful datasets and get customized insights available for a year.',\n",
       "   'dummy_url': 'https://dash.iotaq.tech/food-beverage-shadow'}],\n",
       " 'benchmarks': [{'id': 892,\n",
       "   'type': 'Benchmark',\n",
       "   'title': 'Metaverse Intelligence',\n",
       "   'overview': \"Determine best practices by identifying how efficient other companies' processes are.\",\n",
       "   'dummy_url': 'https://dash.iotaq.tech/web3_metaverse_shadow'}],\n",
       " 'free_reports': [{'id': 2934,\n",
       "   'type': 'Research Report',\n",
       "   'title': '2022 Omnichannel Leadership Report',\n",
       "   'overview': 'Learn about digital engagement, omnichannel convenience, customer experience and associate enablement.',\n",
       "   'dummy_url': 'https://www.modernretail.co/wp-content/uploads/2021/11/2022_Omnichannel-Leadership-Report_FINAL.pdf'}],\n",
       " 'bundles': ['Competitor understanding',\n",
       "  'Industry understanding',\n",
       "  'Sales Diagnostic',\n",
       "  'Product understanding',\n",
       "  'Customer understanding'],\n",
       " 'geolocation': [{'id': 2,\n",
       "   'type': 'Customer Traffic Report',\n",
       "   'description': 'Analyze industry trends, consumer preferences, and customer segments through location data over a specific time.',\n",
       "   'delivery_time': '1 Week',\n",
       "   'dummy_url': 'http://sample.com/customer-traffic/'}],\n",
       " 'reports': [{'id': 2934,\n",
       "   'type': 'Research Report',\n",
       "   'title': '2022 Omnichannel Leadership Report',\n",
       "   'overview': 'Learn about digital engagement, omnichannel convenience, customer experience and associate enablement.',\n",
       "   'dummy_url': 'https://www.modernretail.co/wp-content/uploads/2021/11/2022_Omnichannel-Leadership-Report_FINAL.pdf'}]}"
      ]
     },
     "execution_count": 7,
     "metadata": {},
     "output_type": "execute_result"
    }
   ],
   "source": [
    "a['reports'] = a.pop('reports')\n",
    "a"
   ]
  },
  {
   "cell_type": "code",
   "execution_count": null,
   "id": "8a8ae1ef",
   "metadata": {},
   "outputs": [],
   "source": []
  }
 ],
 "metadata": {
  "kernelspec": {
   "display_name": "Python 3 (ipykernel)",
   "language": "python",
   "name": "python3"
  },
  "language_info": {
   "codemirror_mode": {
    "name": "ipython",
    "version": 3
   },
   "file_extension": ".py",
   "mimetype": "text/x-python",
   "name": "python",
   "nbconvert_exporter": "python",
   "pygments_lexer": "ipython3",
   "version": "3.9.12"
  }
 },
 "nbformat": 4,
 "nbformat_minor": 5
}
