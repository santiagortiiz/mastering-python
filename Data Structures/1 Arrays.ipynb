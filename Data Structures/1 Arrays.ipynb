{
 "cells": [
  {
   "cell_type": "markdown",
   "id": "d9d62cf4",
   "metadata": {},
   "source": [
    "# Arrays"
   ]
  },
  {
   "cell_type": "markdown",
   "id": "78586e0e",
   "metadata": {},
   "source": [
    "## Features\n",
    "\n",
    "- Limit capacity (defined at creation time)\n",
    "- Can not modify it's shape\n",
    "- Can not add or remove positions\n",
    "- Could have multiple dimensions (1, 2, 3... n)\n",
    "- Arrays are a type of lists, but lists are not a type of arrays\n",
    "- Python has an Array module but is based on lists, so it does not allow storing all types of data"
   ]
  },
  {
   "cell_type": "code",
   "execution_count": 1,
   "id": "aa57c10f",
   "metadata": {},
   "outputs": [],
   "source": [
    "import random\n",
    "from functools import reduce"
   ]
  },
  {
   "cell_type": "markdown",
   "id": "e6ed3f78",
   "metadata": {},
   "source": [
    "### 1D Array"
   ]
  },
  {
   "cell_type": "code",
   "execution_count": 2,
   "id": "a2ad5e8b",
   "metadata": {},
   "outputs": [],
   "source": [
    "class Array:\n",
    "    \n",
    "    def __init__(self, capacity, fill_value=None):\n",
    "        self.items = list()\n",
    "\n",
    "        # Set default items\n",
    "        for i in range(capacity):\n",
    "            self.items.append(fill_value)\n",
    "\n",
    "    def __len__(self):\n",
    "        return len(self.items)\n",
    "\n",
    "    def __str__(self):\n",
    "        return str(self.items)\n",
    "\n",
    "    def __iter__(self):\n",
    "        return iter(self.items)\n",
    "\n",
    "    def __getitem__(self, index):\n",
    "        return self.items[index]\n",
    "\n",
    "    def __setitem__(self, index, new_item):\n",
    "        self.items[index] = new_item\n",
    "\n",
    "    def __populate__(self, min_value, max_value):\n",
    "        for i in range(self.__len__()):\n",
    "             self.__setitem__(i, random.randint(min_value, max_value))\n",
    "        return self.__str__()\n",
    "\n",
    "    def __sum__(self):\n",
    "        return reduce(lambda current_item, next_item: current_item+next_item, self.items)"
   ]
  },
  {
   "cell_type": "code",
   "execution_count": 3,
   "id": "3bb59f72",
   "metadata": {},
   "outputs": [],
   "source": [
    "array = Array(5)"
   ]
  },
  {
   "cell_type": "code",
   "execution_count": 4,
   "id": "13a1af05",
   "metadata": {},
   "outputs": [
    {
     "data": {
      "text/plain": [
       "'[19, 58, 75, 38, 77]'"
      ]
     },
     "execution_count": 4,
     "metadata": {},
     "output_type": "execute_result"
    }
   ],
   "source": [
    "array.__populate__(5,100)"
   ]
  },
  {
   "cell_type": "code",
   "execution_count": 5,
   "id": "7619499f",
   "metadata": {},
   "outputs": [
    {
     "data": {
      "text/plain": [
       "5"
      ]
     },
     "execution_count": 5,
     "metadata": {},
     "output_type": "execute_result"
    }
   ],
   "source": [
    "len(array)"
   ]
  },
  {
   "cell_type": "code",
   "execution_count": 6,
   "id": "d5b0ef4d",
   "metadata": {},
   "outputs": [
    {
     "data": {
      "text/plain": [
       "'[19, 58, 75, 38, 77]'"
      ]
     },
     "execution_count": 6,
     "metadata": {},
     "output_type": "execute_result"
    }
   ],
   "source": [
    "str(array)"
   ]
  },
  {
   "cell_type": "code",
   "execution_count": 27,
   "id": "f43c38b2",
   "metadata": {},
   "outputs": [
    {
     "data": {
      "text/plain": [
       "0"
      ]
     },
     "execution_count": 27,
     "metadata": {},
     "output_type": "execute_result"
    }
   ],
   "source": [
    "array[0]"
   ]
  },
  {
   "cell_type": "code",
   "execution_count": 7,
   "id": "4d5f08a2",
   "metadata": {},
   "outputs": [
    {
     "name": "stdout",
     "output_type": "stream",
     "text": [
      "[0, 1, 2, 3, 4]\n"
     ]
    }
   ],
   "source": [
    "for i in range(5):\n",
    "    array[i] = i\n",
    "print(array)"
   ]
  },
  {
   "cell_type": "code",
   "execution_count": 8,
   "id": "8f92c99c",
   "metadata": {},
   "outputs": [
    {
     "data": {
      "text/plain": [
       "4"
      ]
     },
     "execution_count": 8,
     "metadata": {},
     "output_type": "execute_result"
    }
   ],
   "source": [
    "array[4]"
   ]
  },
  {
   "cell_type": "code",
   "execution_count": 9,
   "id": "62d5c334",
   "metadata": {},
   "outputs": [
    {
     "data": {
      "text/plain": [
       "[0, 1, 2, 3, 4]"
      ]
     },
     "execution_count": 9,
     "metadata": {},
     "output_type": "execute_result"
    }
   ],
   "source": [
    "[i for i in array.__iter__()]"
   ]
  },
  {
   "cell_type": "markdown",
   "id": "173b3fc2",
   "metadata": {},
   "source": [
    "### 2D Array"
   ]
  },
  {
   "cell_type": "code",
   "execution_count": 10,
   "id": "05d20732",
   "metadata": {},
   "outputs": [],
   "source": [
    "class Grid():\n",
    "\n",
    "    def __init__(self, rows, columns, fill_value=None):\n",
    "        # Defines the rows of the array\n",
    "        self.data = Array(rows)\n",
    "\n",
    "        # Defines the columns of the array and set their default values\n",
    "        for row in range(rows):\n",
    "            self.data[row] = Array(columns, fill_value=fill_value)\n",
    "\n",
    "    def get_height(self):\n",
    "        return len(self.data)\n",
    "\n",
    "    def get_width(self):\n",
    "        return len(self.data[0])\n",
    "\n",
    "    def __setitem__(self, row, column, value):\n",
    "        self.data[row][column] = value\n",
    "\n",
    "    def __getitem__(self, row, column):\n",
    "        return self.data[row][column]\n",
    "\n",
    "    def __str__(self):\n",
    "        string = \"\"\n",
    "\n",
    "        for row in range(self.get_height()):\n",
    "            for col in range(self.get_width()):\n",
    "                string += str(self.data[row][col]) + \" \"\n",
    "\n",
    "            string += \"\\n\"\n",
    "\n",
    "        return str(string)"
   ]
  },
  {
   "cell_type": "code",
   "execution_count": 32,
   "id": "0419ecce",
   "metadata": {},
   "outputs": [],
   "source": [
    "grid = Grid(3, 3)"
   ]
  },
  {
   "cell_type": "code",
   "execution_count": 33,
   "id": "b2c413de",
   "metadata": {},
   "outputs": [
    {
     "name": "stdout",
     "output_type": "stream",
     "text": [
      "57 58 28 \n",
      "36 93 42 \n",
      "72 42 61 \n",
      "\n"
     ]
    }
   ],
   "source": [
    "grid.__populate__(1, 100)"
   ]
  },
  {
   "cell_type": "code",
   "execution_count": 34,
   "id": "c113cf6a",
   "metadata": {},
   "outputs": [
    {
     "name": "stdout",
     "output_type": "stream",
     "text": [
      "57 58 28 \n",
      "36 (1,1) 42 \n",
      "72 42 61 \n",
      "\n"
     ]
    }
   ],
   "source": [
    "grid.__setitem__(1, 1, '(1,1)')\n",
    "print(grid)"
   ]
  },
  {
   "cell_type": "code",
   "execution_count": 38,
   "id": "e4d11864",
   "metadata": {},
   "outputs": [
    {
     "data": {
      "text/plain": [
       "58"
      ]
     },
     "execution_count": 38,
     "metadata": {},
     "output_type": "execute_result"
    }
   ],
   "source": [
    "value = grid.__getitem__(0, 1)\n",
    "value"
   ]
  },
  {
   "cell_type": "markdown",
   "id": "3de06f49",
   "metadata": {},
   "source": [
    "# Drawing tool"
   ]
  },
  {
   "cell_type": "code",
   "execution_count": 43,
   "id": "b4976aa1",
   "metadata": {},
   "outputs": [],
   "source": [
    "class Canvas:\n",
    "\n",
    "    def __init__(self, width, height, fill_value='|_|', mark='x'):\n",
    "        self.background = fill_value\n",
    "        self.mark = mark\n",
    "\n",
    "        self.height = height\n",
    "        self.width = width\n",
    "\n",
    "        self.borders = 2\n",
    "        self.canvas = Grid(height+self.borders, width+self.borders, fill_value)\n",
    "        self.__draw_borders()\n",
    "\n",
    "    def __str__(self):\n",
    "        return str(self.canvas)\n",
    "\n",
    "    def __setitem__(self, row, col, value):\n",
    "        self.canvas.__setitem__(row, col, value)\n",
    "\n",
    "    def __getitem__(self, row, col):\n",
    "        return self.canvas.__getitem__(row, col)\n",
    "\n",
    "    def __draw_borders(self):\n",
    "        ''' Draws the borders of the Canvas with horizontal and vertical lines '''\n",
    "        last_row = self.height + 1\n",
    "        last_col = self.width + 1\n",
    "\n",
    "        # Draw horizontal lines\n",
    "        horizontal_edge = '-'\n",
    "        self.__draw_horizontal_line(0, 0, 0, last_col, horizontal_edge)\n",
    "        self.__draw_horizontal_line(last_row, 0, last_row, last_col, horizontal_edge)\n",
    "\n",
    "        # Draw vertical lines\n",
    "        vertical_edge = '|'\n",
    "        self.__draw_vertical_line(1, 0, self.height, 0, vertical_edge)\n",
    "        self.__draw_vertical_line(1, last_col, self.height, last_col, vertical_edge)\n",
    "\n",
    "    def __draw_horizontal_line(self, row1, col1, row2, col2, value):\n",
    "        ''' Iterate over the columns setting the specified value '''\n",
    "        for col in range(col1, col2+1):\n",
    "            self.canvas.__setitem__(row1, col, value)\n",
    "\n",
    "    def __draw_vertical_line(self, row1, col1, row2, col2, value):\n",
    "        ''' Iterate over the rows setting the specified value '''\n",
    "        for row in range(row1, row2+1):\n",
    "            self.canvas.__setitem__(row, col1, value)\n",
    "\n",
    "    def create_line(self, row1, col1, row2, col2, value=None):\n",
    "        '''\n",
    "        Should create a new line from (row1,col1) to (row2,col2).\n",
    "        Currently only horizontal or vertical lines are supported.\n",
    "        '''\n",
    "        value = value or self.mark\n",
    "\n",
    "        # Horizontal condition\n",
    "        if row1==row2:\n",
    "\n",
    "            # Validates vertical limits\n",
    "            if self.height >= row1 > 0:\n",
    "\n",
    "                # Sorting the columns to allow drawing in two directions\n",
    "                if col1 > col2:\n",
    "                    col2, col1 = col1, col2\n",
    "\n",
    "                # If the col1 is less than or equal to 0, is setted to the minimum value\n",
    "                if col1 <= 0:\n",
    "                    col1 = 1\n",
    "\n",
    "                # Set col2 to the canvas width if it exceeds horizontal limits\n",
    "                if col2 > self.width:\n",
    "                    col2 = self.width\n",
    "\n",
    "                self.__draw_horizontal_line(row1, col1, row2, col2, value)\n",
    "\n",
    "        # Vertical condition\n",
    "        elif col1==col2:\n",
    "\n",
    "            # Validates horizontal limits\n",
    "            if self.width >= col1 > 0:\n",
    "\n",
    "                # Sorting the rows to allow drawing in two directions\n",
    "                if row1 > row2:\n",
    "                    row2, row1 = row1, row2\n",
    "\n",
    "                # If the row1 is less than or equal to 0, is setted to the minimum value\n",
    "                if row1 <= 0:\n",
    "                    row1 = 1\n",
    "\n",
    "                # Set row2 to the canvas width if it exceeds vertical limits\n",
    "                if row2 > self.height:\n",
    "                    row2 = self.height\n",
    "\n",
    "                self.__draw_vertical_line(row1, col1, row2, col2, value)\n",
    "\n",
    "        else:\n",
    "            raise OnlyStraightLinesAllowed\n",
    "\n",
    "    def create_rectangle(self, row1, col1, row2, col2, value=None):\n",
    "        '''\n",
    "        Should create a new rectangle, whose upper left corner is (row1,col1)\n",
    "        and lower right corner is (row2,col2).\n",
    "        '''\n",
    "        value = value or self.mark\n",
    "\n",
    "        # Draw horizontal lines\n",
    "        self.create_line(row1, col1, row1, col2, value)\n",
    "        self.create_line(row2, col1, row2, col2, value)\n",
    "\n",
    "        # Draw vertical lines\n",
    "        self.create_line(row1, col1, row2, col1, value)\n",
    "        self.create_line(row1, col2, row2, col2, value)\n",
    "\n",
    "    def bucket_fill(self, row, col, color):\n",
    "        '''\n",
    "        Should fill the entire area connected to (row, col) with the specified \"colour\".\n",
    "        The behaviour of this is the same as that of the \"bucket fill\" tool in paint programs.\n",
    "        '''\n",
    "\n",
    "        # Return if current position is already filled\n",
    "        current = self.canvas.__getitem__(row, col)\n",
    "        if current == self.mark:\n",
    "            return\n",
    "        # Set the current position to the new value if it is free\n",
    "        elif current == self.background:\n",
    "            self.canvas.__setitem__(row, col, color)\n",
    "        else:\n",
    "            return\n",
    "\n",
    "        if row + 1 <= self.height:\n",
    "            self.bucket_fill(row+1, col, color)\n",
    "        if row - 1 > 0:\n",
    "            self.bucket_fill(row-1, col, color)\n",
    "\n",
    "        if col + 1 <= self.width:\n",
    "            self.bucket_fill(row, col+1, color)\n",
    "        if col - 1 > 0:\n",
    "            self.bucket_fill(row, col-1, color)"
   ]
  },
  {
   "cell_type": "markdown",
   "id": "1f7828c6",
   "metadata": {},
   "source": [
    "## Create the canvas"
   ]
  },
  {
   "cell_type": "code",
   "execution_count": 44,
   "id": "05b4ed3a",
   "metadata": {},
   "outputs": [
    {
     "name": "stdout",
     "output_type": "stream",
     "text": [
      "- - - - - \n",
      "| |_| |_| |_| | \n",
      "| |_| |_| |_| | \n",
      "| |_| |_| |_| | \n",
      "- - - - - \n",
      "\n"
     ]
    }
   ],
   "source": [
    "w, h = 3, 3\n",
    "canvas = Canvas(w, h, '|_|')\n",
    "print(canvas)"
   ]
  },
  {
   "cell_type": "code",
   "execution_count": 47,
   "id": "b2f7837f",
   "metadata": {},
   "outputs": [
    {
     "data": {
      "text/plain": [
       "'|'"
      ]
     },
     "execution_count": 47,
     "metadata": {},
     "output_type": "execute_result"
    }
   ],
   "source": [
    "canvas.__getitem__(1, 0)"
   ]
  },
  {
   "cell_type": "markdown",
   "id": "8a9f697a",
   "metadata": {},
   "source": [
    "## Draw lines"
   ]
  },
  {
   "cell_type": "code",
   "execution_count": 16,
   "id": "5094cab3",
   "metadata": {},
   "outputs": [],
   "source": [
    "value = '|X|'"
   ]
  },
  {
   "cell_type": "code",
   "execution_count": 17,
   "id": "a6ec1dd6",
   "metadata": {},
   "outputs": [
    {
     "name": "stdout",
     "output_type": "stream",
     "text": [
      "| - - - - - - - - - - - - - - - - - - - - | \n",
      "| |_| |_| |_| |_| |_| |_| |_| |_| |_| |_| |_| |_| |_| |_| |_| |_| |_| |_| |_| |_| | \n",
      "| |X| |X| |X| |X| |X| |X| |_| |_| |_| |_| |_| |_| |_| |_| |_| |_| |_| |_| |_| |_| | \n",
      "| |_| |_| |_| |_| |_| |_| |_| |_| |_| |_| |_| |_| |_| |_| |_| |_| |_| |_| |_| |_| | \n",
      "| |_| |_| |_| |_| |_| |_| |_| |_| |_| |_| |_| |_| |_| |_| |_| |_| |_| |_| |_| |_| | \n",
      "| - - - - - - - - - - - - - - - - - - - - | \n",
      "\n"
     ]
    }
   ],
   "source": [
    "x1, y1 = 1, 2\n",
    "x2, y2 = 6, 2\n",
    "row1, col1 = y1, x1\n",
    "row2, col2 = y2, x2\n",
    "\n",
    "canvas.create_line(row1, col1, row2, col2, value)\n",
    "print(canvas)"
   ]
  },
  {
   "cell_type": "code",
   "execution_count": 18,
   "id": "b8c96fb7",
   "metadata": {},
   "outputs": [
    {
     "name": "stdout",
     "output_type": "stream",
     "text": [
      "| - - - - - - - - - - - - - - - - - - - - | \n",
      "| |_| |_| |_| |_| |_| |_| |_| |_| |_| |_| |_| |_| |_| |_| |_| |_| |_| |_| |_| |_| | \n",
      "| |X| |X| |X| |X| |X| |X| |_| |_| |_| |_| |_| |_| |_| |_| |_| |_| |_| |_| |_| |_| | \n",
      "| |_| |_| |_| |_| |_| |X| |_| |_| |_| |_| |_| |_| |_| |_| |_| |_| |_| |_| |_| |_| | \n",
      "| |_| |_| |_| |_| |_| |X| |_| |_| |_| |_| |_| |_| |_| |_| |_| |_| |_| |_| |_| |_| | \n",
      "| - - - - - - - - - - - - - - - - - - - - | \n",
      "\n"
     ]
    }
   ],
   "source": [
    "x1, y1 = 6, 3\n",
    "x2, y2 = 6, 4\n",
    "row1, col1 = y1, x1\n",
    "row2, col2 = y2, x2\n",
    "\n",
    "canvas.create_line(row1, col1, row2, col2, value)\n",
    "print(canvas)"
   ]
  },
  {
   "cell_type": "markdown",
   "id": "331e19c5",
   "metadata": {},
   "source": [
    "## Draw a rectangle"
   ]
  },
  {
   "cell_type": "code",
   "execution_count": 19,
   "id": "fd8833d9",
   "metadata": {},
   "outputs": [
    {
     "name": "stdout",
     "output_type": "stream",
     "text": [
      "| - - - - - - - - - - - - - - - - - - - - | \n",
      "| |_| |_| |_| |_| |_| |_| |_| |_| |_| |_| |_| |_| |_| |_| |_| |X| |X| |X| |X| |X| | \n",
      "| |X| |X| |X| |X| |X| |X| |_| |_| |_| |_| |_| |_| |_| |_| |_| |X| |_| |_| |_| |X| | \n",
      "| |_| |_| |_| |_| |_| |X| |_| |_| |_| |_| |_| |_| |_| |_| |_| |X| |X| |X| |X| |X| | \n",
      "| |_| |_| |_| |_| |_| |X| |_| |_| |_| |_| |_| |_| |_| |_| |_| |_| |_| |_| |_| |_| | \n",
      "| - - - - - - - - - - - - - - - - - - - - | \n",
      "\n"
     ]
    }
   ],
   "source": [
    "x1, y1 = 16, 1\n",
    "x2, y2 = 20, 3\n",
    "row1, col1 = y1, x1\n",
    "row2, col2 = y2, x2\n",
    "\n",
    "canvas.create_rectangle(row1, col1, row2, col2, value)\n",
    "print(canvas)"
   ]
  },
  {
   "cell_type": "markdown",
   "id": "eb248348",
   "metadata": {},
   "source": [
    "## Bucket fill"
   ]
  },
  {
   "cell_type": "code",
   "execution_count": 20,
   "id": "b8e4a21d",
   "metadata": {},
   "outputs": [
    {
     "name": "stdout",
     "output_type": "stream",
     "text": [
      "| - - - - - - - - - - - - - - - - - - - - | \n",
      "| |O| |O| |O| |O| |O| |O| |O| |O| |O| |O| |O| |O| |O| |O| |O| |X| |X| |X| |X| |X| | \n",
      "| |X| |X| |X| |X| |X| |X| |O| |O| |O| |O| |O| |O| |O| |O| |O| |X| |_| |_| |_| |X| | \n",
      "| |_| |_| |_| |_| |_| |X| |O| |O| |O| |O| |O| |O| |O| |O| |O| |X| |X| |X| |X| |X| | \n",
      "| |_| |_| |_| |_| |_| |X| |O| |O| |O| |O| |O| |O| |O| |O| |O| |O| |O| |O| |O| |O| | \n",
      "| - - - - - - - - - - - - - - - - - - - - | \n",
      "\n"
     ]
    }
   ],
   "source": [
    "x, y = 10, 3\n",
    "row, col = y, x\n",
    "color = '|O|'\n",
    "\n",
    "canvas.bucket_fill(row, col, color)\n",
    "print(canvas)"
   ]
  }
 ],
 "metadata": {
  "kernelspec": {
   "display_name": "Python 3 (ipykernel)",
   "language": "python",
   "name": "python3"
  },
  "language_info": {
   "codemirror_mode": {
    "name": "ipython",
    "version": 3
   },
   "file_extension": ".py",
   "mimetype": "text/x-python",
   "name": "python",
   "nbconvert_exporter": "python",
   "pygments_lexer": "ipython3",
   "version": "3.9.7"
  }
 },
 "nbformat": 4,
 "nbformat_minor": 5
}
