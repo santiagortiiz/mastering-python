{
 "cells": [
  {
   "cell_type": "markdown",
   "id": "d9d62cf4",
   "metadata": {},
   "source": [
    "# Arrays"
   ]
  },
  {
   "cell_type": "markdown",
   "id": "78586e0e",
   "metadata": {},
   "source": [
    "## Features\n",
    "\n",
    "- Limit capacity (defined at creation time)\n",
    "- Can not modify it's shape\n",
    "- Can not add or remove positions\n",
    "- Could have multiple dimensions (1, 2, 3... n)\n",
    "- Arrays are a type of lists, but lists are not a type of arrays\n",
    "- Python has an Array module but is based on lists, so it does not allow storing all types of data"
   ]
  },
  {
   "cell_type": "code",
   "execution_count": 1,
   "id": "aa57c10f",
   "metadata": {},
   "outputs": [],
   "source": [
    "import random\n",
    "from functools import reduce"
   ]
  },
  {
   "cell_type": "markdown",
   "id": "e6ed3f78",
   "metadata": {},
   "source": [
    "### 1D Array"
   ]
  },
  {
   "cell_type": "code",
   "execution_count": 2,
   "id": "a2ad5e8b",
   "metadata": {},
   "outputs": [],
   "source": [
    "class Array:\n",
    "    \n",
    "    def __init__(self, capacity, fill_value=None):\n",
    "        self.items = list()\n",
    "\n",
    "        # Set default items\n",
    "        for i in range(capacity):\n",
    "            self.items.append(fill_value)\n",
    "\n",
    "    def __len__(self):\n",
    "        return len(self.items)\n",
    "\n",
    "    def __str__(self):\n",
    "        return str(self.items)\n",
    "\n",
    "    def __iter__(self):\n",
    "        return iter(self.items)\n",
    "\n",
    "    def __getitem__(self, index):\n",
    "        return self.items[index]\n",
    "\n",
    "    def __setitem__(self, index, new_item):\n",
    "        self.items[index] = new_item\n",
    "\n",
    "    def __populate__(self, min_value, max_value):\n",
    "        for i in range(self.__len__()):\n",
    "             self.__setitem__(i, random.randint(min_value, max_value))\n",
    "        return self.__str__()\n",
    "\n",
    "    def __sum__(self):\n",
    "        return reduce(lambda current_item, next_item: current_item+next_item, self.items)"
   ]
  },
  {
   "cell_type": "code",
   "execution_count": 3,
   "id": "3bb59f72",
   "metadata": {},
   "outputs": [],
   "source": [
    "array = Array(5)"
   ]
  },
  {
   "cell_type": "code",
   "execution_count": 4,
   "id": "13a1af05",
   "metadata": {},
   "outputs": [
    {
     "data": {
      "text/plain": [
       "'[31, 61, 8, 57, 26]'"
      ]
     },
     "execution_count": 4,
     "metadata": {},
     "output_type": "execute_result"
    }
   ],
   "source": [
    "array.__populate__(5,100)"
   ]
  },
  {
   "cell_type": "code",
   "execution_count": 5,
   "id": "7619499f",
   "metadata": {},
   "outputs": [
    {
     "data": {
      "text/plain": [
       "5"
      ]
     },
     "execution_count": 5,
     "metadata": {},
     "output_type": "execute_result"
    }
   ],
   "source": [
    "len(array)"
   ]
  },
  {
   "cell_type": "code",
   "execution_count": 6,
   "id": "d5b0ef4d",
   "metadata": {},
   "outputs": [
    {
     "data": {
      "text/plain": [
       "'[31, 61, 8, 57, 26]'"
      ]
     },
     "execution_count": 6,
     "metadata": {},
     "output_type": "execute_result"
    }
   ],
   "source": [
    "str(array)"
   ]
  },
  {
   "cell_type": "code",
   "execution_count": 7,
   "id": "4d5f08a2",
   "metadata": {},
   "outputs": [
    {
     "name": "stdout",
     "output_type": "stream",
     "text": [
      "[0, 1, 2, 3, 4]\n"
     ]
    }
   ],
   "source": [
    "for i in range(5):\n",
    "    array[i] = i\n",
    "print(array)"
   ]
  },
  {
   "cell_type": "code",
   "execution_count": 8,
   "id": "8f92c99c",
   "metadata": {},
   "outputs": [
    {
     "data": {
      "text/plain": [
       "4"
      ]
     },
     "execution_count": 8,
     "metadata": {},
     "output_type": "execute_result"
    }
   ],
   "source": [
    "array[4]"
   ]
  },
  {
   "cell_type": "code",
   "execution_count": 9,
   "id": "62d5c334",
   "metadata": {},
   "outputs": [
    {
     "data": {
      "text/plain": [
       "[0, 1, 2, 3, 4]"
      ]
     },
     "execution_count": 9,
     "metadata": {},
     "output_type": "execute_result"
    }
   ],
   "source": [
    "[i for i in array.__iter__()]"
   ]
  },
  {
   "cell_type": "markdown",
   "id": "173b3fc2",
   "metadata": {},
   "source": [
    "### 2D Array"
   ]
  },
  {
   "cell_type": "code",
   "execution_count": 10,
   "id": "05d20732",
   "metadata": {},
   "outputs": [],
   "source": [
    "class Grid():\n",
    "    \n",
    "    def __init__(self, rows, columns, fill_value=None):\n",
    "        \n",
    "        # Defines the rows of the array\n",
    "        self.data = Array(rows)\n",
    "        \n",
    "        # Defines the columns of the array and set their default values\n",
    "        for row in range(rows):\n",
    "            self.data[row] = Array(columns, fill_value=fill_value)\n",
    "\n",
    "    def get_height(self):\n",
    "        return len(self.data)\n",
    "\n",
    "    def get_width(self):\n",
    "        return len(self.data[0])\n",
    "\n",
    "    def __getitem__(self, row, column):\n",
    "        return self.data[row][column]\n",
    "\n",
    "    def __str__(self):\n",
    "        string = \"\"\n",
    "\n",
    "        for row in range(self.get_height()):\n",
    "            for col in range(self.get_width()):\n",
    "                string += str(self.data[row][col]) + \" \"\n",
    "\n",
    "            string += \"\\n\"\n",
    "\n",
    "        return str(string)\n",
    "\n",
    "    def __populate__(self, min_value, max_value):\n",
    "        for row in range(self.get_height()):\n",
    "            for column in range(self.get_width()):\n",
    "                self.data[row][column] = random.randint(min_value, max_value)\n",
    "                \n",
    "        print(self)"
   ]
  },
  {
   "cell_type": "code",
   "execution_count": 11,
   "id": "0419ecce",
   "metadata": {},
   "outputs": [],
   "source": [
    "grid = Grid(3, 3)"
   ]
  },
  {
   "cell_type": "code",
   "execution_count": 12,
   "id": "b2c413de",
   "metadata": {},
   "outputs": [
    {
     "name": "stdout",
     "output_type": "stream",
     "text": [
      "5 74 55 \n",
      "84 15 23 \n",
      "81 70 78 \n",
      "\n"
     ]
    }
   ],
   "source": [
    "grid.__populate__(1, 100)"
   ]
  }
 ],
 "metadata": {
  "kernelspec": {
   "display_name": "Python 3 (ipykernel)",
   "language": "python",
   "name": "python3"
  },
  "language_info": {
   "codemirror_mode": {
    "name": "ipython",
    "version": 3
   },
   "file_extension": ".py",
   "mimetype": "text/x-python",
   "name": "python",
   "nbconvert_exporter": "python",
   "pygments_lexer": "ipython3",
   "version": "3.9.7"
  }
 },
 "nbformat": 4,
 "nbformat_minor": 5
}
