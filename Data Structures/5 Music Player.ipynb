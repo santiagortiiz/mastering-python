{
 "cells": [
  {
   "cell_type": "code",
   "execution_count": 1,
   "id": "ec75622d",
   "metadata": {},
   "outputs": [],
   "source": [
    "from random import randint\n",
    "from time import sleep"
   ]
  },
  {
   "cell_type": "code",
   "execution_count": 2,
   "id": "287ef3ae",
   "metadata": {},
   "outputs": [],
   "source": [
    "class TwoWayNode:\n",
    "    \n",
    "    def __init__(self, data, previous=None, next=None):\n",
    "        self.data = data\n",
    "        self.previous = previous\n",
    "        self.next = next"
   ]
  },
  {
   "cell_type": "code",
   "execution_count": 3,
   "id": "2e9d7c27",
   "metadata": {},
   "outputs": [],
   "source": [
    "class Queue:\n",
    "    \n",
    "    def __init__(self):\n",
    "        self.head = None\n",
    "        self.tail = None\n",
    "        self.count = 0\n",
    "\n",
    "    def enqueue(self, data):\n",
    "        new_node = TwoWayNode(data, None, None)\n",
    "        \n",
    "        if self.head is None:\n",
    "            self.head = new_node\n",
    "            self.tail = self.head\n",
    "        else:\n",
    "            new_node.previous = self.tail\n",
    "            self.tail.next = new_node\n",
    "            self.tail = new_node\n",
    "        \n",
    "        self.count += 1\n",
    "    \n",
    "    def dequeue(self):\n",
    "        current = self.head\n",
    "\n",
    "        if self.count == 1:\n",
    "            self.count -= 1\n",
    "            self.head = None\n",
    "            self.tail = None\n",
    "\n",
    "        elif self.count > 1:\n",
    "            self.head = self.head.next\n",
    "            self.head.previous = None\n",
    "            self.count -= 1\n",
    "\n",
    "        return current.data\n",
    "        "
   ]
  },
  {
   "cell_type": "code",
   "execution_count": 5,
   "id": "b9edd70b",
   "metadata": {},
   "outputs": [],
   "source": [
    "class Track:\n",
    "    \n",
    "    def __init__(self, title=None):\n",
    "        self.title = title\n",
    "\n",
    "        # simulates the time to reproduce each song\n",
    "        self.length = randint(1, 2) "
   ]
  },
  {
   "cell_type": "code",
   "execution_count": 6,
   "id": "95aa016b",
   "metadata": {},
   "outputs": [],
   "source": [
    "class MediaPlayerQueue(Queue):\n",
    "    \n",
    "    def __init__(self):\n",
    "        super().__init__()\n",
    "        \n",
    "    def add_track(self, track):\n",
    "        self.enqueue(track)\n",
    "        \n",
    "    def play(self):\n",
    "        print(f\"Count: {self.count}\")\n",
    "        \n",
    "        while self.count > 0 and self.head is not None:\n",
    "            current_track_node = self.dequeue()\n",
    "            print(f\"Now playing: {current_track_node.title}\")\n",
    "            \n",
    "            sleep(current_track_node.length)"
   ]
  },
  {
   "cell_type": "code",
   "execution_count": 7,
   "id": "bf8dc380",
   "metadata": {},
   "outputs": [],
   "source": [
    "track_1 = Track('song_1')\n",
    "track_2 = Track('song_2')\n",
    "track_3 = Track('song_3')\n",
    "track_4 = Track('song_4')\n",
    "track_5 = Track('song_5')"
   ]
  },
  {
   "cell_type": "code",
   "execution_count": 8,
   "id": "10cd6b39",
   "metadata": {},
   "outputs": [],
   "source": [
    "media_player = MediaPlayerQueue()"
   ]
  },
  {
   "cell_type": "code",
   "execution_count": 9,
   "id": "33b5d0f9",
   "metadata": {},
   "outputs": [],
   "source": [
    "media_player.add_track(track_1)\n",
    "media_player.add_track(track_2)\n",
    "media_player.add_track(track_3)\n",
    "media_player.add_track(track_4)\n",
    "media_player.add_track(track_5)"
   ]
  },
  {
   "cell_type": "code",
   "execution_count": 10,
   "id": "18029407",
   "metadata": {},
   "outputs": [
    {
     "name": "stdout",
     "output_type": "stream",
     "text": [
      "Count: 5\n",
      "Now playing: song_1\n",
      "Now playing: song_2\n",
      "Now playing: song_3\n",
      "Now playing: song_4\n",
      "Now playing: song_5\n"
     ]
    }
   ],
   "source": [
    "media_player.play()"
   ]
  },
  {
   "cell_type": "code",
   "execution_count": null,
   "id": "d64469b0",
   "metadata": {},
   "outputs": [],
   "source": []
  }
 ],
 "metadata": {
  "kernelspec": {
   "display_name": "Python 3 (ipykernel)",
   "language": "python",
   "name": "python3"
  },
  "language_info": {
   "codemirror_mode": {
    "name": "ipython",
    "version": 3
   },
   "file_extension": ".py",
   "mimetype": "text/x-python",
   "name": "python",
   "nbconvert_exporter": "python",
   "pygments_lexer": "ipython3",
   "version": "3.9.7"
  }
 },
 "nbformat": 4,
 "nbformat_minor": 5
}
