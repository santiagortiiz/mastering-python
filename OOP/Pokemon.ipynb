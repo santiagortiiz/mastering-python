{
 "cells": [
  {
   "cell_type": "code",
   "execution_count": 53,
   "id": "422d4cf4",
   "metadata": {},
   "outputs": [],
   "source": [
    "import random"
   ]
  },
  {
   "cell_type": "code",
   "execution_count": 91,
   "id": "f0702f65",
   "metadata": {},
   "outputs": [],
   "source": [
    "class PokeBall:\n",
    "    \n",
    "    def __init__(self, pokeball_type):\n",
    "        if not pokeball_type in ['POKE_BALL', 'GREAT_BALL', 'ULTRA_BALL']:\n",
    "            raise Exception('The specified pokeball does not exists')\n",
    "        \n",
    "        self.pokeball_type = pokeball_type\n",
    "        \n",
    "    def get_catch_rate(self):\n",
    "        if self.pokeball_type == 'POKE_BALL':\n",
    "            N = random.randrange(255)\n",
    "            \n",
    "        elif self.pokeball_type == 'GREAT_BALL':\n",
    "            N = random.randrange(200)\n",
    "            \n",
    "        elif self.pokeball_type == 'ULTRA_BALL':\n",
    "            N = random.randrange(150)\n",
    "\n",
    "        return N"
   ]
  },
  {
   "cell_type": "code",
   "execution_count": 122,
   "id": "24e2acf3",
   "metadata": {},
   "outputs": [],
   "source": [
    "class Pokemon:\n",
    "    \n",
    "    def __init__(self, name, base_catch_rate):\n",
    "        self.name = name\n",
    "        self.base_catch_rate = base_catch_rate\n",
    "        self.status = 'HEALTHY'\n",
    "    \n",
    "    def set_status(self, status):\n",
    "        ''' Set the status of the pokemon '''\n",
    "        # Validates status options\n",
    "        choices = ['ASLEEP', 'FROZEN', 'PARALYZED', 'BURNED', 'POISONED']\n",
    "        \n",
    "        if status not in choices:\n",
    "            raise Exception('Invalid status')\n",
    "        \n",
    "        # Set Pokemon's status\n",
    "        self.status = status\n",
    "        \n",
    "\n",
    "    def catch_attempt(self, pokeball):\n",
    "        '''\n",
    "        Indicates whether the Pokemon is caught or not based on:\n",
    "            - Pokeball catch rate\n",
    "            - Pokemon's status\n",
    "        If the Pokemon is not caught, its catch rate is updated.\n",
    "        '''\n",
    "        \n",
    "        # pokeball catch rate\n",
    "        N = pokeball.get_catch_rate()\n",
    "        print(N)\n",
    "        \n",
    "        # status\n",
    "        asleep_frozen = self.status in ['ASLEEP', 'FROZEN']\n",
    "        paralyzed_burned_poisoned = self.status in ['PARALYZED', 'BURNED', 'POISONED']\n",
    "        \n",
    "        # catch_rate\n",
    "        condition_1 = asleep_frozen and N < 25\n",
    "        condition_2 = paralyzed_burned_poisoned and N < 12\n",
    "        \n",
    "        if condition_1 or condition_2:\n",
    "            caught = True\n",
    "        else:\n",
    "            catch_rate_modifier = 25/N\n",
    "            self.base_catch_rate += catch_rate_modifier\n",
    "            print(self.base_catch_rate)\n",
    "            caught = False\n",
    "        \n",
    "        return caught\n",
    "    "
   ]
  },
  {
   "cell_type": "code",
   "execution_count": 123,
   "id": "5034c07e",
   "metadata": {},
   "outputs": [],
   "source": [
    "pokeball = PokeBall(pokeball_type='ULTRA_BALL')"
   ]
  },
  {
   "cell_type": "code",
   "execution_count": 124,
   "id": "559ace2d",
   "metadata": {},
   "outputs": [],
   "source": [
    "pikachu = Pokemon('Pikachu', 35)"
   ]
  },
  {
   "cell_type": "code",
   "execution_count": 149,
   "id": "570f44fe",
   "metadata": {},
   "outputs": [
    {
     "name": "stdout",
     "output_type": "stream",
     "text": [
      "134\n",
      "70.06947347893762\n"
     ]
    },
    {
     "data": {
      "text/plain": [
       "False"
      ]
     },
     "execution_count": 149,
     "metadata": {},
     "output_type": "execute_result"
    }
   ],
   "source": [
    "pikachu.catch_attempt(pokeball)"
   ]
  },
  {
   "cell_type": "code",
   "execution_count": 153,
   "id": "74ee32ff",
   "metadata": {},
   "outputs": [
    {
     "name": "stdout",
     "output_type": "stream",
     "text": [
      "20\n"
     ]
    },
    {
     "data": {
      "text/plain": [
       "True"
      ]
     },
     "execution_count": 153,
     "metadata": {},
     "output_type": "execute_result"
    }
   ],
   "source": [
    "pikachu.catch_attempt(pokeball)"
   ]
  },
  {
   "cell_type": "code",
   "execution_count": 118,
   "id": "944cf865",
   "metadata": {},
   "outputs": [
    {
     "data": {
      "text/plain": [
       "35.47866759923063"
      ]
     },
     "execution_count": 118,
     "metadata": {},
     "output_type": "execute_result"
    }
   ],
   "source": [
    "pikachu.base_catch_rate"
   ]
  },
  {
   "cell_type": "code",
   "execution_count": 150,
   "id": "32f41b29",
   "metadata": {},
   "outputs": [],
   "source": [
    "pikachu.set_status('FROZEN')"
   ]
  },
  {
   "cell_type": "code",
   "execution_count": 120,
   "id": "7341ec22",
   "metadata": {},
   "outputs": [
    {
     "data": {
      "text/plain": [
       "'BURNED'"
      ]
     },
     "execution_count": 120,
     "metadata": {},
     "output_type": "execute_result"
    }
   ],
   "source": [
    "pikachu.status"
   ]
  },
  {
   "cell_type": "code",
   "execution_count": 121,
   "id": "80ed24ea",
   "metadata": {},
   "outputs": [
    {
     "data": {
      "text/plain": [
       "35.47866759923063"
      ]
     },
     "execution_count": 121,
     "metadata": {},
     "output_type": "execute_result"
    }
   ],
   "source": [
    "pikachu.base_catch_rate"
   ]
  },
  {
   "cell_type": "code",
   "execution_count": null,
   "id": "68b077f5",
   "metadata": {},
   "outputs": [],
   "source": []
  }
 ],
 "metadata": {
  "kernelspec": {
   "display_name": "Python 3 (ipykernel)",
   "language": "python",
   "name": "python3"
  },
  "language_info": {
   "codemirror_mode": {
    "name": "ipython",
    "version": 3
   },
   "file_extension": ".py",
   "mimetype": "text/x-python",
   "name": "python",
   "nbconvert_exporter": "python",
   "pygments_lexer": "ipython3",
   "version": "3.9.12"
  }
 },
 "nbformat": 4,
 "nbformat_minor": 5
}
