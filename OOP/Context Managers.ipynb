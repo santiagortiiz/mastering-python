{
 "cells": [
  {
   "cell_type": "markdown",
   "metadata": {},
   "source": [
    "# Context Managers"
   ]
  },
  {
   "cell_type": "code",
   "execution_count": 6,
   "metadata": {},
   "outputs": [],
   "source": [
    "class Pokemon:\n",
    "\n",
    "    def __init__(self, name):\n",
    "        self.name = name\n",
    "\n",
    "    def __enter__(self):\n",
    "        print('1. Enter')\n",
    "        return self\n",
    "\n",
    "    def __exit__(self, exc_type, exc_val, exc_tb):\n",
    "        \"\"\" Gives you the option to handle errors \"\"\"\n",
    "        print(f'{exc_type}, {exc_val}, {exc_tb}')\n",
    "\n",
    "    def run(self):\n",
    "        print('running')"
   ]
  },
  {
   "cell_type": "code",
   "execution_count": 13,
   "metadata": {},
   "outputs": [
    {
     "name": "stdout",
     "output_type": "stream",
     "text": [
      "1. Enter\n",
      "running\n",
      "None, None, None\n"
     ]
    }
   ],
   "source": [
    "with Pokemon('charmilion') as my_pokemon:\n",
    "    my_pokemon.run()"
   ]
  },
  {
   "cell_type": "code",
   "execution_count": 14,
   "metadata": {},
   "outputs": [
    {
     "name": "stdout",
     "output_type": "stream",
     "text": [
      "1. Enter\n",
      "running\n",
      "None, None, None\n"
     ]
    }
   ],
   "source": [
    "pokemon = Pokemon('chorizard')\n",
    "with pokemon as p:\n",
    "    p.run()"
   ]
  },
  {
   "cell_type": "markdown",
   "metadata": {},
   "source": [
    "# Error Handling"
   ]
  },
  {
   "cell_type": "code",
   "execution_count": 1,
   "metadata": {},
   "outputs": [],
   "source": [
    "class Pokemon:\n",
    "\n",
    "    def __init__(self, name):\n",
    "        self.name = name\n",
    "\n",
    "    def __enter__(self):\n",
    "        print('1. Enter')\n",
    "        return self\n",
    "\n",
    "    def __exit__(self, exc_type, exc_val, exc_tb):\n",
    "        \"\"\" Gives you the option to handle errors \"\"\"\n",
    "        print(f'{exc_type}, {exc_val}, {exc_tb}')\n",
    "\n",
    "        if exc_type is ValueError:\n",
    "            print('2. Ignore Exception')\n",
    "            return True\n",
    "        elif exc_type is not None:\n",
    "            print('3. Raise exception')\n",
    "            return False\n",
    "\n",
    "    def run(self):\n",
    "        print('Running')"
   ]
  },
  {
   "cell_type": "code",
   "execution_count": 6,
   "metadata": {},
   "outputs": [
    {
     "name": "stdout",
     "output_type": "stream",
     "text": [
      "1. Enter\n",
      "<class 'Exception'>, Something bad happended, <traceback object at 0x000002A2D0AEC340>\n",
      "3. Raise exception\n"
     ]
    },
    {
     "ename": "Exception",
     "evalue": "Something bad happended",
     "output_type": "error",
     "traceback": [
      "\u001b[1;31m---------------------------------------------------------------------------\u001b[0m",
      "\u001b[1;31mException\u001b[0m                                 Traceback (most recent call last)",
      "\u001b[1;32mc:\\Users\\Santiago_Ortiz\\mastering-python\\OOP\\Context Managers.ipynb Cell 7\u001b[0m in \u001b[0;36m<cell line: 1>\u001b[1;34m()\u001b[0m\n\u001b[0;32m      <a href='vscode-notebook-cell:/c%3A/Users/Santiago_Ortiz/mastering-python/OOP/Context%20Managers.ipynb#W6sZmlsZQ%3D%3D?line=0'>1</a>\u001b[0m \u001b[39mwith\u001b[39;00m Pokemon(\u001b[39m'\u001b[39m\u001b[39mcharmilion\u001b[39m\u001b[39m'\u001b[39m) \u001b[39mas\u001b[39;00m my_pokemon:\n\u001b[1;32m----> <a href='vscode-notebook-cell:/c%3A/Users/Santiago_Ortiz/mastering-python/OOP/Context%20Managers.ipynb#W6sZmlsZQ%3D%3D?line=1'>2</a>\u001b[0m     \u001b[39mraise\u001b[39;00m \u001b[39mException\u001b[39;00m(\u001b[39m'\u001b[39m\u001b[39mSomething bad happended\u001b[39m\u001b[39m'\u001b[39m)\n\u001b[0;32m      <a href='vscode-notebook-cell:/c%3A/Users/Santiago_Ortiz/mastering-python/OOP/Context%20Managers.ipynb#W6sZmlsZQ%3D%3D?line=2'>3</a>\u001b[0m     my_pokemon\u001b[39m.\u001b[39mrun()\n",
      "\u001b[1;31mException\u001b[0m: Something bad happended"
     ]
    }
   ],
   "source": [
    "with Pokemon('charmilion') as my_pokemon:\n",
    "    raise Exception('Something bad happended')\n",
    "    my_pokemon.run()"
   ]
  },
  {
   "cell_type": "code",
   "execution_count": 2,
   "metadata": {},
   "outputs": [
    {
     "name": "stdout",
     "output_type": "stream",
     "text": [
      "1. Enter\n",
      "Running\n",
      "<class 'ValueError'>, Ignore this error, <traceback object at 0x00000253328219C0>\n",
      "2. Ignore Exception\n"
     ]
    }
   ],
   "source": [
    "with Pokemon('charmilion') as my_pokemon:\n",
    "    my_pokemon.run()\n",
    "    raise ValueError('Ignore this error')"
   ]
  },
  {
   "cell_type": "code",
   "execution_count": null,
   "metadata": {},
   "outputs": [],
   "source": []
  }
 ],
 "metadata": {
  "kernelspec": {
   "display_name": "Python 3.9.13 64-bit",
   "language": "python",
   "name": "python3"
  },
  "language_info": {
   "codemirror_mode": {
    "name": "ipython",
    "version": 3
   },
   "file_extension": ".py",
   "mimetype": "text/x-python",
   "name": "python",
   "nbconvert_exporter": "python",
   "pygments_lexer": "ipython3",
   "version": "3.11.6"
  },
  "orig_nbformat": 4,
  "vscode": {
   "interpreter": {
    "hash": "4d4e58afd13afe2b3fbfe86df77ca093c8534cab39407234a0fa2ee00983a445"
   }
  }
 },
 "nbformat": 4,
 "nbformat_minor": 2
}
