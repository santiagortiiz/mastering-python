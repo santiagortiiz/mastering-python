{
 "cells": [
  {
   "cell_type": "markdown",
   "id": "65283736",
   "metadata": {},
   "source": [
    "# Class, Instance and Static Methods"
   ]
  },
  {
   "cell_type": "code",
   "execution_count": 1,
   "id": "89a3faf4",
   "metadata": {},
   "outputs": [],
   "source": [
    "class Pokemon:\n",
    "    \n",
    "    evolved = False\n",
    "    \n",
    "    def __init__(self, state=None):\n",
    "        self._state = state\n",
    "        \n",
    "    # Instance method\n",
    "    def status(self):\n",
    "        ''' Do something based on instance attributes '''\n",
    "        if self._state is None:\n",
    "            return 'Healthy'\n",
    "        else:\n",
    "            return self._state\n",
    "        \n",
    "    @classmethod\n",
    "    def catch(cls):\n",
    "        ''' Returns an instance of the class with different attributes '''\n",
    "        return cls('Caught')\n",
    "    \n",
    "    @classmethod\n",
    "    def evolve(cls):\n",
    "        ''' Returns an instance of the class with different attributes '''\n",
    "        pokemon = cls()\n",
    "        pokemon.evolved = True\n",
    "        return pokemon\n",
    "    \n",
    "    @staticmethod\n",
    "    def speak(message):\n",
    "        ''' It is an isolated method that do not need access to the attributes of the instance '''\n",
    "        return message"
   ]
  },
  {
   "cell_type": "markdown",
   "id": "be784123",
   "metadata": {},
   "source": [
    "### Instance method"
   ]
  },
  {
   "cell_type": "code",
   "execution_count": 2,
   "id": "fcc4dcab",
   "metadata": {},
   "outputs": [
    {
     "data": {
      "text/plain": [
       "'Healthy'"
      ]
     },
     "execution_count": 2,
     "metadata": {},
     "output_type": "execute_result"
    }
   ],
   "source": [
    "pokemon = Pokemon()\n",
    "pokemon.status()"
   ]
  },
  {
   "cell_type": "markdown",
   "id": "98569613",
   "metadata": {},
   "source": [
    "### Class method"
   ]
  },
  {
   "cell_type": "code",
   "execution_count": 3,
   "id": "7e516950",
   "metadata": {},
   "outputs": [
    {
     "data": {
      "text/plain": [
       "(<__main__.Pokemon at 0x22bcd44eb50>, 'Healthy')"
      ]
     },
     "execution_count": 3,
     "metadata": {},
     "output_type": "execute_result"
    }
   ],
   "source": [
    "pokemon, pokemon.status()"
   ]
  },
  {
   "cell_type": "code",
   "execution_count": 4,
   "id": "24dcebea",
   "metadata": {},
   "outputs": [
    {
     "data": {
      "text/plain": [
       "(<__main__.Pokemon at 0x22bcd442520>, 'Caught')"
      ]
     },
     "execution_count": 4,
     "metadata": {},
     "output_type": "execute_result"
    }
   ],
   "source": [
    "# An instance of pokemon with different attributes\n",
    "another_instance = pokemon.catch()\n",
    "another_instance, another_instance.status()"
   ]
  },
  {
   "cell_type": "code",
   "execution_count": 5,
   "id": "d8c47cca",
   "metadata": {},
   "outputs": [
    {
     "data": {
      "text/plain": [
       "True"
      ]
     },
     "execution_count": 5,
     "metadata": {},
     "output_type": "execute_result"
    }
   ],
   "source": [
    "# Returning an instance with different attributes\n",
    "pokemon = Pokemon.evolve()\n",
    "pokemon.evolved"
   ]
  },
  {
   "cell_type": "markdown",
   "id": "f9d5bcc0",
   "metadata": {},
   "source": [
    "### Static method"
   ]
  },
  {
   "cell_type": "code",
   "execution_count": 6,
   "id": "360432db",
   "metadata": {},
   "outputs": [
    {
     "data": {
      "text/plain": [
       "'Grrr'"
      ]
     },
     "execution_count": 6,
     "metadata": {},
     "output_type": "execute_result"
    }
   ],
   "source": [
    "Pokemon.speak('Grrr')"
   ]
  }
 ],
 "metadata": {
  "kernelspec": {
   "display_name": "Python 3 (ipykernel)",
   "language": "python",
   "name": "python3"
  },
  "language_info": {
   "codemirror_mode": {
    "name": "ipython",
    "version": 3
   },
   "file_extension": ".py",
   "mimetype": "text/x-python",
   "name": "python",
   "nbconvert_exporter": "python",
   "pygments_lexer": "ipython3",
   "version": "3.9.7"
  }
 },
 "nbformat": 4,
 "nbformat_minor": 5
}
