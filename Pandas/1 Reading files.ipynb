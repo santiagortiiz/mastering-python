{
 "cells": [
  {
   "cell_type": "code",
   "execution_count": 33,
   "metadata": {},
   "outputs": [],
   "source": [
    "import pandas as pd\n",
    "import numpy as np\n",
    "import timeit"
   ]
  },
  {
   "cell_type": "markdown",
   "metadata": {},
   "source": [
    "# Reading Large CSV Files"
   ]
  },
  {
   "cell_type": "code",
   "execution_count": 59,
   "metadata": {},
   "outputs": [
    {
     "name": "stdout",
     "output_type": "stream",
     "text": [
      "0.01992740000014237\n",
      "<pandas.io.parsers.TextFileReader object at 0x000002499826F5E0>\n"
     ]
    }
   ],
   "source": [
    "path = \"D:/Laboral/Iota Impact/Projects/Datasets/long-and-lat-by-state.csv\"\n",
    "# path = \"D:/Laboral/Iota Impact/Projects/Datasets/final_triangulation_oscar_variables_fixed_pickle.csv\"\n",
    "\n",
    "sep = ';'\n",
    "chunksize=5\n",
    "\n",
    "start = timeit.default_timer()\n",
    "chunk = pd.read_csv(\n",
    "    path,\n",
    "    sep=sep,\n",
    "    index_col=False,\n",
    "#     engine='c',\n",
    "    dtype={\n",
    "        'Latitude': np.float16,\n",
    "        'Longitud': np.float16,\n",
    "        'Fip': np.uint8,\n",
    "    },\n",
    "    iterator=True,\n",
    "    chunksize=chunksize,\n",
    "    encoding='utf-8'\n",
    ")\n",
    "stop = timeit.default_timer()\n",
    "print(stop-start)\n",
    "print(chunk)"
   ]
  },
  {
   "cell_type": "code",
   "execution_count": 12,
   "metadata": {},
   "outputs": [
    {
     "data": {
      "text/html": [
       "<div>\n",
       "<style scoped>\n",
       "    .dataframe tbody tr th:only-of-type {\n",
       "        vertical-align: middle;\n",
       "    }\n",
       "\n",
       "    .dataframe tbody tr th {\n",
       "        vertical-align: top;\n",
       "    }\n",
       "\n",
       "    .dataframe thead th {\n",
       "        text-align: right;\n",
       "    }\n",
       "</style>\n",
       "<table border=\"1\" class=\"dataframe\">\n",
       "  <thead>\n",
       "    <tr style=\"text-align: right;\">\n",
       "      <th></th>\n",
       "      <th>State</th>\n",
       "      <th>Latitude</th>\n",
       "      <th>Longitud</th>\n",
       "      <th>Code</th>\n",
       "      <th>Fip</th>\n",
       "      <th>Name_stateuniversity</th>\n",
       "    </tr>\n",
       "  </thead>\n",
       "  <tbody>\n",
       "    <tr>\n",
       "      <th>0</th>\n",
       "      <td>Wisconsin, the USA</td>\n",
       "      <td>44,5</td>\n",
       "      <td>-89,5</td>\n",
       "      <td>WI</td>\n",
       "      <td>55</td>\n",
       "      <td>Wisconsin</td>\n",
       "    </tr>\n",
       "    <tr>\n",
       "      <th>1</th>\n",
       "      <td>West Virginia, the US</td>\n",
       "      <td>39</td>\n",
       "      <td>-80,5</td>\n",
       "      <td>WV</td>\n",
       "      <td>54</td>\n",
       "      <td>West Virginia</td>\n",
       "    </tr>\n",
       "    <tr>\n",
       "      <th>2</th>\n",
       "      <td>Vermont, the USA</td>\n",
       "      <td>44</td>\n",
       "      <td>-72,699997</td>\n",
       "      <td>VT</td>\n",
       "      <td>50</td>\n",
       "      <td>Vermont</td>\n",
       "    </tr>\n",
       "    <tr>\n",
       "      <th>3</th>\n",
       "      <td>Texas, the USA</td>\n",
       "      <td>31</td>\n",
       "      <td>-100</td>\n",
       "      <td>TX</td>\n",
       "      <td>48</td>\n",
       "      <td>Texas</td>\n",
       "    </tr>\n",
       "    <tr>\n",
       "      <th>4</th>\n",
       "      <td>South Dakota, the US</td>\n",
       "      <td>44,5</td>\n",
       "      <td>-100</td>\n",
       "      <td>SD</td>\n",
       "      <td>46</td>\n",
       "      <td>South Dakota</td>\n",
       "    </tr>\n",
       "  </tbody>\n",
       "</table>\n",
       "</div>"
      ],
      "text/plain": [
       "                   State Latitude    Longitud Code  Fip Name_stateuniversity\n",
       "0     Wisconsin, the USA     44,5       -89,5   WI   55            Wisconsin\n",
       "1  West Virginia, the US       39       -80,5   WV   54        West Virginia\n",
       "2       Vermont, the USA       44  -72,699997   VT   50              Vermont\n",
       "3         Texas, the USA       31        -100   TX   48                Texas\n",
       "4   South Dakota, the US     44,5        -100   SD   46         South Dakota"
      ]
     },
     "execution_count": 12,
     "metadata": {},
     "output_type": "execute_result"
    }
   ],
   "source": [
    "next(chunk)"
   ]
  },
  {
   "cell_type": "code",
   "execution_count": 13,
   "metadata": {},
   "outputs": [
    {
     "data": {
      "text/html": [
       "<div>\n",
       "<style scoped>\n",
       "    .dataframe tbody tr th:only-of-type {\n",
       "        vertical-align: middle;\n",
       "    }\n",
       "\n",
       "    .dataframe tbody tr th {\n",
       "        vertical-align: top;\n",
       "    }\n",
       "\n",
       "    .dataframe thead th {\n",
       "        text-align: right;\n",
       "    }\n",
       "</style>\n",
       "<table border=\"1\" class=\"dataframe\">\n",
       "  <thead>\n",
       "    <tr style=\"text-align: right;\">\n",
       "      <th></th>\n",
       "      <th>State</th>\n",
       "      <th>Latitude</th>\n",
       "      <th>Longitud</th>\n",
       "      <th>Code</th>\n",
       "      <th>Fip</th>\n",
       "      <th>Name_stateuniversity</th>\n",
       "    </tr>\n",
       "  </thead>\n",
       "  <tbody>\n",
       "    <tr>\n",
       "      <th>5</th>\n",
       "      <td>Rhode Island, the US</td>\n",
       "      <td>41,700001</td>\n",
       "      <td>-71,5</td>\n",
       "      <td>RI</td>\n",
       "      <td>44</td>\n",
       "      <td>Rhode Island</td>\n",
       "    </tr>\n",
       "    <tr>\n",
       "      <th>6</th>\n",
       "      <td>Oregon, the US</td>\n",
       "      <td>44</td>\n",
       "      <td>-120,5</td>\n",
       "      <td>OR</td>\n",
       "      <td>41</td>\n",
       "      <td>Oregon</td>\n",
       "    </tr>\n",
       "    <tr>\n",
       "      <th>7</th>\n",
       "      <td>New York, the US</td>\n",
       "      <td>43</td>\n",
       "      <td>-75</td>\n",
       "      <td>NY</td>\n",
       "      <td>36</td>\n",
       "      <td>New York</td>\n",
       "    </tr>\n",
       "    <tr>\n",
       "      <th>8</th>\n",
       "      <td>New Hampshire, the US</td>\n",
       "      <td>44</td>\n",
       "      <td>-71,5</td>\n",
       "      <td>NH</td>\n",
       "      <td>33</td>\n",
       "      <td>New Hampshire</td>\n",
       "    </tr>\n",
       "    <tr>\n",
       "      <th>9</th>\n",
       "      <td>Nebraska, the US</td>\n",
       "      <td>41,5</td>\n",
       "      <td>-100</td>\n",
       "      <td>NE</td>\n",
       "      <td>31</td>\n",
       "      <td>Nebraska</td>\n",
       "    </tr>\n",
       "  </tbody>\n",
       "</table>\n",
       "</div>"
      ],
      "text/plain": [
       "                   State   Latitude Longitud Code  Fip Name_stateuniversity\n",
       "5   Rhode Island, the US  41,700001    -71,5   RI   44         Rhode Island\n",
       "6         Oregon, the US         44   -120,5   OR   41               Oregon\n",
       "7       New York, the US         43      -75   NY   36             New York\n",
       "8  New Hampshire, the US         44    -71,5   NH   33        New Hampshire\n",
       "9       Nebraska, the US       41,5     -100   NE   31             Nebraska"
      ]
     },
     "execution_count": 13,
     "metadata": {},
     "output_type": "execute_result"
    }
   ],
   "source": [
    "next(chunk)"
   ]
  },
  {
   "cell_type": "code",
   "execution_count": 43,
   "metadata": {},
   "outputs": [
    {
     "data": {
      "text/plain": [
       "(str, numpy.float64, str, str)"
      ]
     },
     "execution_count": 43,
     "metadata": {},
     "output_type": "execute_result"
    }
   ],
   "source": [
    "type(chunk['Longitud'][0]), type(chunk['Latitude'][0]), type(chunk['Code'][0]), type(chunk['State'][0])"
   ]
  },
  {
   "cell_type": "markdown",
   "metadata": {},
   "source": [
    "# Reading Large Excel Files"
   ]
  },
  {
   "cell_type": "code",
   "execution_count": 58,
   "metadata": {},
   "outputs": [
    {
     "name": "stdout",
     "output_type": "stream",
     "text": [
      "0.0304270000001452\n",
      "                   State  Latitude  Longitud Code  Fip Name_stateuniversity\n",
      "0     Wisconsin, the USA      44.5  -89.5000   WI   55            Wisconsin\n",
      "1  West Virginia, the US      39.0  -80.5000   WV   54        West Virginia\n",
      "2       Vermont, the USA      44.0  -72.6875   VT   50              Vermont\n",
      "3         Texas, the USA      31.0 -100.0000   TX   48                Texas\n",
      "4   South Dakota, the US      44.5 -100.0000   SD   46         South Dakota\n"
     ]
    }
   ],
   "source": [
    "path = \"D:/Laboral/Iota Impact/Projects/Datasets/long-and-lat-by-state.xlsx\"\n",
    "chunksize=5\n",
    "\n",
    "start = timeit.default_timer()\n",
    "chunk = pd.read_excel(\n",
    "    path,\n",
    "#     index_col=False,\n",
    "    dtype={\n",
    "        'Latitude': np.float16,\n",
    "        'Longitud': np.float16,\n",
    "        'Fip': np.uint8,\n",
    "    },\n",
    "    skiprows=0,\n",
    "    nrows=chunksize\n",
    ")\n",
    "stop = timeit.default_timer()\n",
    "print(stop-start)\n",
    "print(chunk)"
   ]
  },
  {
   "cell_type": "code",
   "execution_count": 57,
   "metadata": {},
   "outputs": [
    {
     "data": {
      "text/plain": [
       "(numpy.float16, numpy.float16, numpy.uint8)"
      ]
     },
     "execution_count": 57,
     "metadata": {},
     "output_type": "execute_result"
    }
   ],
   "source": [
    "type(chunk['Longitud'][0]), type(chunk['Latitude'][0]), type(chunk['Fip'][0])"
   ]
  },
  {
   "cell_type": "code",
   "execution_count": 64,
   "metadata": {},
   "outputs": [
    {
     "data": {
      "text/plain": [
       "pandas.io.parsers.TextFileReader"
      ]
     },
     "execution_count": 64,
     "metadata": {},
     "output_type": "execute_result"
    }
   ],
   "source": [
    "type(chunk)"
   ]
  },
  {
   "cell_type": "code",
   "execution_count": 65,
   "metadata": {},
   "outputs": [
    {
     "ename": "NameError",
     "evalue": "name 'usecols' is not defined",
     "output_type": "error",
     "traceback": [
      "\u001b[1;31m---------------------------------------------------------------------------\u001b[0m",
      "\u001b[1;31mNameError\u001b[0m                                 Traceback (most recent call last)",
      "\u001b[1;32m<ipython-input-65-318b209d2b7e>\u001b[0m in \u001b[0;36m<module>\u001b[1;34m\u001b[0m\n\u001b[1;32m----> 1\u001b[1;33m \u001b[0musecols\u001b[0m\u001b[1;33m\u001b[0m\u001b[1;33m\u001b[0m\u001b[0m\n\u001b[0m",
      "\u001b[1;31mNameError\u001b[0m: name 'usecols' is not defined"
     ]
    }
   ],
   "source": [
    "usecols"
   ]
  },
  {
   "cell_type": "code",
   "execution_count": 67,
   "metadata": {},
   "outputs": [],
   "source": [
    "a = ['a', 'b', 'c']"
   ]
  },
  {
   "cell_type": "code",
   "execution_count": 70,
   "metadata": {},
   "outputs": [
    {
     "data": {
      "text/plain": [
       "True"
      ]
     },
     "execution_count": 70,
     "metadata": {},
     "output_type": "execute_result"
    }
   ],
   "source": [
    "'A' not in a"
   ]
  },
  {
   "cell_type": "code",
   "execution_count": 73,
   "metadata": {},
   "outputs": [
    {
     "data": {
      "text/plain": [
       "['b', 'c']"
      ]
     },
     "execution_count": 73,
     "metadata": {},
     "output_type": "execute_result"
    }
   ],
   "source": [
    "excluded_fields = ['a']\n",
    "[col for col in a if col not in excluded_fields]"
   ]
  },
  {
   "cell_type": "code",
   "execution_count": null,
   "metadata": {},
   "outputs": [],
   "source": []
  }
 ],
 "metadata": {
  "kernelspec": {
   "display_name": "Python 3",
   "language": "python",
   "name": "python3"
  },
  "language_info": {
   "codemirror_mode": {
    "name": "ipython",
    "version": 3
   },
   "file_extension": ".py",
   "mimetype": "text/x-python",
   "name": "python",
   "nbconvert_exporter": "python",
   "pygments_lexer": "ipython3",
   "version": "3.8.5"
  }
 },
 "nbformat": 4,
 "nbformat_minor": 4
}
