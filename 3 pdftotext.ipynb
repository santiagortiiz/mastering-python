{
 "cells": [
  {
   "cell_type": "code",
   "execution_count": 1,
   "metadata": {},
   "outputs": [
    {
     "name": "stdout",
     "output_type": "stream",
     "text": [
      "Collecting pdftotext\n",
      "Note: you may need to restart the kernel to use updated packages.  Using cached pdftotext-2.1.6.tar.gz (99 kB)\n",
      "Building wheels for collected packages: pdftotext\n",
      "  Building wheel for pdftotext (setup.py): started\n",
      "  Building wheel for pdftotext (setup.py): finished with status 'error'\n",
      "  Running setup.py clean for pdftotext\n",
      "Failed to build pdftotext\n",
      "Installing collected packages: pdftotext\n",
      "    Running setup.py install for pdftotext: started\n",
      "    Running setup.py install for pdftotext: finished with status 'error'\n",
      "\n"
     ]
    },
    {
     "name": "stderr",
     "output_type": "stream",
     "text": [
      "  ERROR: Command errored out with exit status 1:\n",
      "   command: 'C:\\Users\\SANTIAGO\\anaconda3\\python.exe' -u -c 'import sys, setuptools, tokenize; sys.argv[0] = '\"'\"'C:\\\\Users\\\\SANTIAGO\\\\AppData\\\\Local\\\\Temp\\\\pip-install-7xlskiag\\\\pdftotext\\\\setup.py'\"'\"'; __file__='\"'\"'C:\\\\Users\\\\SANTIAGO\\\\AppData\\\\Local\\\\Temp\\\\pip-install-7xlskiag\\\\pdftotext\\\\setup.py'\"'\"';f=getattr(tokenize, '\"'\"'open'\"'\"', open)(__file__);code=f.read().replace('\"'\"'\\r\\n'\"'\"', '\"'\"'\\n'\"'\"');f.close();exec(compile(code, __file__, '\"'\"'exec'\"'\"'))' bdist_wheel -d 'C:\\Users\\SANTIAGO\\AppData\\Local\\Temp\\pip-wheel-1hop5k95'\n",
      "       cwd: C:\\Users\\SANTIAGO\\AppData\\Local\\Temp\\pip-install-7xlskiag\\pdftotext\\\n",
      "  Complete output (71 lines):\n",
      "  WARNING: pkg-config not found--guessing at poppler version.\n",
      "           If the build fails, install pkg-config and try again.\n",
      "  WARNING: pkg-config not found--guessing at poppler version.\n",
      "           If the build fails, install pkg-config and try again.\n",
      "  running bdist_wheel\n",
      "  running build\n",
      "  running build_ext\n",
      "  building 'pdftotext' extension\n",
      "  creating build\n",
      "  creating build\\temp.win-amd64-3.8\n",
      "  creating build\\temp.win-amd64-3.8\\Release\n",
      "  C:\\Program Files (x86)\\Microsoft Visual Studio\\2019\\BuildTools\\VC\\Tools\\MSVC\\14.28.29333\\bin\\HostX86\\x64\\cl.exe /c /nologo /Ox /W3 /GL /DNDEBUG /MD -DPOPPLER_CPP_AT_LEAST_0_30_0=1 -DPOPPLER_CPP_AT_LEAST_0_58_0=1 -IC:\\Users\\SANTIAGO\\anaconda3\\Library\\include -IC:\\Users\\SANTIAGO\\anaconda3\\include -IC:\\Users\\SANTIAGO\\anaconda3\\include \"-IC:\\Program Files (x86)\\Microsoft Visual Studio\\2019\\BuildTools\\VC\\Tools\\MSVC\\14.28.29333\\include\" \"-IC:\\Program Files (x86)\\Windows Kits\\10\\include\\10.0.18362.0\\ucrt\" \"-IC:\\Program Files (x86)\\Windows Kits\\10\\include\\10.0.18362.0\\shared\" \"-IC:\\Program Files (x86)\\Windows Kits\\10\\include\\10.0.18362.0\\um\" \"-IC:\\Program Files (x86)\\Windows Kits\\10\\include\\10.0.18362.0\\winrt\" \"-IC:\\Program Files (x86)\\Windows Kits\\10\\include\\10.0.18362.0\\cppwinrt\" /EHsc /Tppdftotext.cpp /Fobuild\\temp.win-amd64-3.8\\Release\\pdftotext.obj -Wall\n",
      "  pdftotext.cpp\n",
      "  C:\\Program Files (x86)\\Windows Kits\\10\\include\\10.0.18362.0\\ucrt\\corecrt_io.h(49): warning C4820: '_finddata32i64_t': '4' bytes de relleno agregados despu‚s de miembro de datos '_finddata32i64_t::name'\n",
      "  C:\\Program Files (x86)\\Windows Kits\\10\\include\\10.0.18362.0\\ucrt\\corecrt_io.h(54): warning C4820: '_finddata64i32_t': '4' bytes de relleno agregados despu‚s de miembro de datos '_finddata64i32_t::attrib'\n",
      "  C:\\Program Files (x86)\\Windows Kits\\10\\include\\10.0.18362.0\\ucrt\\corecrt_io.h(64): warning C4820: '__finddata64_t': '4' bytes de relleno agregados despu‚s de miembro de datos '__finddata64_t::attrib'\n",
      "  C:\\Program Files (x86)\\Windows Kits\\10\\include\\10.0.18362.0\\ucrt\\corecrt_io.h(69): warning C4820: '__finddata64_t': '4' bytes de relleno agregados despu‚s de miembro de datos '__finddata64_t::name'\n",
      "  C:\\Program Files (x86)\\Windows Kits\\10\\include\\10.0.18362.0\\ucrt\\time.h(36): warning C4820: '_timespec64': '4' bytes de relleno agregados despu‚s de miembro de datos '_timespec64::tv_nsec'\n",
      "  C:\\Program Files (x86)\\Windows Kits\\10\\include\\10.0.18362.0\\ucrt\\time.h(43): warning C4820: 'timespec': '4' bytes de relleno agregados despu‚s de miembro de datos 'timespec::tv_nsec'\n",
      "  C:\\Users\\SANTIAGO\\anaconda3\\include\\object.h(182): warning C4820: '<unnamed-tag>': '4' bytes de relleno agregados despu‚s de miembro de datos '<unnamed-tag>::slot'\n",
      "  C:\\Users\\SANTIAGO\\anaconda3\\include\\object.h(190): warning C4820: '<unnamed-tag>': '4' bytes de relleno agregados despu‚s de miembro de datos '<unnamed-tag>::flags'\n",
      "  C:\\Users\\SANTIAGO\\anaconda3\\include\\cpython/object.h(212): warning C4820: '_typeobject': '4' bytes de relleno agregados despu‚s de miembro de datos '_typeobject::tp_flags'\n",
      "  C:\\Users\\SANTIAGO\\anaconda3\\include\\cpython/object.h(256): warning C4820: '_typeobject': '4' bytes de relleno agregados despu‚s de miembro de datos '_typeobject::tp_version_tag'\n",
      "  C:\\Users\\SANTIAGO\\anaconda3\\include\\bytearrayobject.h(30): warning C4820: '<unnamed-tag>': '4' bytes de relleno agregados despu‚s de miembro de datos '<unnamed-tag>::ob_exports'\n",
      "  C:\\Users\\SANTIAGO\\anaconda3\\include\\bytesobject.h(41): warning C4820: '<unnamed-tag>': '7' bytes de relleno agregados despu‚s de miembro de datos '<unnamed-tag>::ob_sval'\n",
      "  C:\\Users\\SANTIAGO\\anaconda3\\include\\bytesobject.h(165): warning C4820: '<unnamed-tag>': '4' bytes de relleno agregados despu‚s de miembro de datos '<unnamed-tag>::small_buffer'\n",
      "  C:\\Users\\SANTIAGO\\anaconda3\\include\\cpython/unicodeobject.h(221): warning C4820: '<unnamed-tag>': '4' bytes de relleno agregados despu‚s de miembro de datos '<unnamed-tag>::state'\n",
      "  C:\\Users\\SANTIAGO\\anaconda3\\include\\cpython/unicodeobject.h(625): warning C4820: '<unnamed-tag>': '2' bytes de relleno agregados despu‚s de miembro de datos '<unnamed-tag>::readonly'\n",
      "  C:\\Users\\SANTIAGO\\anaconda3\\include\\longintrepr.h(88): warning C4820: '_longobject': '4' bytes de relleno agregados despu‚s de miembro de datos '_longobject::ob_digit'\n",
      "  C:\\Users\\SANTIAGO\\anaconda3\\include\\memoryobject.h(45): warning C4820: '<unnamed-tag>': '4' bytes de relleno agregados despu‚s de miembro de datos '<unnamed-tag>::flags'\n",
      "  C:\\Users\\SANTIAGO\\anaconda3\\include\\memoryobject.h(62): warning C4820: '<unnamed-tag>': '4' bytes de relleno agregados despu‚s de miembro de datos '<unnamed-tag>::flags'\n",
      "  C:\\Users\\SANTIAGO\\anaconda3\\include\\methodobject.h(56): warning C4820: 'PyMethodDef': '4' bytes de relleno agregados despu‚s de miembro de datos 'PyMethodDef::ml_flags'\n",
      "  C:\\Users\\SANTIAGO\\anaconda3\\include\\moduleobject.h(63): warning C4820: 'PyModuleDef_Slot': '4' bytes de relleno agregados despu‚s de miembro de datos 'PyModuleDef_Slot::slot'\n",
      "  C:\\Users\\SANTIAGO\\anaconda3\\include\\cpython/initconfig.h(16): warning C4820: '<unnamed-tag>': '4' bytes de relleno agregados despu‚s de miembro de datos '<unnamed-tag>::_type'\n",
      "  C:\\Users\\SANTIAGO\\anaconda3\\include\\cpython/initconfig.h(19): warning C4820: '<unnamed-tag>': '4' bytes de relleno agregados despu‚s de miembro de datos '<unnamed-tag>::exitcode'\n",
      "  C:\\Users\\SANTIAGO\\anaconda3\\include\\cpython/initconfig.h(202): warning C4820: '<unnamed-tag>': '4' bytes de relleno agregados despu‚s de miembro de datos '<unnamed-tag>::parse_argv'\n",
      "  C:\\Users\\SANTIAGO\\anaconda3\\include\\cpython/initconfig.h(357): warning C4820: '<unnamed-tag>': '4' bytes de relleno agregados despu‚s de miembro de datos '<unnamed-tag>::legacy_windows_stdio'\n",
      "  C:\\Users\\SANTIAGO\\anaconda3\\include\\cpython/initconfig.h(367): warning C4820: '<unnamed-tag>': '4' bytes de relleno agregados despu‚s de miembro de datos '<unnamed-tag>::pathconfig_warnings'\n",
      "  C:\\Users\\SANTIAGO\\anaconda3\\include\\cpython/initconfig.h(374): warning C4820: '<unnamed-tag>': '4' bytes de relleno agregados despu‚s de miembro de datos '<unnamed-tag>::module_search_paths_set'\n",
      "  C:\\Users\\SANTIAGO\\anaconda3\\include\\cpython/initconfig.h(393): warning C4820: '<unnamed-tag>': '4' bytes de relleno agregados despu‚s de miembro de datos '<unnamed-tag>::skip_source_first_line'\n",
      "  C:\\Users\\SANTIAGO\\anaconda3\\include\\cpython/pystate.h(65): warning C4820: '_ts': '2' bytes de relleno agregados despu‚s de miembro de datos '_ts::recursion_critical'\n",
      "  C:\\Users\\SANTIAGO\\anaconda3\\include\\cpython/pystate.h(73): warning C4820: '_ts': '4' bytes de relleno agregados despu‚s de miembro de datos '_ts::use_tracing'\n",
      "  C:\\Users\\SANTIAGO\\anaconda3\\include\\cpython/pystate.h(96): warning C4820: '_ts': '4' bytes de relleno agregados despu‚s de miembro de datos '_ts::gilstate_counter'\n",
      "  C:\\Users\\SANTIAGO\\anaconda3\\include\\cpython/pystate.h(130): warning C4820: '_ts': '4' bytes de relleno agregados despu‚s de miembro de datos '_ts::coroutine_origin_tracking_depth'\n",
      "  C:\\Users\\SANTIAGO\\anaconda3\\include\\genobject.h(35): warning C4820: '<unnamed-tag>': '7' bytes de relleno agregados despu‚s de miembro de datos '<unnamed-tag>::gi_running'\n",
      "  C:\\Users\\SANTIAGO\\anaconda3\\include\\genobject.h(55): warning C4820: '<unnamed-tag>': '7' bytes de relleno agregados despu‚s de miembro de datos '<unnamed-tag>::cr_running'\n",
      "  C:\\Users\\SANTIAGO\\anaconda3\\include\\genobject.h(72): warning C4820: '<unnamed-tag>': '7' bytes de relleno agregados despu‚s de miembro de datos '<unnamed-tag>::ag_running'\n",
      "  C:\\Users\\SANTIAGO\\anaconda3\\include\\genobject.h(85): warning C4820: '<unnamed-tag>': '4' bytes de relleno agregados despu‚s de miembro de datos '<unnamed-tag>::ag_running_async'\n",
      "  C:\\Users\\SANTIAGO\\anaconda3\\include\\descrobject.h(29): warning C4820: 'wrapperbase': '4' bytes de relleno agregados despu‚s de miembro de datos 'wrapperbase::offset'\n",
      "  C:\\Users\\SANTIAGO\\anaconda3\\include\\descrobject.h(33): warning C4820: 'wrapperbase': '4' bytes de relleno agregados despu‚s de miembro de datos 'wrapperbase::flags'\n",
      "  C:\\Users\\SANTIAGO\\anaconda3\\include\\structseq.h(20): warning C4820: 'PyStructSequence_Desc': '4' bytes de relleno agregados despu‚s de miembro de datos 'PyStructSequence_Desc::n_in_sequence'\n",
      "  C:\\Users\\SANTIAGO\\anaconda3\\include\\cpython/pyerrors.h(19): warning C4820: '<unnamed-tag>': '7' bytes de relleno agregados despu‚s de miembro de datos '<unnamed-tag>::suppress_context'\n",
      "  C:\\Users\\SANTIAGO\\anaconda3\\include\\cpython/pyerrors.h(23): warning C4820: '<unnamed-tag>': '7' bytes de relleno agregados despu‚s de miembro de datos '<unnamed-tag>::suppress_context'\n",
      "  C:\\Users\\SANTIAGO\\anaconda3\\include\\cpython/pyerrors.h(33): warning C4820: '<unnamed-tag>': '7' bytes de relleno agregados despu‚s de miembro de datos '<unnamed-tag>::suppress_context'\n"
     ]
    },
    {
     "name": "stderr",
     "output_type": "stream",
     "text": [
      "  C:\\Users\\SANTIAGO\\anaconda3\\include\\cpython/pyerrors.h(40): warning C4820: '<unnamed-tag>': '7' bytes de relleno agregados despu‚s de miembro de datos '<unnamed-tag>::suppress_context'\n",
      "  C:\\Users\\SANTIAGO\\anaconda3\\include\\cpython/pyerrors.h(49): warning C4820: '<unnamed-tag>': '7' bytes de relleno agregados despu‚s de miembro de datos '<unnamed-tag>::suppress_context'\n",
      "  C:\\Users\\SANTIAGO\\anaconda3\\include\\cpython/pyerrors.h(54): warning C4820: '<unnamed-tag>': '7' bytes de relleno agregados despu‚s de miembro de datos '<unnamed-tag>::suppress_context'\n",
      "  C:\\Users\\SANTIAGO\\anaconda3\\include\\cpython/pyerrors.h(66): warning C4820: '<unnamed-tag>': '7' bytes de relleno agregados despu‚s de miembro de datos '<unnamed-tag>::suppress_context'\n",
      "  C:\\Users\\SANTIAGO\\anaconda3\\include\\modsupport.h(97): warning C4820: '_PyArg_Parser': '4' bytes de relleno agregados despu‚s de miembro de datos '_PyArg_Parser::max'\n",
      "  C:\\Users\\SANTIAGO\\anaconda3\\include\\code.h(32): warning C4820: '<unnamed-tag>': '4' bytes de relleno agregados despu‚s de miembro de datos '<unnamed-tag>::co_firstlineno'\n",
      "  C:\\Users\\SANTIAGO\\anaconda3\\include\\code.h(69): warning C4820: '<unnamed-tag>': '3' bytes de relleno agregados despu‚s de miembro de datos '<unnamed-tag>::co_opcache_size'\n",
      "  C:\\Users\\SANTIAGO\\anaconda3\\include\\import.h(138): warning C4820: '_frozen': '4' bytes de relleno agregados despu‚s de miembro de datos '_frozen::size'\n",
      "  C:\\Users\\SANTIAGO\\anaconda3\\include\\cpython/abstract.h(77): warning C4365: 'return': conversi¢n de 'size_t' en 'Py_ssize_t'; no coinciden signed/unsigned\n",
      "  C:\\Users\\SANTIAGO\\anaconda3\\include\\fileutils.h(73): warning C4820: '_Py_stat_struct': '4' bytes de relleno agregados despu‚s de miembro de datos '_Py_stat_struct::st_dev'\n",
      "  C:\\Users\\SANTIAGO\\anaconda3\\include\\fileutils.h(75): warning C4820: '_Py_stat_struct': '2' bytes de relleno agregados despu‚s de miembro de datos '_Py_stat_struct::st_mode'\n",
      "  C:\\Users\\SANTIAGO\\anaconda3\\include\\fileutils.h(79): warning C4820: '_Py_stat_struct': '4' bytes de relleno agregados despu‚s de miembro de datos '_Py_stat_struct::st_rdev'\n",
      "  C:\\Users\\SANTIAGO\\anaconda3\\include\\fileutils.h(82): warning C4820: '_Py_stat_struct': '4' bytes de relleno agregados despu‚s de miembro de datos '_Py_stat_struct::st_atime_nsec'\n",
      "  C:\\Users\\SANTIAGO\\anaconda3\\include\\fileutils.h(84): warning C4820: '_Py_stat_struct': '4' bytes de relleno agregados despu‚s de miembro de datos '_Py_stat_struct::st_mtime_nsec'\n",
      "  C:\\Users\\SANTIAGO\\anaconda3\\include\\fileutils.h(88): warning C4820: '_Py_stat_struct': '4' bytes de relleno agregados despu‚s de miembro de datos '_Py_stat_struct::st_reparse_tag'\n",
      "  pdftotext.cpp(3): fatal error C1083: No se puede abrir el archivo incluir: 'poppler/cpp/poppler-document.h': No such file or directory\n",
      "  error: command 'C:\\\\Program Files (x86)\\\\Microsoft Visual Studio\\\\2019\\\\BuildTools\\\\VC\\\\Tools\\\\MSVC\\\\14.28.29333\\\\bin\\\\HostX86\\\\x64\\\\cl.exe' failed with exit status 2\n",
      "  ----------------------------------------\n",
      "  ERROR: Failed building wheel for pdftotext\n",
      "    ERROR: Command errored out with exit status 1:\n",
      "     command: 'C:\\Users\\SANTIAGO\\anaconda3\\python.exe' -u -c 'import sys, setuptools, tokenize; sys.argv[0] = '\"'\"'C:\\\\Users\\\\SANTIAGO\\\\AppData\\\\Local\\\\Temp\\\\pip-install-7xlskiag\\\\pdftotext\\\\setup.py'\"'\"'; __file__='\"'\"'C:\\\\Users\\\\SANTIAGO\\\\AppData\\\\Local\\\\Temp\\\\pip-install-7xlskiag\\\\pdftotext\\\\setup.py'\"'\"';f=getattr(tokenize, '\"'\"'open'\"'\"', open)(__file__);code=f.read().replace('\"'\"'\\r\\n'\"'\"', '\"'\"'\\n'\"'\"');f.close();exec(compile(code, __file__, '\"'\"'exec'\"'\"'))' install --record 'C:\\Users\\SANTIAGO\\AppData\\Local\\Temp\\pip-record-gxlqel6g\\install-record.txt' --single-version-externally-managed --compile --install-headers 'C:\\Users\\SANTIAGO\\anaconda3\\Include\\pdftotext'\n",
      "         cwd: C:\\Users\\SANTIAGO\\AppData\\Local\\Temp\\pip-install-7xlskiag\\pdftotext\\\n",
      "    Complete output (71 lines):\n",
      "    WARNING: pkg-config not found--guessing at poppler version.\n",
      "             If the build fails, install pkg-config and try again.\n",
      "    WARNING: pkg-config not found--guessing at poppler version.\n",
      "             If the build fails, install pkg-config and try again.\n",
      "    running install\n",
      "    running build\n",
      "    running build_ext\n",
      "    building 'pdftotext' extension\n",
      "    creating build\n",
      "    creating build\\temp.win-amd64-3.8\n",
      "    creating build\\temp.win-amd64-3.8\\Release\n",
      "    C:\\Program Files (x86)\\Microsoft Visual Studio\\2019\\BuildTools\\VC\\Tools\\MSVC\\14.28.29333\\bin\\HostX86\\x64\\cl.exe /c /nologo /Ox /W3 /GL /DNDEBUG /MD -DPOPPLER_CPP_AT_LEAST_0_30_0=1 -DPOPPLER_CPP_AT_LEAST_0_58_0=1 -IC:\\Users\\SANTIAGO\\anaconda3\\Library\\include -IC:\\Users\\SANTIAGO\\anaconda3\\include -IC:\\Users\\SANTIAGO\\anaconda3\\include \"-IC:\\Program Files (x86)\\Microsoft Visual Studio\\2019\\BuildTools\\VC\\Tools\\MSVC\\14.28.29333\\include\" \"-IC:\\Program Files (x86)\\Windows Kits\\10\\include\\10.0.18362.0\\ucrt\" \"-IC:\\Program Files (x86)\\Windows Kits\\10\\include\\10.0.18362.0\\shared\" \"-IC:\\Program Files (x86)\\Windows Kits\\10\\include\\10.0.18362.0\\um\" \"-IC:\\Program Files (x86)\\Windows Kits\\10\\include\\10.0.18362.0\\winrt\" \"-IC:\\Program Files (x86)\\Windows Kits\\10\\include\\10.0.18362.0\\cppwinrt\" /EHsc /Tppdftotext.cpp /Fobuild\\temp.win-amd64-3.8\\Release\\pdftotext.obj -Wall\n",
      "    pdftotext.cpp\n",
      "    C:\\Program Files (x86)\\Windows Kits\\10\\include\\10.0.18362.0\\ucrt\\corecrt_io.h(49): warning C4820: '_finddata32i64_t': '4' bytes de relleno agregados despu‚s de miembro de datos '_finddata32i64_t::name'\n",
      "    C:\\Program Files (x86)\\Windows Kits\\10\\include\\10.0.18362.0\\ucrt\\corecrt_io.h(54): warning C4820: '_finddata64i32_t': '4' bytes de relleno agregados despu‚s de miembro de datos '_finddata64i32_t::attrib'\n",
      "    C:\\Program Files (x86)\\Windows Kits\\10\\include\\10.0.18362.0\\ucrt\\corecrt_io.h(64): warning C4820: '__finddata64_t': '4' bytes de relleno agregados despu‚s de miembro de datos '__finddata64_t::attrib'\n",
      "    C:\\Program Files (x86)\\Windows Kits\\10\\include\\10.0.18362.0\\ucrt\\corecrt_io.h(69): warning C4820: '__finddata64_t': '4' bytes de relleno agregados despu‚s de miembro de datos '__finddata64_t::name'\n",
      "    C:\\Program Files (x86)\\Windows Kits\\10\\include\\10.0.18362.0\\ucrt\\time.h(36): warning C4820: '_timespec64': '4' bytes de relleno agregados despu‚s de miembro de datos '_timespec64::tv_nsec'\n",
      "    C:\\Program Files (x86)\\Windows Kits\\10\\include\\10.0.18362.0\\ucrt\\time.h(43): warning C4820: 'timespec': '4' bytes de relleno agregados despu‚s de miembro de datos 'timespec::tv_nsec'\n",
      "    C:\\Users\\SANTIAGO\\anaconda3\\include\\object.h(182): warning C4820: '<unnamed-tag>': '4' bytes de relleno agregados despu‚s de miembro de datos '<unnamed-tag>::slot'\n",
      "    C:\\Users\\SANTIAGO\\anaconda3\\include\\object.h(190): warning C4820: '<unnamed-tag>': '4' bytes de relleno agregados despu‚s de miembro de datos '<unnamed-tag>::flags'\n",
      "    C:\\Users\\SANTIAGO\\anaconda3\\include\\cpython/object.h(212): warning C4820: '_typeobject': '4' bytes de relleno agregados despu‚s de miembro de datos '_typeobject::tp_flags'\n",
      "    C:\\Users\\SANTIAGO\\anaconda3\\include\\cpython/object.h(256): warning C4820: '_typeobject': '4' bytes de relleno agregados despu‚s de miembro de datos '_typeobject::tp_version_tag'\n",
      "    C:\\Users\\SANTIAGO\\anaconda3\\include\\bytearrayobject.h(30): warning C4820: '<unnamed-tag>': '4' bytes de relleno agregados despu‚s de miembro de datos '<unnamed-tag>::ob_exports'\n",
      "    C:\\Users\\SANTIAGO\\anaconda3\\include\\bytesobject.h(41): warning C4820: '<unnamed-tag>': '7' bytes de relleno agregados despu‚s de miembro de datos '<unnamed-tag>::ob_sval'\n",
      "    C:\\Users\\SANTIAGO\\anaconda3\\include\\bytesobject.h(165): warning C4820: '<unnamed-tag>': '4' bytes de relleno agregados despu‚s de miembro de datos '<unnamed-tag>::small_buffer'\n",
      "    C:\\Users\\SANTIAGO\\anaconda3\\include\\cpython/unicodeobject.h(221): warning C4820: '<unnamed-tag>': '4' bytes de relleno agregados despu‚s de miembro de datos '<unnamed-tag>::state'\n",
      "    C:\\Users\\SANTIAGO\\anaconda3\\include\\cpython/unicodeobject.h(625): warning C4820: '<unnamed-tag>': '2' bytes de relleno agregados despu‚s de miembro de datos '<unnamed-tag>::readonly'\n",
      "    C:\\Users\\SANTIAGO\\anaconda3\\include\\longintrepr.h(88): warning C4820: '_longobject': '4' bytes de relleno agregados despu‚s de miembro de datos '_longobject::ob_digit'\n",
      "    C:\\Users\\SANTIAGO\\anaconda3\\include\\memoryobject.h(45): warning C4820: '<unnamed-tag>': '4' bytes de relleno agregados despu‚s de miembro de datos '<unnamed-tag>::flags'\n",
      "    C:\\Users\\SANTIAGO\\anaconda3\\include\\memoryobject.h(62): warning C4820: '<unnamed-tag>': '4' bytes de relleno agregados despu‚s de miembro de datos '<unnamed-tag>::flags'\n",
      "    C:\\Users\\SANTIAGO\\anaconda3\\include\\methodobject.h(56): warning C4820: 'PyMethodDef': '4' bytes de relleno agregados despu‚s de miembro de datos 'PyMethodDef::ml_flags'\n",
      "    C:\\Users\\SANTIAGO\\anaconda3\\include\\moduleobject.h(63): warning C4820: 'PyModuleDef_Slot': '4' bytes de relleno agregados despu‚s de miembro de datos 'PyModuleDef_Slot::slot'\n",
      "    C:\\Users\\SANTIAGO\\anaconda3\\include\\cpython/initconfig.h(16): warning C4820: '<unnamed-tag>': '4' bytes de relleno agregados despu‚s de miembro de datos '<unnamed-tag>::_type'\n",
      "    C:\\Users\\SANTIAGO\\anaconda3\\include\\cpython/initconfig.h(19): warning C4820: '<unnamed-tag>': '4' bytes de relleno agregados despu‚s de miembro de datos '<unnamed-tag>::exitcode'\n",
      "    C:\\Users\\SANTIAGO\\anaconda3\\include\\cpython/initconfig.h(202): warning C4820: '<unnamed-tag>': '4' bytes de relleno agregados despu‚s de miembro de datos '<unnamed-tag>::parse_argv'\n",
      "    C:\\Users\\SANTIAGO\\anaconda3\\include\\cpython/initconfig.h(357): warning C4820: '<unnamed-tag>': '4' bytes de relleno agregados despu‚s de miembro de datos '<unnamed-tag>::legacy_windows_stdio'\n",
      "    C:\\Users\\SANTIAGO\\anaconda3\\include\\cpython/initconfig.h(367): warning C4820: '<unnamed-tag>': '4' bytes de relleno agregados despu‚s de miembro de datos '<unnamed-tag>::pathconfig_warnings'\n",
      "    C:\\Users\\SANTIAGO\\anaconda3\\include\\cpython/initconfig.h(374): warning C4820: '<unnamed-tag>': '4' bytes de relleno agregados despu‚s de miembro de datos '<unnamed-tag>::module_search_paths_set'\n",
      "    C:\\Users\\SANTIAGO\\anaconda3\\include\\cpython/initconfig.h(393): warning C4820: '<unnamed-tag>': '4' bytes de relleno agregados despu‚s de miembro de datos '<unnamed-tag>::skip_source_first_line'\n",
      "    C:\\Users\\SANTIAGO\\anaconda3\\include\\cpython/pystate.h(65): warning C4820: '_ts': '2' bytes de relleno agregados despu‚s de miembro de datos '_ts::recursion_critical'\n",
      "    C:\\Users\\SANTIAGO\\anaconda3\\include\\cpython/pystate.h(73): warning C4820: '_ts': '4' bytes de relleno agregados despu‚s de miembro de datos '_ts::use_tracing'\n",
      "    C:\\Users\\SANTIAGO\\anaconda3\\include\\cpython/pystate.h(96): warning C4820: '_ts': '4' bytes de relleno agregados despu‚s de miembro de datos '_ts::gilstate_counter'\n",
      "    C:\\Users\\SANTIAGO\\anaconda3\\include\\cpython/pystate.h(130): warning C4820: '_ts': '4' bytes de relleno agregados despu‚s de miembro de datos '_ts::coroutine_origin_tracking_depth'\n",
      "    C:\\Users\\SANTIAGO\\anaconda3\\include\\genobject.h(35): warning C4820: '<unnamed-tag>': '7' bytes de relleno agregados despu‚s de miembro de datos '<unnamed-tag>::gi_running'\n",
      "    C:\\Users\\SANTIAGO\\anaconda3\\include\\genobject.h(55): warning C4820: '<unnamed-tag>': '7' bytes de relleno agregados despu‚s de miembro de datos '<unnamed-tag>::cr_running'\n",
      "    C:\\Users\\SANTIAGO\\anaconda3\\include\\genobject.h(72): warning C4820: '<unnamed-tag>': '7' bytes de relleno agregados despu‚s de miembro de datos '<unnamed-tag>::ag_running'\n",
      "    C:\\Users\\SANTIAGO\\anaconda3\\include\\genobject.h(85): warning C4820: '<unnamed-tag>': '4' bytes de relleno agregados despu‚s de miembro de datos '<unnamed-tag>::ag_running_async'\n",
      "    C:\\Users\\SANTIAGO\\anaconda3\\include\\descrobject.h(29): warning C4820: 'wrapperbase': '4' bytes de relleno agregados despu‚s de miembro de datos 'wrapperbase::offset'\n",
      "    C:\\Users\\SANTIAGO\\anaconda3\\include\\descrobject.h(33): warning C4820: 'wrapperbase': '4' bytes de relleno agregados despu‚s de miembro de datos 'wrapperbase::flags'\n",
      "    C:\\Users\\SANTIAGO\\anaconda3\\include\\structseq.h(20): warning C4820: 'PyStructSequence_Desc': '4' bytes de relleno agregados despu‚s de miembro de datos 'PyStructSequence_Desc::n_in_sequence'\n",
      "    C:\\Users\\SANTIAGO\\anaconda3\\include\\cpython/pyerrors.h(19): warning C4820: '<unnamed-tag>': '7' bytes de relleno agregados despu‚s de miembro de datos '<unnamed-tag>::suppress_context'\n",
      "    C:\\Users\\SANTIAGO\\anaconda3\\include\\cpython/pyerrors.h(23): warning C4820: '<unnamed-tag>': '7' bytes de relleno agregados despu‚s de miembro de datos '<unnamed-tag>::suppress_context'\n",
      "    C:\\Users\\SANTIAGO\\anaconda3\\include\\cpython/pyerrors.h(33): warning C4820: '<unnamed-tag>': '7' bytes de relleno agregados despu‚s de miembro de datos '<unnamed-tag>::suppress_context'\n",
      "    C:\\Users\\SANTIAGO\\anaconda3\\include\\cpython/pyerrors.h(40): warning C4820: '<unnamed-tag>': '7' bytes de relleno agregados despu‚s de miembro de datos '<unnamed-tag>::suppress_context'\n",
      "    C:\\Users\\SANTIAGO\\anaconda3\\include\\cpython/pyerrors.h(49): warning C4820: '<unnamed-tag>': '7' bytes de relleno agregados despu‚s de miembro de datos '<unnamed-tag>::suppress_context'\n",
      "    C:\\Users\\SANTIAGO\\anaconda3\\include\\cpython/pyerrors.h(54): warning C4820: '<unnamed-tag>': '7' bytes de relleno agregados despu‚s de miembro de datos '<unnamed-tag>::suppress_context'\n",
      "    C:\\Users\\SANTIAGO\\anaconda3\\include\\cpython/pyerrors.h(66): warning C4820: '<unnamed-tag>': '7' bytes de relleno agregados despu‚s de miembro de datos '<unnamed-tag>::suppress_context'\n",
      "    C:\\Users\\SANTIAGO\\anaconda3\\include\\modsupport.h(97): warning C4820: '_PyArg_Parser': '4' bytes de relleno agregados despu‚s de miembro de datos '_PyArg_Parser::max'\n",
      "    C:\\Users\\SANTIAGO\\anaconda3\\include\\code.h(32): warning C4820: '<unnamed-tag>': '4' bytes de relleno agregados despu‚s de miembro de datos '<unnamed-tag>::co_firstlineno'\n",
      "    C:\\Users\\SANTIAGO\\anaconda3\\include\\code.h(69): warning C4820: '<unnamed-tag>': '3' bytes de relleno agregados despu‚s de miembro de datos '<unnamed-tag>::co_opcache_size'\n",
      "    C:\\Users\\SANTIAGO\\anaconda3\\include\\import.h(138): warning C4820: '_frozen': '4' bytes de relleno agregados despu‚s de miembro de datos '_frozen::size'\n",
      "    C:\\Users\\SANTIAGO\\anaconda3\\include\\cpython/abstract.h(77): warning C4365: 'return': conversi¢n de 'size_t' en 'Py_ssize_t'; no coinciden signed/unsigned\n",
      "    C:\\Users\\SANTIAGO\\anaconda3\\include\\fileutils.h(73): warning C4820: '_Py_stat_struct': '4' bytes de relleno agregados despu‚s de miembro de datos '_Py_stat_struct::st_dev'\n",
      "    C:\\Users\\SANTIAGO\\anaconda3\\include\\fileutils.h(75): warning C4820: '_Py_stat_struct': '2' bytes de relleno agregados despu‚s de miembro de datos '_Py_stat_struct::st_mode'\n",
      "    C:\\Users\\SANTIAGO\\anaconda3\\include\\fileutils.h(79): warning C4820: '_Py_stat_struct': '4' bytes de relleno agregados despu‚s de miembro de datos '_Py_stat_struct::st_rdev'\n",
      "    C:\\Users\\SANTIAGO\\anaconda3\\include\\fileutils.h(82): warning C4820: '_Py_stat_struct': '4' bytes de relleno agregados despu‚s de miembro de datos '_Py_stat_struct::st_atime_nsec'\n",
      "    C:\\Users\\SANTIAGO\\anaconda3\\include\\fileutils.h(84): warning C4820: '_Py_stat_struct': '4' bytes de relleno agregados despu‚s de miembro de datos '_Py_stat_struct::st_mtime_nsec'\n",
      "    C:\\Users\\SANTIAGO\\anaconda3\\include\\fileutils.h(88): warning C4820: '_Py_stat_struct': '4' bytes de relleno agregados despu‚s de miembro de datos '_Py_stat_struct::st_reparse_tag'\n",
      "    pdftotext.cpp(3): fatal error C1083: No se puede abrir el archivo incluir: 'poppler/cpp/poppler-document.h': No such file or directory\n",
      "    error: command 'C:\\\\Program Files (x86)\\\\Microsoft Visual Studio\\\\2019\\\\BuildTools\\\\VC\\\\Tools\\\\MSVC\\\\14.28.29333\\\\bin\\\\HostX86\\\\x64\\\\cl.exe' failed with exit status 2\n",
      "    ----------------------------------------\n",
      "ERROR: Command errored out with exit status 1: 'C:\\Users\\SANTIAGO\\anaconda3\\python.exe' -u -c 'import sys, setuptools, tokenize; sys.argv[0] = '\"'\"'C:\\\\Users\\\\SANTIAGO\\\\AppData\\\\Local\\\\Temp\\\\pip-install-7xlskiag\\\\pdftotext\\\\setup.py'\"'\"'; __file__='\"'\"'C:\\\\Users\\\\SANTIAGO\\\\AppData\\\\Local\\\\Temp\\\\pip-install-7xlskiag\\\\pdftotext\\\\setup.py'\"'\"';f=getattr(tokenize, '\"'\"'open'\"'\"', open)(__file__);code=f.read().replace('\"'\"'\\r\\n'\"'\"', '\"'\"'\\n'\"'\"');f.close();exec(compile(code, __file__, '\"'\"'exec'\"'\"'))' install --record 'C:\\Users\\SANTIAGO\\AppData\\Local\\Temp\\pip-record-gxlqel6g\\install-record.txt' --single-version-externally-managed --compile --install-headers 'C:\\Users\\SANTIAGO\\anaconda3\\Include\\pdftotext' Check the logs for full command output.\n"
     ]
    }
   ],
   "source": [
    "%pip install pdftotext"
   ]
  },
  {
   "cell_type": "code",
   "execution_count": 2,
   "metadata": {},
   "outputs": [
    {
     "ename": "ModuleNotFoundError",
     "evalue": "No module named 'pdftotext'",
     "output_type": "error",
     "traceback": [
      "\u001b[1;31m---------------------------------------------------------------------------\u001b[0m",
      "\u001b[1;31mModuleNotFoundError\u001b[0m                       Traceback (most recent call last)",
      "\u001b[1;32m<ipython-input-2-31776015ef36>\u001b[0m in \u001b[0;36m<module>\u001b[1;34m\u001b[0m\n\u001b[0;32m      1\u001b[0m \u001b[1;32mimport\u001b[0m \u001b[0mos\u001b[0m\u001b[1;33m\u001b[0m\u001b[1;33m\u001b[0m\u001b[0m\n\u001b[1;32m----> 2\u001b[1;33m \u001b[1;32mimport\u001b[0m \u001b[0mpdftotext\u001b[0m\u001b[1;33m\u001b[0m\u001b[1;33m\u001b[0m\u001b[0m\n\u001b[0m",
      "\u001b[1;31mModuleNotFoundError\u001b[0m: No module named 'pdftotext'"
     ]
    }
   ],
   "source": [
    "import os\n",
    "import pdftotext"
   ]
  },
  {
   "cell_type": "code",
   "execution_count": null,
   "metadata": {},
   "outputs": [],
   "source": [
    "dataset_path = 'D:/Academico/Bioingenieria/2021-1/Proyecto de Grado/OCR/Dataset'\n",
    "files = os.listdir(dataset_path)\n",
    "files"
   ]
  },
  {
   "cell_type": "code",
   "execution_count": null,
   "metadata": {},
   "outputs": [],
   "source": [
    "file = os.path.join(dataset_path, files[8])\n",
    "pdfFileObj = open(file, 'rb')"
   ]
  },
  {
   "cell_type": "code",
   "execution_count": null,
   "metadata": {},
   "outputs": [],
   "source": [
    "with open(\"lorem_ipsum.pdf\", \"rb\") as f:\n",
    "    pdf = pdftotext.PDF(f)"
   ]
  },
  {
   "cell_type": "code",
   "execution_count": null,
   "metadata": {},
   "outputs": [],
   "source": []
  },
  {
   "cell_type": "code",
   "execution_count": null,
   "metadata": {},
   "outputs": [],
   "source": []
  },
  {
   "cell_type": "code",
   "execution_count": null,
   "metadata": {},
   "outputs": [],
   "source": []
  }
 ],
 "metadata": {
  "kernelspec": {
   "display_name": "Python 3",
   "language": "python",
   "name": "python3"
  },
  "language_info": {
   "codemirror_mode": {
    "name": "ipython",
    "version": 3
   },
   "file_extension": ".py",
   "mimetype": "text/x-python",
   "name": "python",
   "nbconvert_exporter": "python",
   "pygments_lexer": "ipython3",
   "version": "3.8.5"
  }
 },
 "nbformat": 4,
 "nbformat_minor": 4
}
