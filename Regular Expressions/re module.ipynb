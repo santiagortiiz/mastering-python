{
 "cells": [
  {
   "cell_type": "code",
   "execution_count": 1,
   "id": "120da212",
   "metadata": {},
   "outputs": [],
   "source": [
    "import re"
   ]
  },
  {
   "cell_type": "code",
   "execution_count": 39,
   "id": "b1afdad9",
   "metadata": {},
   "outputs": [],
   "source": [
    "text = '|**|**|**|**|**|'"
   ]
  },
  {
   "cell_type": "code",
   "execution_count": 34,
   "id": "6ce6d8dc",
   "metadata": {},
   "outputs": [
    {
     "data": {
      "text/plain": [
       "'(?<=\\\\|)\\\\*+(?=\\\\|)'"
      ]
     },
     "execution_count": 34,
     "metadata": {},
     "output_type": "execute_result"
    }
   ],
   "source": [
    "pattern = r'(?<=\\|)\\*+(?=\\|)'\n",
    "pattern"
   ]
  },
  {
   "cell_type": "code",
   "execution_count": 35,
   "id": "0b4f1150",
   "metadata": {},
   "outputs": [
    {
     "data": {
      "text/plain": [
       "['**', '**', '**', '**', '**']"
      ]
     },
     "execution_count": 35,
     "metadata": {},
     "output_type": "execute_result"
    }
   ],
   "source": [
    "match = re.findall(pattern, text)\n",
    "match"
   ]
  },
  {
   "cell_type": "code",
   "execution_count": 38,
   "id": "d66b956e",
   "metadata": {},
   "outputs": [
    {
     "data": {
      "text/plain": [
       "10"
      ]
     },
     "execution_count": 38,
     "metadata": {},
     "output_type": "execute_result"
    }
   ],
   "source": [
    "items = 0\n",
    "for i in match:\n",
    "    items += len(i)\n",
    "items"
   ]
  }
 ],
 "metadata": {
  "kernelspec": {
   "display_name": "Python 3",
   "language": "python",
   "name": "python3"
  },
  "language_info": {
   "codemirror_mode": {
    "name": "ipython",
    "version": 3
   },
   "file_extension": ".py",
   "mimetype": "text/x-python",
   "name": "python",
   "nbconvert_exporter": "python",
   "pygments_lexer": "ipython3",
   "version": "3.9.13 (tags/v3.9.13:6de2ca5, May 17 2022, 16:36:42) [MSC v.1929 64 bit (AMD64)]"
  },
  "vscode": {
   "interpreter": {
    "hash": "4d4e58afd13afe2b3fbfe86df77ca093c8534cab39407234a0fa2ee00983a445"
   }
  }
 },
 "nbformat": 4,
 "nbformat_minor": 5
}
