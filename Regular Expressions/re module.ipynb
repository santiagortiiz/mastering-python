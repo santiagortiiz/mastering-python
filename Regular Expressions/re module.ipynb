{
 "cells": [
  {
   "cell_type": "code",
   "execution_count": 1,
   "id": "120da212",
   "metadata": {},
   "outputs": [],
   "source": [
    "import re"
   ]
  },
  {
   "cell_type": "code",
   "execution_count": 39,
   "id": "b1afdad9",
   "metadata": {},
   "outputs": [],
   "source": [
    "text = '|**|**|**|**|**|'"
   ]
  },
  {
   "cell_type": "code",
   "execution_count": 34,
   "id": "6ce6d8dc",
   "metadata": {},
   "outputs": [
    {
     "data": {
      "text/plain": [
       "'(?<=\\\\|)\\\\*+(?=\\\\|)'"
      ]
     },
     "execution_count": 34,
     "metadata": {},
     "output_type": "execute_result"
    }
   ],
   "source": [
    "pattern = r'(?<=\\|)\\*+(?=\\|)'\n",
    "pattern"
   ]
  },
  {
   "cell_type": "code",
   "execution_count": 35,
   "id": "0b4f1150",
   "metadata": {},
   "outputs": [
    {
     "data": {
      "text/plain": [
       "['**', '**', '**', '**', '**']"
      ]
     },
     "execution_count": 35,
     "metadata": {},
     "output_type": "execute_result"
    }
   ],
   "source": [
    "match = re.findall(pattern, text)\n",
    "match"
   ]
  },
  {
   "cell_type": "code",
   "execution_count": 38,
   "id": "d66b956e",
   "metadata": {},
   "outputs": [
    {
     "data": {
      "text/plain": [
       "10"
      ]
     },
     "execution_count": 38,
     "metadata": {},
     "output_type": "execute_result"
    }
   ],
   "source": [
    "items = 0\n",
    "for i in match:\n",
    "    items += len(i)\n",
    "items"
   ]
  },
  {
   "attachments": {},
   "cell_type": "markdown",
   "id": "9e0067e4",
   "metadata": {},
   "source": [
    "# Match"
   ]
  },
  {
   "cell_type": "code",
   "execution_count": 19,
   "id": "12bfc281",
   "metadata": {},
   "outputs": [],
   "source": [
    "def validate_well_id_pattern(well_id):\n",
    "    pattern = r\"^[a-zA-Z0-9]{1}[\\w,\\.-:|]{0,254}[a-zA-Z0-9]$\"\n",
    "    if re.match(pattern, well_id):\n",
    "        return True\n",
    "    return False\n",
    "\n",
    "def validate_wells(well_ids: list[str]):\n",
    "    passed = []\n",
    "    failed = []\n",
    "    for well_id in well_ids:\n",
    "        is_valid = validate_well_id_pattern(well_id)\n",
    "        passed.append(well_id) if is_valid else failed.append(well_id)\n",
    "\n",
    "    return {\"passed\": passed, \"failed\": failed}"
   ]
  },
  {
   "cell_type": "code",
   "execution_count": 21,
   "id": "5c7ad2b1",
   "metadata": {},
   "outputs": [
    {
     "data": {
      "text/plain": [
       "{'passed': ['Hello_World', 'a.b.c.d', 'path/to/file.txt'],\n",
       " 'failed': ['A9Z1.',\n",
       "  'abc123:',\n",
       "  'a',\n",
       "  'abcdefg*35',\n",
       "  ' starts_with_space',\n",
       "  'ends_with_special!',\n",
       "  'middle$character']}"
      ]
     },
     "execution_count": 21,
     "metadata": {},
     "output_type": "execute_result"
    }
   ],
   "source": [
    "well_ids =data = [\n",
    "    \"A9Z1.\",  # Cumple con los requerimientos\n",
    "    \"abc123:\",  # Cumple con los requerimientos\n",
    "    \"Hello_World\",  # Cumple con los requerimientos\n",
    "    \"a\",  # No cumple: longitud menor a 1\n",
    "    \"abcdefg*35\",  # No cumple: longitud mayor a 256\n",
    "    \" starts_with_space\",  # No cumple: no comienza con letra o número\n",
    "    \"ends_with_special!\",  # No cumple: no termina con letra o número\n",
    "    \"middle$character\",  # No cumple: contiene un carácter no permitido\n",
    "    \"a.b.c.d\",  # Cumple con los requerimientos\n",
    "    \"path/to/file.txt\"  # Cumple con los requerimientos\n",
    "]\n",
    "\n",
    "validate_wells(well_ids)"
   ]
  },
  {
   "cell_type": "code",
   "execution_count": 25,
   "id": "875d9fbc",
   "metadata": {},
   "outputs": [
    {
     "name": "stdout",
     "output_type": "stream",
     "text": [
      "ho\n"
     ]
    }
   ],
   "source": [
    "if [1]: print(\"ho\")"
   ]
  },
  {
   "cell_type": "code",
   "execution_count": null,
   "id": "ec4044b8",
   "metadata": {},
   "outputs": [],
   "source": []
  }
 ],
 "metadata": {
  "kernelspec": {
   "display_name": "Python 3",
   "language": "python",
   "name": "python3"
  },
  "language_info": {
   "codemirror_mode": {
    "name": "ipython",
    "version": 3
   },
   "file_extension": ".py",
   "mimetype": "text/x-python",
   "name": "python",
   "nbconvert_exporter": "python",
   "pygments_lexer": "ipython3",
   "version": "3.9.13"
  },
  "vscode": {
   "interpreter": {
    "hash": "4d4e58afd13afe2b3fbfe86df77ca093c8534cab39407234a0fa2ee00983a445"
   }
  }
 },
 "nbformat": 4,
 "nbformat_minor": 5
}
