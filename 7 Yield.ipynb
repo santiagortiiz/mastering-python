{
 "cells": [
  {
   "cell_type": "markdown",
   "metadata": {},
   "source": [
    "# Generator"
   ]
  },
  {
   "cell_type": "code",
   "execution_count": 24,
   "metadata": {},
   "outputs": [],
   "source": [
    "def yield_test(array):\n",
    "    yield array[0]\n",
    "    yield array[1]\n",
    "    yield array[2]"
   ]
  },
  {
   "cell_type": "code",
   "execution_count": 4,
   "metadata": {},
   "outputs": [],
   "source": [
    "array = ['a', 'b', 'c']\n",
    "my_func = yield_test(array) # my_func: generator"
   ]
  },
  {
   "cell_type": "code",
   "execution_count": 8,
   "metadata": {},
   "outputs": [
    {
     "data": {
      "text/plain": [
       "'a'"
      ]
     },
     "execution_count": 8,
     "metadata": {},
     "output_type": "execute_result"
    }
   ],
   "source": [
    "next(my_func)"
   ]
  },
  {
   "cell_type": "code",
   "execution_count": 9,
   "metadata": {},
   "outputs": [
    {
     "data": {
      "text/plain": [
       "'b'"
      ]
     },
     "execution_count": 9,
     "metadata": {},
     "output_type": "execute_result"
    }
   ],
   "source": [
    "next(my_func)"
   ]
  },
  {
   "cell_type": "code",
   "execution_count": 10,
   "metadata": {},
   "outputs": [
    {
     "data": {
      "text/plain": [
       "'c'"
      ]
     },
     "execution_count": 10,
     "metadata": {},
     "output_type": "execute_result"
    }
   ],
   "source": [
    "next(my_func)"
   ]
  },
  {
   "cell_type": "markdown",
   "metadata": {},
   "source": [
    "# Yield inside a loop"
   ]
  },
  {
   "cell_type": "code",
   "execution_count": 12,
   "metadata": {},
   "outputs": [],
   "source": [
    "def yield_test(array):\n",
    "    for i in array:\n",
    "        yield i"
   ]
  },
  {
   "cell_type": "code",
   "execution_count": 13,
   "metadata": {},
   "outputs": [],
   "source": [
    "array = ['a', 'b', 'c']\n",
    "my_func = yield_test(array)"
   ]
  },
  {
   "cell_type": "code",
   "execution_count": 14,
   "metadata": {},
   "outputs": [
    {
     "data": {
      "text/plain": [
       "'a'"
      ]
     },
     "execution_count": 14,
     "metadata": {},
     "output_type": "execute_result"
    }
   ],
   "source": [
    "result = next(my_func)\n"
   ]
  },
  {
   "cell_type": "code",
   "execution_count": 15,
   "metadata": {},
   "outputs": [
    {
     "data": {
      "text/plain": [
       "'b'"
      ]
     },
     "execution_count": 15,
     "metadata": {},
     "output_type": "execute_result"
    }
   ],
   "source": [
    "next(my_func)"
   ]
  },
  {
   "cell_type": "code",
   "execution_count": 16,
   "metadata": {},
   "outputs": [
    {
     "data": {
      "text/plain": [
       "'c'"
      ]
     },
     "execution_count": 16,
     "metadata": {},
     "output_type": "execute_result"
    }
   ],
   "source": [
    "next(my_func)"
   ]
  },
  {
   "cell_type": "markdown",
   "metadata": {},
   "source": [
    "# Big Data Application"
   ]
  },
  {
   "cell_type": "code",
   "execution_count": 25,
   "metadata": {},
   "outputs": [],
   "source": [
    "path = \"D:/Laboral/Vitalbox/Proyectos/Clientes/Katia/Procesamiento Carga Masiva/Archivos procesados/RECLAMACIONES_01012021_9973003.txt\""
   ]
  },
  {
   "cell_type": "code",
   "execution_count": 26,
   "metadata": {},
   "outputs": [],
   "source": [
    "def readLinesOf(path):\n",
    "    for line in open(path, 'r',encoding='utf-8'):\n",
    "        yield line"
   ]
  },
  {
   "cell_type": "code",
   "execution_count": 27,
   "metadata": {},
   "outputs": [],
   "source": [
    "lines = readLinesOf(path)"
   ]
  },
  {
   "cell_type": "code",
   "execution_count": 28,
   "metadata": {
    "scrolled": true
   },
   "outputs": [
    {
     "data": {
      "text/plain": [
       "'no_reclamacion|desc_estatus|cd_asegurado|cd_dependiente|afiliado|beneficiary_status|estatus_ht|fecha_enrolado|padecimiento|cd_cobertura|desc_cobertura|cd_diagnostico|cd_subgrupo_diagnostico|desc_agrupador_diagnostico|desc_diagnostico|desc_subgrupo_diagnostico|cd_empresa|desc_empresa|fecha_apertura|fecha_apertura_2|fecha_ingreso_hos|fecha_salida_hos|fecha_servicio|fecha_transaccion|cd_genero|desc_genero|edad|cd_cliente|cd_reclamante_salud|desc_especialidad_medico|desc_municipio|desc_pais|desc_provincia|desc_reclamante_salud|desc_subtipo_reclamante_salud|desc_tipo_reclamante_salud|desc_zona|cd_servicio_salud|desc_servicio_salud|cd_tipo_cobertura_salud|desc_tipo_cobertura_salud|agrupador_tipo_plan|desc_tipo_plan|cantidad|conteo_reclamaciones|monto_total_distribuido\\n'"
      ]
     },
     "execution_count": 28,
     "metadata": {},
     "output_type": "execute_result"
    }
   ],
   "source": [
    "next(lines)"
   ]
  },
  {
   "cell_type": "code",
   "execution_count": 21,
   "metadata": {},
   "outputs": [
    {
     "data": {
      "text/plain": [
       "'2017-96-94-3808824|AUTORIZACIONES SUPLEMENTARIEDAD AUD.|2244249|0|2244249-0|||||1084|SALA DE EMERGENCIAS||||||96|PRIMERA_ARS|5/31/2017|5/31/2017|1/1/1900|1/1/1900|5/31/2017|5/31/2017|F|FEMENINO|43|1674376|92|NO INFORMADO|SANTO DOMINGO OESTE|REPUBLICA DOMINICANA|SANTO DOMINGO|CENTRO MEDICO SANTOS AQUINO C POR A|CLINICA|NO MEDICO|SANTO DOMINGO|3|EMERGENCIA|7|CONSULTAS  EN EMERGENCIA|PDSS|PDSS|1|1|400\\n'"
      ]
     },
     "execution_count": 21,
     "metadata": {},
     "output_type": "execute_result"
    }
   ],
   "source": [
    "next(lines)"
   ]
  },
  {
   "cell_type": "code",
   "execution_count": 22,
   "metadata": {},
   "outputs": [
    {
     "data": {
      "text/plain": [
       "'2017-96-94-3808601|AUTORIZACIONES SUPLEMENTARIEDAD AUD.|2083717|1|2083717-1|||||25|BUN (UREA)||||||96|PRIMERA_ARS|5/31/2017|5/31/2017|1/1/1900|1/1/1900|5/31/2017|5/31/2017|F|FEMENINO|19|1674376|2128|NO INFORMADO|SANTIAGO|REPUBLICA DOMINICANA|SANTIAGO DE LOS CABALLEROS|CENCARCI CENTRO CARDIORENAL DEL CIBAO SRL|CLINICA|NO MEDICO|ZONA NORTE|1|AMBULATORIO|63|LABORATORIOS -  LIMITADOS|PDSS|PDSS|1|1|110.88\\n'"
      ]
     },
     "execution_count": 22,
     "metadata": {},
     "output_type": "execute_result"
    }
   ],
   "source": [
    "next(lines)"
   ]
  },
  {
   "cell_type": "code",
   "execution_count": null,
   "metadata": {},
   "outputs": [],
   "source": []
  }
 ],
 "metadata": {
  "kernelspec": {
   "display_name": "Python 3 (ipykernel)",
   "language": "python",
   "name": "python3"
  },
  "language_info": {
   "codemirror_mode": {
    "name": "ipython",
    "version": 3
   },
   "file_extension": ".py",
   "mimetype": "text/x-python",
   "name": "python",
   "nbconvert_exporter": "python",
   "pygments_lexer": "ipython3",
   "version": "3.9.7"
  }
 },
 "nbformat": 4,
 "nbformat_minor": 4
}
